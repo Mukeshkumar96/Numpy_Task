{
 "cells": [
  {
   "cell_type": "markdown",
   "metadata": {
    "id": "Goe1CIrqK_KK"
   },
   "source": [
    "# Numpy\n",
    "\n"
   ]
  },
  {
   "cell_type": "markdown",
   "metadata": {
    "id": "VW9_hhfwK_KR"
   },
   "source": [
    "#### 1. Import the numpy package under the name `np` (★☆☆) \n",
    "(**hint**: import … as …)"
   ]
  },
  {
   "cell_type": "code",
   "execution_count": 19,
   "metadata": {
    "id": "5t-jVDTNK_KS"
   },
   "outputs": [],
   "source": [
    "import numpy as np"
   ]
  },
  {
   "cell_type": "markdown",
   "metadata": {
    "id": "axr5hk5KK_KT"
   },
   "source": [
    "#### 2. Print the numpy version and the configuration (★☆☆) \n",
    "(**hint**: np.\\_\\_version\\_\\_, np.show\\_config)"
   ]
  },
  {
   "cell_type": "code",
   "execution_count": 20,
   "metadata": {
    "id": "mGw70pQWK_KU"
   },
   "outputs": [
    {
     "name": "stdout",
     "output_type": "stream",
     "text": [
      "1.20.3\n",
      "blas_mkl_info:\n",
      "    libraries = ['mkl_rt']\n",
      "    library_dirs = ['C:/Users/Mukes/anaconda3\\\\Library\\\\lib']\n",
      "    define_macros = [('SCIPY_MKL_H', None), ('HAVE_CBLAS', None)]\n",
      "    include_dirs = ['C:/Users/Mukes/anaconda3\\\\Library\\\\include']\n",
      "blas_opt_info:\n",
      "    libraries = ['mkl_rt']\n",
      "    library_dirs = ['C:/Users/Mukes/anaconda3\\\\Library\\\\lib']\n",
      "    define_macros = [('SCIPY_MKL_H', None), ('HAVE_CBLAS', None)]\n",
      "    include_dirs = ['C:/Users/Mukes/anaconda3\\\\Library\\\\include']\n",
      "lapack_mkl_info:\n",
      "    libraries = ['mkl_rt']\n",
      "    library_dirs = ['C:/Users/Mukes/anaconda3\\\\Library\\\\lib']\n",
      "    define_macros = [('SCIPY_MKL_H', None), ('HAVE_CBLAS', None)]\n",
      "    include_dirs = ['C:/Users/Mukes/anaconda3\\\\Library\\\\include']\n",
      "lapack_opt_info:\n",
      "    libraries = ['mkl_rt']\n",
      "    library_dirs = ['C:/Users/Mukes/anaconda3\\\\Library\\\\lib']\n",
      "    define_macros = [('SCIPY_MKL_H', None), ('HAVE_CBLAS', None)]\n",
      "    include_dirs = ['C:/Users/Mukes/anaconda3\\\\Library\\\\include']\n"
     ]
    }
   ],
   "source": [
    "print(np.__version__)\n",
    "np.show_config()"
   ]
  },
  {
   "cell_type": "markdown",
   "metadata": {
    "id": "RMUO6KztK_KV"
   },
   "source": [
    "#### 3. Create a null vector of size 10 (★☆☆) \n",
    "(**hint**: np.zeros)"
   ]
  },
  {
   "cell_type": "code",
   "execution_count": 21,
   "metadata": {
    "id": "Dr76N89kK_KW"
   },
   "outputs": [
    {
     "data": {
      "text/plain": [
       "array([0, 0, 0, 0, 0, 0, 0, 0, 0, 0])"
      ]
     },
     "execution_count": 21,
     "metadata": {},
     "output_type": "execute_result"
    }
   ],
   "source": [
    "a=np.zeros(10,dtype=int)\n",
    "a"
   ]
  },
  {
   "cell_type": "markdown",
   "metadata": {
    "id": "qLtjDrkeK_KX"
   },
   "source": [
    "#### 4.  How to find the memory size of any array (★☆☆) \n",
    "(**hint**: size, itemsize)"
   ]
  },
  {
   "cell_type": "code",
   "execution_count": 22,
   "metadata": {
    "id": "-GRUeJ6AK_KY"
   },
   "outputs": [
    {
     "data": {
      "text/plain": [
       "40"
      ]
     },
     "execution_count": 22,
     "metadata": {},
     "output_type": "execute_result"
    }
   ],
   "source": [
    "a.size*a.itemsize#size is array size and itemsize is the size of an element in the array"
   ]
  },
  {
   "cell_type": "markdown",
   "metadata": {
    "id": "9XEhF6fwK_KZ"
   },
   "source": [
    "#### 5.  How to get the documentation of the numpy add function from the command line? (★☆☆) \n",
    "(**hint**: np.info)"
   ]
  },
  {
   "cell_type": "code",
   "execution_count": 23,
   "metadata": {
    "id": "ODK7waMAK_Ka"
   },
   "outputs": [
    {
     "name": "stdout",
     "output_type": "stream",
     "text": [
      "add(x1, x2, /, out=None, *, where=True, casting='same_kind', order='K', dtype=None, subok=True[, signature, extobj])\n",
      "\n",
      "Add arguments element-wise.\n",
      "\n",
      "Parameters\n",
      "----------\n",
      "x1, x2 : array_like\n",
      "    The arrays to be added.\n",
      "    If ``x1.shape != x2.shape``, they must be broadcastable to a common\n",
      "    shape (which becomes the shape of the output).\n",
      "out : ndarray, None, or tuple of ndarray and None, optional\n",
      "    A location into which the result is stored. If provided, it must have\n",
      "    a shape that the inputs broadcast to. If not provided or None,\n",
      "    a freshly-allocated array is returned. A tuple (possible only as a\n",
      "    keyword argument) must have length equal to the number of outputs.\n",
      "where : array_like, optional\n",
      "    This condition is broadcast over the input. At locations where the\n",
      "    condition is True, the `out` array will be set to the ufunc result.\n",
      "    Elsewhere, the `out` array will retain its original value.\n",
      "    Note that if an uninitialized `out` array is created via the default\n",
      "    ``out=None``, locations within it where the condition is False will\n",
      "    remain uninitialized.\n",
      "**kwargs\n",
      "    For other keyword-only arguments, see the\n",
      "    :ref:`ufunc docs <ufuncs.kwargs>`.\n",
      "\n",
      "Returns\n",
      "-------\n",
      "add : ndarray or scalar\n",
      "    The sum of `x1` and `x2`, element-wise.\n",
      "    This is a scalar if both `x1` and `x2` are scalars.\n",
      "\n",
      "Notes\n",
      "-----\n",
      "Equivalent to `x1` + `x2` in terms of array broadcasting.\n",
      "\n",
      "Examples\n",
      "--------\n",
      ">>> np.add(1.0, 4.0)\n",
      "5.0\n",
      ">>> x1 = np.arange(9.0).reshape((3, 3))\n",
      ">>> x2 = np.arange(3.0)\n",
      ">>> np.add(x1, x2)\n",
      "array([[  0.,   2.,   4.],\n",
      "       [  3.,   5.,   7.],\n",
      "       [  6.,   8.,  10.]])\n",
      "\n",
      "The ``+`` operator can be used as a shorthand for ``np.add`` on ndarrays.\n",
      "\n",
      ">>> x1 = np.arange(9.0).reshape((3, 3))\n",
      ">>> x2 = np.arange(3.0)\n",
      ">>> x1 + x2\n",
      "array([[ 0.,  2.,  4.],\n",
      "       [ 3.,  5.,  7.],\n",
      "       [ 6.,  8., 10.]])\n"
     ]
    }
   ],
   "source": [
    "np.info(np.add)"
   ]
  },
  {
   "cell_type": "markdown",
   "metadata": {
    "id": "IrjA8O4nK_Ka"
   },
   "source": [
    "#### 6.  Create a null vector of size 10 but the fifth value which is 1 (★☆☆) \n",
    "(**hint**: array\\[4\\])"
   ]
  },
  {
   "cell_type": "code",
   "execution_count": 24,
   "metadata": {
    "id": "YXER5ea5K_Kb"
   },
   "outputs": [
    {
     "data": {
      "text/plain": [
       "array([0, 0, 0, 0, 1, 0, 0, 0, 0, 0])"
      ]
     },
     "execution_count": 24,
     "metadata": {},
     "output_type": "execute_result"
    }
   ],
   "source": [
    "a[4]=1\n",
    "a"
   ]
  },
  {
   "cell_type": "markdown",
   "metadata": {
    "id": "TCyPmcMOK_Kb"
   },
   "source": [
    "#### 7.  Create a vector with values ranging from 10 to 49 (★☆☆) \n",
    "(**hint**: np.arange)"
   ]
  },
  {
   "cell_type": "code",
   "execution_count": 25,
   "metadata": {
    "id": "0NzO8TURK_Kc"
   },
   "outputs": [
    {
     "data": {
      "text/plain": [
       "array([10, 11, 12, 13, 14, 15, 16, 17, 18, 19, 20, 21, 22, 23, 24, 25, 26,\n",
       "       27, 28, 29, 30, 31, 32, 33, 34, 35, 36, 37, 38, 39, 40, 41, 42, 43,\n",
       "       44, 45, 46, 47, 48])"
      ]
     },
     "execution_count": 25,
     "metadata": {},
     "output_type": "execute_result"
    }
   ],
   "source": [
    "b=np.arange(10,49)\n",
    "b"
   ]
  },
  {
   "cell_type": "markdown",
   "metadata": {
    "id": "NOFzakgPK_Kd"
   },
   "source": [
    "#### 8.  Reverse a vector (first element becomes last) (★☆☆) \n",
    "(**hint**: array\\[::-1\\])"
   ]
  },
  {
   "cell_type": "code",
   "execution_count": 26,
   "metadata": {
    "id": "zFefqH1wK_Kd"
   },
   "outputs": [
    {
     "data": {
      "text/plain": [
       "array([48, 47, 46, 45, 44, 43, 42, 41, 40, 39, 38, 37, 36, 35, 34, 33, 32,\n",
       "       31, 30, 29, 28, 27, 26, 25, 24, 23, 22, 21, 20, 19, 18, 17, 16, 15,\n",
       "       14, 13, 12, 11, 10])"
      ]
     },
     "execution_count": 26,
     "metadata": {},
     "output_type": "execute_result"
    }
   ],
   "source": [
    "b[::-1]"
   ]
  },
  {
   "cell_type": "markdown",
   "metadata": {
    "id": "7g4YvvzVK_Ke"
   },
   "source": [
    "#### 9.  Create a 3x3 matrix with values ranging from 0 to 8 (★☆☆) \n",
    "(**hint**: reshape)"
   ]
  },
  {
   "cell_type": "code",
   "execution_count": 27,
   "metadata": {
    "id": "xjQRzOfaK_Kj"
   },
   "outputs": [
    {
     "data": {
      "text/plain": [
       "array([[0, 1, 2],\n",
       "       [3, 4, 5],\n",
       "       [6, 7, 8]])"
      ]
     },
     "execution_count": 27,
     "metadata": {},
     "output_type": "execute_result"
    }
   ],
   "source": [
    "a=np.arange(9).reshape(3,3)\n",
    "a"
   ]
  },
  {
   "cell_type": "markdown",
   "metadata": {
    "id": "Q_nwIIBFK_Kk"
   },
   "source": [
    "#### 10. Find indices of non-zero elements from \\[1,2,0,0,4,0\\] (★☆☆) \n",
    "(**hint**: np.nonzero)"
   ]
  },
  {
   "cell_type": "code",
   "execution_count": 28,
   "metadata": {
    "id": "DjMfkt69K_Kk"
   },
   "outputs": [
    {
     "data": {
      "text/plain": [
       "(array([0, 1, 4], dtype=int64),)"
      ]
     },
     "execution_count": 28,
     "metadata": {},
     "output_type": "execute_result"
    }
   ],
   "source": [
    "a=np.array([1,2,0,0,4,0])\n",
    "np.nonzero(a)"
   ]
  },
  {
   "cell_type": "markdown",
   "metadata": {
    "id": "g3rW1HwiK_Kk"
   },
   "source": [
    "#### 11. Create a 3x3 identity matrix (★☆☆) \n",
    "(**hint**: np.eye)"
   ]
  },
  {
   "cell_type": "code",
   "execution_count": 29,
   "metadata": {
    "id": "STmkUQ1TK_Kl"
   },
   "outputs": [
    {
     "data": {
      "text/plain": [
       "array([[1., 0., 0.],\n",
       "       [0., 1., 0.],\n",
       "       [0., 0., 1.]])"
      ]
     },
     "execution_count": 29,
     "metadata": {},
     "output_type": "execute_result"
    }
   ],
   "source": [
    "a=np.eye(3,3)\n",
    "a"
   ]
  },
  {
   "cell_type": "markdown",
   "metadata": {
    "id": "3Ft8uh4OK_Kl"
   },
   "source": [
    "#### 12. Create a 3x3x3 array with random values (★☆☆) \n",
    "(**hint**: np.random.random)"
   ]
  },
  {
   "cell_type": "code",
   "execution_count": 30,
   "metadata": {
    "id": "ztOhRYCBK_Kl"
   },
   "outputs": [
    {
     "data": {
      "text/plain": [
       "array([[[0.29903569, 0.40381242, 0.5918607 ],\n",
       "        [0.44590841, 0.07911884, 0.2222168 ],\n",
       "        [0.83349363, 0.84884337, 0.59605919]],\n",
       "\n",
       "       [[0.96518343, 0.41696995, 0.01415874],\n",
       "        [0.51406821, 0.50224115, 0.59927973],\n",
       "        [0.32223217, 0.29040439, 0.35830922]],\n",
       "\n",
       "       [[0.81367969, 0.21507722, 0.30950884],\n",
       "        [0.62244249, 0.52948676, 0.34114605],\n",
       "        [0.90011388, 0.91913943, 0.47884103]]])"
      ]
     },
     "execution_count": 30,
     "metadata": {},
     "output_type": "execute_result"
    }
   ],
   "source": [
    "a=np.random.random(size=(3,3,3))\n",
    "a"
   ]
  },
  {
   "cell_type": "markdown",
   "metadata": {
    "id": "WKBwHXtKK_Kl"
   },
   "source": [
    "#### 13. Create a 10x10 array with random values and find the minimum and maximum values (★☆☆) \n",
    "(**hint**: min, max)"
   ]
  },
  {
   "cell_type": "code",
   "execution_count": 31,
   "metadata": {
    "id": "wBYkR4_gK_Km"
   },
   "outputs": [
    {
     "name": "stdout",
     "output_type": "stream",
     "text": [
      "8 0\n"
     ]
    }
   ],
   "source": [
    "a=np.random.randint(0,9,size=(10,10))\n",
    "print(a.max(),a.min())"
   ]
  },
  {
   "cell_type": "markdown",
   "metadata": {
    "id": "O9_G2lCPK_Km"
   },
   "source": [
    "#### 14. Create a random vector of size 30 and find the mean value (★☆☆) \n",
    "(**hint**: mean)"
   ]
  },
  {
   "cell_type": "code",
   "execution_count": 32,
   "metadata": {
    "id": "TOnqF3jIK_Km"
   },
   "outputs": [
    {
     "data": {
      "text/plain": [
       "0.007428154987623833"
      ]
     },
     "execution_count": 32,
     "metadata": {},
     "output_type": "execute_result"
    }
   ],
   "source": [
    "a=np.random.randn(30)\n",
    "a.mean()"
   ]
  },
  {
   "cell_type": "markdown",
   "metadata": {
    "id": "yKnbCtKFK_Kn"
   },
   "source": [
    "#### 15. Create a 2d array with 1 on the border and 0 inside (★☆☆) \n",
    "(**hint**: array\\[1:-1, 1:-1\\])"
   ]
  },
  {
   "cell_type": "code",
   "execution_count": 33,
   "metadata": {
    "id": "Bs3ddJkIK_Kn"
   },
   "outputs": [
    {
     "data": {
      "text/plain": [
       "array([[1., 1., 1., 1., 1.],\n",
       "       [1., 0., 0., 0., 1.],\n",
       "       [1., 0., 0., 0., 1.],\n",
       "       [1., 0., 0., 0., 1.],\n",
       "       [1., 1., 1., 1., 1.]])"
      ]
     },
     "execution_count": 33,
     "metadata": {},
     "output_type": "execute_result"
    }
   ],
   "source": [
    "a=np.ones((5,5))\n",
    "a[1:-1,1:-1]=0\n",
    "a\n"
   ]
  },
  {
   "cell_type": "markdown",
   "metadata": {
    "id": "frmTyfv4K_Kn"
   },
   "source": [
    "#### 16. How to add a border (filled with 0's) around an existing array? (★☆☆) \n",
    "(**hint**: np.pad)"
   ]
  },
  {
   "cell_type": "code",
   "execution_count": 34,
   "metadata": {
    "id": "OOljUTSrK_Kn"
   },
   "outputs": [
    {
     "data": {
      "text/plain": [
       "array([[0., 0., 0., 0., 0., 0., 0., 0., 0.],\n",
       "       [0., 0., 0., 0., 0., 0., 0., 0., 0.],\n",
       "       [0., 0., 1., 1., 1., 1., 1., 0., 0.],\n",
       "       [0., 0., 1., 0., 0., 0., 1., 0., 0.],\n",
       "       [0., 0., 1., 0., 0., 0., 1., 0., 0.],\n",
       "       [0., 0., 1., 0., 0., 0., 1., 0., 0.],\n",
       "       [0., 0., 1., 1., 1., 1., 1., 0., 0.],\n",
       "       [0., 0., 0., 0., 0., 0., 0., 0., 0.],\n",
       "       [0., 0., 0., 0., 0., 0., 0., 0., 0.]])"
      ]
     },
     "execution_count": 34,
     "metadata": {},
     "output_type": "execute_result"
    }
   ],
   "source": [
    "np.pad(a,2,)"
   ]
  },
  {
   "cell_type": "markdown",
   "metadata": {
    "id": "mVeJm8dsK_Ko"
   },
   "source": [
    "#### 17. What is the result of the following expression? (★☆☆) \n",
    "(**hint**: NaN = not a number, inf = infinity)"
   ]
  },
  {
   "cell_type": "markdown",
   "metadata": {
    "id": "ZuRuzD78K_Ko"
   },
   "source": [
    "```python\n",
    "0 * np.nan\n",
    "np.nan == np.nan\n",
    "np.inf > np.nan\n",
    "np.nan - np.nan\n",
    "0.3 == 3 * 0.1\n",
    "```"
   ]
  },
  {
   "cell_type": "code",
   "execution_count": 35,
   "metadata": {
    "id": "JsLsAfVjK_Kp"
   },
   "outputs": [
    {
     "data": {
      "text/plain": [
       "False"
      ]
     },
     "execution_count": 35,
     "metadata": {},
     "output_type": "execute_result"
    }
   ],
   "source": [
    "False\n",
    "False\n",
    "False\n",
    "False"
   ]
  },
  {
   "cell_type": "markdown",
   "metadata": {
    "id": "t4fQIHVaK_Kp"
   },
   "source": [
    "#### 18. Create a 5x5 matrix with values 1,2,3,4 just below the diagonal (★☆☆) \n",
    "(**hint**: np.diag)"
   ]
  },
  {
   "cell_type": "code",
   "execution_count": 36,
   "metadata": {
    "id": "8fXCGx4CK_Kq"
   },
   "outputs": [
    {
     "name": "stdout",
     "output_type": "stream",
     "text": [
      "[[0 0 0 0 0]\n",
      " [0 1 0 0 0]\n",
      " [0 0 2 0 0]\n",
      " [0 0 0 3 0]\n",
      " [0 0 0 0 4]]\n"
     ]
    }
   ],
   "source": [
    "a=np.diag([0,1,2,3,4])\n",
    "print(a)"
   ]
  },
  {
   "cell_type": "markdown",
   "metadata": {
    "id": "XZlEpA80K_Kq"
   },
   "source": [
    "#### 19. Create a 8x8 matrix and fill it with a checkerboard pattern (★☆☆) \n",
    "(**hint**: array\\[::2\\])"
   ]
  },
  {
   "cell_type": "code",
   "execution_count": 37,
   "metadata": {
    "id": "Ucn6OMrnK_Kq"
   },
   "outputs": [
    {
     "data": {
      "text/plain": [
       "array([[1, 0, 1, 0, 1, 0, 1, 0],\n",
       "       [1, 0, 1, 0, 1, 0, 1, 0],\n",
       "       [1, 0, 1, 0, 1, 0, 1, 0],\n",
       "       [1, 0, 1, 0, 1, 0, 1, 0],\n",
       "       [1, 0, 1, 0, 1, 0, 1, 0],\n",
       "       [1, 0, 1, 0, 1, 0, 1, 0],\n",
       "       [1, 0, 1, 0, 1, 0, 1, 0],\n",
       "       [1, 0, 1, 0, 1, 0, 1, 0]])"
      ]
     },
     "execution_count": 37,
     "metadata": {},
     "output_type": "execute_result"
    }
   ],
   "source": [
    "a=np.random.randint(4,8,size=(8,8))\n",
    "a[::1,::2]=1\n",
    "a[::1,1::2]=0\n",
    "a"
   ]
  },
  {
   "cell_type": "markdown",
   "metadata": {
    "id": "KCacxByhK_Kq"
   },
   "source": [
    "#### 20. Consider a (6,7,8) shape array, what is the index (x,y,z) of the 100th element? \n",
    "(**hint**: np.unravel_index)"
   ]
  },
  {
   "cell_type": "code",
   "execution_count": 38,
   "metadata": {
    "id": "fA3b4limK_Kr"
   },
   "outputs": [
    {
     "data": {
      "text/plain": [
       "(1, 5, 4)"
      ]
     },
     "execution_count": 38,
     "metadata": {},
     "output_type": "execute_result"
    }
   ],
   "source": [
    "a=np.random.randint(1,200,size=(6,7,8))\n",
    "np.unravel_index(100,(6,7,8))"
   ]
  },
  {
   "cell_type": "markdown",
   "metadata": {
    "id": "iVQQV3kvK_Kr"
   },
   "source": [
    "#### 21. Create a checkerboard 8x8 matrix using the tile function (★☆☆) \n",
    "(**hint**: np.tile)"
   ]
  },
  {
   "cell_type": "code",
   "execution_count": 39,
   "metadata": {
    "id": "bJbEGJOvK_Kr"
   },
   "outputs": [
    {
     "data": {
      "text/plain": [
       "array([[0, 1, 0, 1, 0, 1, 0, 1],\n",
       "       [0, 1, 0, 1, 0, 1, 0, 1],\n",
       "       [0, 1, 0, 1, 0, 1, 0, 1],\n",
       "       [0, 1, 0, 1, 0, 1, 0, 1],\n",
       "       [0, 1, 0, 1, 0, 1, 0, 1],\n",
       "       [0, 1, 0, 1, 0, 1, 0, 1],\n",
       "       [0, 1, 0, 1, 0, 1, 0, 1],\n",
       "       [0, 1, 0, 1, 0, 1, 0, 1]])"
      ]
     },
     "execution_count": 39,
     "metadata": {},
     "output_type": "execute_result"
    }
   ],
   "source": [
    "a=np.array([0,1])\n",
    "np.tile(a,(8,4))"
   ]
  },
  {
   "cell_type": "markdown",
   "metadata": {
    "id": "Bn5ntVhZK_Kr"
   },
   "source": [
    "#### 22. Normalize a 5x5 random matrix (★☆☆) \n",
    "(**hint**: (x - min) / (max - min))"
   ]
  },
  {
   "cell_type": "code",
   "execution_count": 40,
   "metadata": {
    "id": "x0I31oLAK_Ks"
   },
   "outputs": [
    {
     "data": {
      "text/plain": [
       "array([[ 3.86862360e-01,  4.06788769e-01,  3.90559262e-01,\n",
       "         7.17799305e-01,  4.57361840e-02],\n",
       "       [ 8.41608198e-01, -7.61670193e-05,  2.78197297e-01,\n",
       "         9.24930124e-01,  1.61654248e-01],\n",
       "       [ 2.60978654e-02,  1.82655095e-01,  1.27811109e-01,\n",
       "         8.57415327e-01,  4.78809945e-01],\n",
       "       [ 6.57292343e-02,  3.59829838e-01,  5.71352169e-01,\n",
       "         4.79976084e-01,  7.33681273e-01],\n",
       "       [ 7.97570202e-01,  7.46255720e-01,  1.78156372e-01,\n",
       "         7.66576808e-01,  8.11019250e-01]])"
      ]
     },
     "execution_count": 40,
     "metadata": {},
     "output_type": "execute_result"
    }
   ],
   "source": [
    "a=np.random.random(size=(5,5))\n",
    "norm=(a-a.min()/(a.max()-a.min()))\n",
    "norm"
   ]
  },
  {
   "cell_type": "markdown",
   "metadata": {
    "id": "MNbU91cVK_Ks"
   },
   "source": [
    "#### 23. Create a custom dtype that describes a color as four unsigned bytes (RGBA) (★☆☆) \n",
    "(**hint**: np.dtype)"
   ]
  },
  {
   "cell_type": "code",
   "execution_count": 41,
   "metadata": {
    "id": "AfwHQW6CK_Ks"
   },
   "outputs": [
    {
     "name": "stderr",
     "output_type": "stream",
     "text": [
      "C:\\Users\\Mukes\\AppData\\Local\\Temp/ipykernel_16592/2341170294.py:1: FutureWarning: Passing (type, 1) or '1type' as a synonym of type is deprecated; in a future version of numpy, it will be understood as (type, (1,)) / '(1,)type'.\n",
      "  color=np.dtype([('R',np.ubyte,1),('G',np.ubyte,1),('B',np.ubyte,1),('A',np.ubyte,1)])\n"
     ]
    },
    {
     "data": {
      "text/plain": [
       "dtype([('R', 'u1'), ('G', 'u1'), ('B', 'u1'), ('A', 'u1')])"
      ]
     },
     "execution_count": 41,
     "metadata": {},
     "output_type": "execute_result"
    }
   ],
   "source": [
    "color=np.dtype([('R',np.ubyte,1),('G',np.ubyte,1),('B',np.ubyte,1),('A',np.ubyte,1)])\n",
    "color"
   ]
  },
  {
   "cell_type": "markdown",
   "metadata": {
    "id": "DQqNvgUCK_Ks"
   },
   "source": [
    "#### 24. Multiply a 5x3 matrix by a 3x2 matrix (real matrix product) (★☆☆) \n",
    "(**hint**: np.dot | @)"
   ]
  },
  {
   "cell_type": "code",
   "execution_count": 42,
   "metadata": {
    "id": "1ArPRH6AK_Ks"
   },
   "outputs": [
    {
     "data": {
      "text/plain": [
       "array([[0.47836387, 0.65270581],\n",
       "       [0.33957491, 0.18998999],\n",
       "       [0.40469389, 0.41642975],\n",
       "       [0.19834878, 0.25799436],\n",
       "       [0.53819915, 0.71096712]])"
      ]
     },
     "execution_count": 42,
     "metadata": {},
     "output_type": "execute_result"
    }
   ],
   "source": [
    "a=np.random.random(size=(5,3))\n",
    "b=np.random.random(size=(3,2))\n",
    "a@b"
   ]
  },
  {
   "cell_type": "markdown",
   "metadata": {
    "id": "7GqePcGEK_Kt"
   },
   "source": [
    "#### 25. Given a 1D array, negate all elements which are between 3 and 8, in place. (★☆☆) \n",
    "(**hint**: >, <=)"
   ]
  },
  {
   "cell_type": "code",
   "execution_count": 43,
   "metadata": {
    "id": "X6l12AEbK_Kt"
   },
   "outputs": [
    {
     "data": {
      "text/plain": [
       "array([12, 18, 16, 13, 15,  3, 19])"
      ]
     },
     "execution_count": 43,
     "metadata": {},
     "output_type": "execute_result"
    }
   ],
   "source": [
    "a=np.random.randint(0,20,size=10)\n",
    "a[~((a>3)&(a<=8))]"
   ]
  },
  {
   "cell_type": "markdown",
   "metadata": {
    "id": "BFkUopFFK_Kt"
   },
   "source": [
    "#### 26. What is the output of the following script? (★☆☆) \n",
    "(**hint**: np.sum)"
   ]
  },
  {
   "cell_type": "markdown",
   "metadata": {
    "id": "KrBWg8KbK_Kt"
   },
   "source": [
    "```python\n",
    "# Author: Jake VanderPlas\n",
    "\n",
    "print(sum(range(5),-1))\n",
    "from numpy import *\n",
    "print(sum(range(5),-1))\n",
    "```"
   ]
  },
  {
   "cell_type": "code",
   "execution_count": 44,
   "metadata": {
    "id": "m9l6rRa6K_Ku"
   },
   "outputs": [
    {
     "data": {
      "text/plain": [
       "9"
      ]
     },
     "execution_count": 44,
     "metadata": {},
     "output_type": "execute_result"
    }
   ],
   "source": [
    "sum(range(5),-1)"
   ]
  },
  {
   "cell_type": "markdown",
   "metadata": {
    "id": "3RwUksznK_Ku"
   },
   "source": [
    "#### 27. Consider an integer vector Z, which of these expressions are legal? (★☆☆)"
   ]
  },
  {
   "cell_type": "markdown",
   "metadata": {
    "id": "gTeetVRLK_Ku"
   },
   "source": [
    "```python\n",
    "Z**Z\n",
    "2 << Z >> 2\n",
    "Z <- Z\n",
    "1j*Z\n",
    "Z/1/1\n",
    "Z<Z>Z\n",
    "```"
   ]
  },
  {
   "cell_type": "code",
   "execution_count": 46,
   "metadata": {
    "id": "qSQjXHo2K_Ku"
   },
   "outputs": [
    {
     "ename": "NameError",
     "evalue": "name 'Z' is not defined",
     "output_type": "error",
     "traceback": [
      "\u001b[1;31m---------------------------------------------------------------------------\u001b[0m",
      "\u001b[1;31mNameError\u001b[0m                                 Traceback (most recent call last)",
      "\u001b[1;32m~\\AppData\\Local\\Temp/ipykernel_16592/3713034303.py\u001b[0m in \u001b[0;36m<module>\u001b[1;34m\u001b[0m\n\u001b[1;32m----> 1\u001b[1;33m \u001b[0mZ\u001b[0m\u001b[1;33m**\u001b[0m\u001b[0mZ\u001b[0m\u001b[1;33m\u001b[0m\u001b[1;33m\u001b[0m\u001b[0m\n\u001b[0m\u001b[0;32m      2\u001b[0m \u001b[0mZ\u001b[0m\u001b[1;33m<\u001b[0m\u001b[1;33m-\u001b[0m\u001b[0mZ\u001b[0m\u001b[1;33m\u001b[0m\u001b[1;33m\u001b[0m\u001b[0m\n\u001b[0;32m      3\u001b[0m \u001b[1;36m1j\u001b[0m\u001b[1;33m*\u001b[0m\u001b[0mZ\u001b[0m\u001b[1;33m\u001b[0m\u001b[1;33m\u001b[0m\u001b[0m\n",
      "\u001b[1;31mNameError\u001b[0m: name 'Z' is not defined"
     ]
    }
   ],
   "source": [
    "Z**Z\n",
    "Z<-Z\n",
    "1j*Z"
   ]
  },
  {
   "cell_type": "markdown",
   "metadata": {
    "id": "K-rDV5DiK_Ku"
   },
   "source": [
    "#### 28. What are the result of the following expressions?"
   ]
  },
  {
   "cell_type": "markdown",
   "metadata": {
    "id": "U0yaN_ipK_Kv"
   },
   "source": [
    "```python\n",
    "np.array(0) / np.array(0)\n",
    "np.array(0) // np.array(0)\n",
    "np.array([np.nan]).astype(int).astype(float)\n",
    "```"
   ]
  },
  {
   "cell_type": "code",
   "execution_count": null,
   "metadata": {
    "id": "1tsfyMvFK_Kv"
   },
   "outputs": [],
   "source": [
    "np.array(0) / np.array(0)\n",
    "np.array(0) // np.array(0)\n",
    "np.array([np.nan]).astype(int).astype(float)"
   ]
  },
  {
   "cell_type": "markdown",
   "metadata": {
    "id": "fK4Vf7DVK_Kw"
   },
   "source": [
    "#### 29. How to round away from zero a float array ? (★☆☆) \n",
    "(**hint**: np.uniform, np.copysign, np.ceil, np.abs)"
   ]
  },
  {
   "cell_type": "code",
   "execution_count": 47,
   "metadata": {
    "id": "urkIKCdRK_Kx"
   },
   "outputs": [
    {
     "data": {
      "text/plain": [
       "array([ 1., -2.,  1., -1.])"
      ]
     },
     "execution_count": 47,
     "metadata": {},
     "output_type": "execute_result"
    }
   ],
   "source": [
    "a=np.random.randn(4)\n",
    "b=np.copysign(np.ceil(np.abs(a)),a)\n",
    "b"
   ]
  },
  {
   "cell_type": "markdown",
   "metadata": {
    "id": "kByohNaZK_Kx"
   },
   "source": [
    "#### 30. How to find common values between two arrays? (★☆☆) \n",
    "(**hint**: np.intersect1d)"
   ]
  },
  {
   "cell_type": "code",
   "execution_count": 48,
   "metadata": {
    "id": "xPudSFBEK_Ky"
   },
   "outputs": [
    {
     "data": {
      "text/plain": [
       "array([0, 1, 3])"
      ]
     },
     "execution_count": 48,
     "metadata": {},
     "output_type": "execute_result"
    }
   ],
   "source": [
    "a=np.random.randint(0,4,size=6)\n",
    "b=np.random.randint(0,4,size=6)\n",
    "np.intersect1d(a,b)"
   ]
  },
  {
   "cell_type": "markdown",
   "metadata": {
    "id": "bPduBVL_K_Ky"
   },
   "source": [
    "#### 31. How to ignore all numpy warnings (not recommended)? (★☆☆) \n",
    "(**hint**: np.seterr, np.errstate)"
   ]
  },
  {
   "cell_type": "code",
   "execution_count": 3,
   "metadata": {
    "id": "Tajmn7ySK_Ky"
   },
   "outputs": [
    {
     "data": {
      "text/plain": [
       "\"np.seterr(all='ignore')\""
      ]
     },
     "execution_count": 3,
     "metadata": {},
     "output_type": "execute_result"
    }
   ],
   "source": [
    "\"np.seterr(all='ignore')\""
   ]
  },
  {
   "cell_type": "markdown",
   "metadata": {
    "id": "_XmDk1YtK_Ky"
   },
   "source": [
    "#### 32. Is the following expressions true? (★☆☆) \n",
    "(**hint**: imaginary number)"
   ]
  },
  {
   "cell_type": "markdown",
   "metadata": {
    "id": "mSiYKxzjK_Kz"
   },
   "source": [
    "```python\n",
    "np.sqrt(-1) == np.emath.sqrt(-1)\n",
    "```"
   ]
  },
  {
   "cell_type": "code",
   "execution_count": 5,
   "metadata": {
    "id": "CB0z-cCBK_Kz"
   },
   "outputs": [
    {
     "name": "stderr",
     "output_type": "stream",
     "text": [
      "C:\\Users\\Mukes\\AppData\\Local\\Temp/ipykernel_1544/4230900462.py:2: RuntimeWarning: invalid value encountered in sqrt\n",
      "  np.sqrt(-1)==np.emath.sqrt(-1)\n"
     ]
    },
    {
     "data": {
      "text/plain": [
       "False"
      ]
     },
     "execution_count": 5,
     "metadata": {},
     "output_type": "execute_result"
    }
   ],
   "source": [
    "import numpy as np\n",
    "np.sqrt(-1)==np.emath.sqrt(-1)"
   ]
  },
  {
   "cell_type": "markdown",
   "metadata": {
    "id": "agh8TrbTK_Kz"
   },
   "source": [
    "#### 33. How to get the dates of yesterday, today and tomorrow? (★☆☆) \n",
    "(**hint**: np.datetime64, np.timedelta64)"
   ]
  },
  {
   "cell_type": "code",
   "execution_count": 6,
   "metadata": {
    "id": "OPdlAw_YK_K0"
   },
   "outputs": [
    {
     "data": {
      "text/plain": [
       "(numpy.datetime64('2022-05-01'),\n",
       " numpy.datetime64('2022-05-02'),\n",
       " numpy.datetime64('2022-05-03'))"
      ]
     },
     "execution_count": 6,
     "metadata": {},
     "output_type": "execute_result"
    }
   ],
   "source": [
    "today=np.datetime64('today')\n",
    "today-np.timedelta64(1),today,today+np.timedelta64(1)"
   ]
  },
  {
   "cell_type": "markdown",
   "metadata": {
    "id": "SNKRALjbK_K0"
   },
   "source": [
    "#### 34. How to get all the dates corresponding to the month of July 2016? (★★☆) \n",
    "(**hint**: np.arange(dtype=datetime64\\['D'\\]))"
   ]
  },
  {
   "cell_type": "code",
   "execution_count": 7,
   "metadata": {
    "id": "Th4STLp8K_K1"
   },
   "outputs": [
    {
     "data": {
      "text/plain": [
       "array(['2016-07-01', '2016-07-02', '2016-07-03', '2016-07-04',\n",
       "       '2016-07-05', '2016-07-06', '2016-07-07', '2016-07-08',\n",
       "       '2016-07-09', '2016-07-10', '2016-07-11', '2016-07-12',\n",
       "       '2016-07-13', '2016-07-14', '2016-07-15', '2016-07-16',\n",
       "       '2016-07-17', '2016-07-18', '2016-07-19', '2016-07-20',\n",
       "       '2016-07-21', '2016-07-22', '2016-07-23', '2016-07-24',\n",
       "       '2016-07-25', '2016-07-26', '2016-07-27', '2016-07-28',\n",
       "       '2016-07-29', '2016-07-30', '2016-07-31'], dtype='datetime64[D]')"
      ]
     },
     "execution_count": 7,
     "metadata": {},
     "output_type": "execute_result"
    }
   ],
   "source": [
    "np.arange('2016-07','2016-08',dtype='datetime64[D]')"
   ]
  },
  {
   "cell_type": "markdown",
   "metadata": {
    "id": "OgwxC8P-K_K1"
   },
   "source": [
    "#### 35. How to compute ((A+B)\\*(-A/2)) in place (without copy)? (★★☆) \n",
    "(**hint**: np.add(out=), np.negative(out=), np.multiply(out=), np.divide(out=))"
   ]
  },
  {
   "cell_type": "code",
   "execution_count": 8,
   "metadata": {
    "id": "tM9EbqMcK_K1"
   },
   "outputs": [
    {
     "name": "stdout",
     "output_type": "stream",
     "text": [
      "before a [-0.93433693  0.57147445 -1.00803553 -0.05742126  0.68737244]\n",
      "after a [-0.60342854 -0.3222451   0.32430077  0.01741525 -1.04531082]\n"
     ]
    }
   ],
   "source": [
    "a=np.random.randn(5)\n",
    "b=np.random.randn(5)\n",
    "print('before a',a)\n",
    "np.add(a,b,out=b)\n",
    "np.negative(a,out=a)\n",
    "np.divide(a,2,out=a)\n",
    "np.multiply(b,a,out=a)\n",
    "print('after a',a)"
   ]
  },
  {
   "cell_type": "markdown",
   "metadata": {
    "id": "QDkSmVfpK_K1"
   },
   "source": [
    "#### 36. Extract the integer part of a random array using 5 different methods (★★☆) \n",
    "(**hint**: %, np.floor, np.ceil, astype, np.trunc)"
   ]
  },
  {
   "cell_type": "code",
   "execution_count": 9,
   "metadata": {
    "id": "x4af0sr3K_K2"
   },
   "outputs": [
    {
     "name": "stdout",
     "output_type": "stream",
     "text": [
      "floor [0. 0. 0. 0. 0.]\n",
      "ceil [1. 1. 1. 1. 1.]\n",
      "astype [0 0 0 0 0]\n",
      "trunc [0. 0. 0. 0. 0.]\n",
      "% [0. 0. 0. 0. 0.]\n"
     ]
    }
   ],
   "source": [
    "a=np.random.random(5)\n",
    "print('floor',np.floor(a))\n",
    "print('ceil',np.ceil(a))\n",
    "print('astype',a.astype(int))\n",
    "print('trunc',np.trunc(a))\n",
    "print('%',a-a%1)"
   ]
  },
  {
   "cell_type": "markdown",
   "metadata": {
    "id": "-uqIY_RmK_K2"
   },
   "source": [
    "#### 37. Create a 5x5 matrix with row values ranging from 0 to 4 (★★☆) \n",
    "(**hint**: np.arange)"
   ]
  },
  {
   "cell_type": "code",
   "execution_count": 10,
   "metadata": {
    "id": "VO8aOyvEK_K2"
   },
   "outputs": [
    {
     "data": {
      "text/plain": [
       "array([[0, 1, 2, 3, 4],\n",
       "       [0, 1, 2, 3, 4],\n",
       "       [0, 1, 2, 3, 4],\n",
       "       [0, 1, 2, 3, 4],\n",
       "       [0, 1, 2, 3, 4]])"
      ]
     },
     "execution_count": 10,
     "metadata": {},
     "output_type": "execute_result"
    }
   ],
   "source": [
    "np.tile(np.arange(5),(5,1))"
   ]
  },
  {
   "cell_type": "markdown",
   "metadata": {
    "id": "Cj_hkI8rK_K2"
   },
   "source": [
    "#### 38. Consider a generator function that generates 10 integers and use it to build an array (★☆☆) \n",
    "(**hint**: np.fromiter)"
   ]
  },
  {
   "cell_type": "code",
   "execution_count": 11,
   "metadata": {
    "id": "qvvP0XqsK_K3"
   },
   "outputs": [
    {
     "name": "stdout",
     "output_type": "stream",
     "text": [
      "0 1 2 3 4 5 6 7 8 9 "
     ]
    }
   ],
   "source": [
    "a=np.arange(10)\n",
    "for i in np.fromiter(a,int):\n",
    "    print(i,end=' ')"
   ]
  },
  {
   "cell_type": "markdown",
   "metadata": {
    "id": "e4dwD2sFK_K3"
   },
   "source": [
    "#### 39. Create a vector of size 10 with values ranging from 0 to 1, both excluded (★★☆) \n",
    "(**hint**: np.linspace)"
   ]
  },
  {
   "cell_type": "code",
   "execution_count": 12,
   "metadata": {
    "id": "DIZkda9MK_K3"
   },
   "outputs": [
    {
     "data": {
      "text/plain": [
       "array([0.09090909, 0.18181818, 0.27272727, 0.36363636, 0.45454545,\n",
       "       0.54545455, 0.63636364, 0.72727273, 0.81818182, 0.90909091])"
      ]
     },
     "execution_count": 12,
     "metadata": {},
     "output_type": "execute_result"
    }
   ],
   "source": [
    "np.linspace(0,1,12)[1:-1]"
   ]
  },
  {
   "cell_type": "markdown",
   "metadata": {
    "id": "0Ul-o1XZK_K3"
   },
   "source": [
    "#### 40. Create a random vector of size 10 and sort it (★★☆) \n",
    "(**hint**: sort)"
   ]
  },
  {
   "cell_type": "code",
   "execution_count": 13,
   "metadata": {
    "id": "g5hzlZx2K_K3"
   },
   "outputs": [
    {
     "data": {
      "text/plain": [
       "array([1, 1, 1, 2, 2, 3, 3, 4, 4, 4])"
      ]
     },
     "execution_count": 13,
     "metadata": {},
     "output_type": "execute_result"
    }
   ],
   "source": [
    "np.sort(np.random.randint(1,5,size=10))"
   ]
  },
  {
   "cell_type": "markdown",
   "metadata": {
    "id": "5OJRdE9WK_K4"
   },
   "source": [
    "#### 41. How to sum a small array faster than np.sum? (★★☆) \n",
    "(**hint**: np.add.reduce)"
   ]
  },
  {
   "cell_type": "code",
   "execution_count": 14,
   "metadata": {
    "id": "oItLo1F1K_K4"
   },
   "outputs": [
    {
     "data": {
      "text/plain": [
       "array([12, 11, 11])"
      ]
     },
     "execution_count": 14,
     "metadata": {},
     "output_type": "execute_result"
    }
   ],
   "source": [
    "a=np.random.randint(3,5,size=(3,3))\n",
    "np.add.reduce(a)"
   ]
  },
  {
   "cell_type": "markdown",
   "metadata": {
    "id": "t2KvfPxRK_K4"
   },
   "source": [
    "#### 42. Consider two random array A and B, check if they are equal (★★☆) \n",
    "(**hint**: np.allclose, np.array\\_equal)"
   ]
  },
  {
   "cell_type": "code",
   "execution_count": 15,
   "metadata": {
    "id": "Tc87803sK_K4"
   },
   "outputs": [
    {
     "name": "stdout",
     "output_type": "stream",
     "text": [
      "True\n"
     ]
    },
    {
     "data": {
      "text/plain": [
       "True"
      ]
     },
     "execution_count": 15,
     "metadata": {},
     "output_type": "execute_result"
    }
   ],
   "source": [
    "a=a=np.random.randint(3,5,size=(3,3))\n",
    "b=a=np.random.randint(3,5,size=(3,3))\n",
    "print(np.allclose(a,b))\n",
    "np.array_equal(a,b)"
   ]
  },
  {
   "cell_type": "markdown",
   "metadata": {
    "id": "xe3ZLhBrK_K5"
   },
   "source": [
    "#### 43. Make an array immutable (read-only) (★★☆) \n",
    "(**hint**: flags.writeable)"
   ]
  },
  {
   "cell_type": "code",
   "execution_count": 16,
   "metadata": {
    "id": "Zrx7OAAYK_K5"
   },
   "outputs": [],
   "source": [
    "a=np.random.random(5)\n",
    "a.flags.writeable=False"
   ]
  },
  {
   "cell_type": "markdown",
   "metadata": {
    "id": "bI3gcS_OK_K5"
   },
   "source": [
    "#### 44. Consider a random 10x2 matrix representing cartesian coordinates, convert them to polar coordinates (★★☆) \n",
    "(**hint**: np.sqrt, np.arctan2)"
   ]
  },
  {
   "cell_type": "code",
   "execution_count": 17,
   "metadata": {
    "id": "NI-bd16dK_K6"
   },
   "outputs": [
    {
     "name": "stdout",
     "output_type": "stream",
     "text": [
      "[8.54400375 5.09901951]\n",
      "[69.44395478 78.69006753]\n"
     ]
    }
   ],
   "source": [
    "a=a=np.random.randint(1,9,size=(10,2))\n",
    "r=lambda x:np.sqrt((x[0]**2)+(x[1]**2))\n",
    "theta=lambda x:np.arctan2(x[1],x[0])*(180/np.pi)\n",
    "print(r(a))\n",
    "print(theta(a))"
   ]
  },
  {
   "cell_type": "markdown",
   "metadata": {
    "id": "Wfq9iFgKK_K6"
   },
   "source": [
    "#### 45. Create random vector of size 10 and replace the maximum value by 0 (★★☆) \n",
    "(**hint**: argmax)"
   ]
  },
  {
   "cell_type": "code",
   "execution_count": 18,
   "metadata": {
    "id": "ednmqASNK_K6"
   },
   "outputs": [
    {
     "name": "stdout",
     "output_type": "stream",
     "text": [
      "[0.97819541 0.84781806 0.38072983 0.96070058 0.42021727 0.50348985\n",
      " 0.5473855  0.34339144 0.35841227 0.18262429]\n"
     ]
    },
    {
     "data": {
      "text/plain": [
       "array([0.        , 0.84781806, 0.38072983, 0.96070058, 0.42021727,\n",
       "       0.50348985, 0.5473855 , 0.34339144, 0.35841227, 0.18262429])"
      ]
     },
     "execution_count": 18,
     "metadata": {},
     "output_type": "execute_result"
    }
   ],
   "source": [
    "a=np.random.random(10)\n",
    "print(a)\n",
    "a[np.argmax(a)]=0\n",
    "a"
   ]
  },
  {
   "cell_type": "markdown",
   "metadata": {
    "id": "7J0GpJNCK_K6"
   },
   "source": [
    "#### 46. Create a structured array with `x` and `y` coordinates covering the \\[0,1\\]x\\[0,1\\] area (★★☆) \n",
    "(**hint**: np.meshgrid)"
   ]
  },
  {
   "cell_type": "code",
   "execution_count": 19,
   "metadata": {
    "id": "QQgnj_iPK_K6"
   },
   "outputs": [
    {
     "name": "stdout",
     "output_type": "stream",
     "text": [
      "[5 8 2 1 9] [4 9 8 2 3]\n"
     ]
    },
    {
     "data": {
      "text/plain": [
       "(array([[5, 8, 2, 1, 9],\n",
       "        [5, 8, 2, 1, 9],\n",
       "        [5, 8, 2, 1, 9],\n",
       "        [5, 8, 2, 1, 9],\n",
       "        [5, 8, 2, 1, 9]]),\n",
       " array([[4, 4, 4, 4, 4],\n",
       "        [9, 9, 9, 9, 9],\n",
       "        [8, 8, 8, 8, 8],\n",
       "        [2, 2, 2, 2, 2],\n",
       "        [3, 3, 3, 3, 3]]))"
      ]
     },
     "execution_count": 19,
     "metadata": {},
     "output_type": "execute_result"
    }
   ],
   "source": [
    "x,y=np.random.randint(1,10,10).reshape(2,5)\n",
    "print(x,y)\n",
    "X,Y=np.meshgrid(x,y)\n",
    "X, Y"
   ]
  },
  {
   "cell_type": "markdown",
   "metadata": {
    "id": "XWyECbHyK_K7"
   },
   "source": [
    "####  47. Given two arrays, X and Y, construct the Cauchy matrix C (Cij =1/(xi - yj)) \n",
    "(**hint**: np.subtract.outer)"
   ]
  },
  {
   "cell_type": "code",
   "execution_count": 20,
   "metadata": {
    "id": "eA87XDIxK_K7"
   },
   "outputs": [
    {
     "name": "stderr",
     "output_type": "stream",
     "text": [
      "C:\\Users\\Mukes\\AppData\\Local\\Temp/ipykernel_1544/3258854816.py:3: RuntimeWarning: divide by zero encountered in true_divide\n",
      "  c=1/np.subtract.outer(x,y)\n"
     ]
    },
    {
     "data": {
      "text/plain": [
       "array([[        inf, -1.        ,  0.5       ,  0.33333333,  0.2       ,\n",
       "         0.33333333],\n",
       "       [-1.        , -0.5       ,  1.        ,  0.5       ,  0.25      ,\n",
       "         0.5       ],\n",
       "       [-0.25      , -0.2       , -0.5       , -1.        ,  1.        ,\n",
       "        -1.        ],\n",
       "       [-0.33333333, -0.25      , -1.        ,         inf,  0.5       ,\n",
       "                inf],\n",
       "       [ 0.5       ,  1.        ,  0.25      ,  0.2       ,  0.14285714,\n",
       "         0.2       ],\n",
       "       [-0.5       , -0.33333333,         inf,  1.        ,  0.33333333,\n",
       "         1.        ]])"
      ]
     },
     "execution_count": 20,
     "metadata": {},
     "output_type": "execute_result"
    }
   ],
   "source": [
    "x=np.random.randint(1,10,size=6)\n",
    "y=np.random.randint(1,10,size=6)\n",
    "c=1/np.subtract.outer(x,y)\n",
    "c"
   ]
  },
  {
   "cell_type": "markdown",
   "metadata": {
    "id": "6hBmlFVYK_K7"
   },
   "source": [
    "#### 48. Print the minimum and maximum representable value for each numpy scalar type (★★☆) \n",
    "(**hint**: np.iinfo, np.finfo, eps)"
   ]
  },
  {
   "cell_type": "code",
   "execution_count": 21,
   "metadata": {
    "id": "6ofqQ-p3K_K7"
   },
   "outputs": [
    {
     "name": "stdout",
     "output_type": "stream",
     "text": [
      "-128\n",
      "127\n",
      "-2147483648\n",
      "2147483647\n",
      "-9223372036854775808\n",
      "9223372036854775807\n",
      "-65500.0\n",
      "65500.0\n",
      "0.000977\n",
      "-3.4028235e+38\n",
      "3.4028235e+38\n",
      "1.1920929e-07\n",
      "-1.7976931348623157e+308\n",
      "1.7976931348623157e+308\n",
      "2.220446049250313e-16\n"
     ]
    }
   ],
   "source": [
    "for dtype in [np.int8,np.int32,np.int64]:\n",
    "    print(np.iinfo(dtype).min)\n",
    "    print(np.iinfo(dtype).max)\n",
    "for ntype in [np.float16,np.float32,np.float64]:\n",
    "    print(np.finfo(ntype).min)\n",
    "    print(np.finfo(ntype).max)\n",
    "    print(np.finfo(ntype).eps)"
   ]
  },
  {
   "cell_type": "markdown",
   "metadata": {
    "id": "EMo2VJ7iK_K7"
   },
   "source": [
    "#### 49. How to print all the values of an array? (★★☆) \n",
    "(**hint**: np.set\\_printoptions)"
   ]
  },
  {
   "cell_type": "code",
   "execution_count": 22,
   "metadata": {
    "id": "CY-0xjRSK_K8"
   },
   "outputs": [
    {
     "data": {
      "text/plain": [
       "array([[6, 7, 6, 7, 5, 7, 7, 7, 5, 6, 8, 5, 8, 6, 5, 7, 8, 8, 7, 5],\n",
       "       [6, 6, 5, 7, 8, 8, 6, 7, 7, 8, 7, 7, 5, 8, 8, 7, 8, 8, 7, 5],\n",
       "       [5, 5, 8, 5, 8, 6, 5, 8, 5, 6, 8, 5, 6, 5, 8, 8, 6, 6, 7, 8],\n",
       "       [5, 6, 5, 6, 7, 6, 7, 6, 8, 5, 8, 8, 8, 6, 5, 8, 5, 5, 5, 5],\n",
       "       [7, 7, 7, 8, 5, 8, 5, 7, 8, 7, 5, 6, 5, 7, 8, 8, 8, 8, 6, 6],\n",
       "       [7, 5, 6, 7, 7, 6, 8, 8, 5, 6, 8, 6, 5, 8, 7, 7, 7, 6, 8, 7],\n",
       "       [7, 8, 8, 8, 6, 6, 8, 5, 6, 5, 8, 6, 6, 8, 5, 7, 6, 6, 5, 7],\n",
       "       [6, 7, 6, 8, 5, 8, 8, 6, 5, 6, 7, 8, 6, 6, 6, 6, 7, 6, 5, 5],\n",
       "       [5, 6, 7, 5, 5, 7, 8, 7, 8, 6, 6, 5, 5, 7, 6, 5, 6, 6, 6, 7],\n",
       "       [6, 5, 5, 7, 7, 5, 5, 6, 6, 7, 8, 8, 6, 5, 8, 6, 6, 8, 6, 8],\n",
       "       [6, 5, 5, 6, 8, 6, 7, 8, 5, 7, 8, 6, 7, 8, 7, 6, 6, 5, 7, 7],\n",
       "       [6, 5, 5, 6, 5, 8, 5, 8, 7, 8, 7, 8, 5, 6, 8, 6, 7, 6, 7, 8],\n",
       "       [6, 5, 6, 6, 7, 8, 5, 5, 5, 5, 7, 5, 5, 5, 6, 5, 7, 8, 5, 8],\n",
       "       [5, 7, 8, 7, 5, 8, 8, 8, 6, 8, 5, 6, 7, 7, 7, 6, 5, 5, 5, 6],\n",
       "       [5, 6, 6, 7, 7, 5, 8, 6, 6, 8, 5, 5, 5, 7, 5, 5, 8, 7, 7, 6],\n",
       "       [7, 7, 5, 5, 6, 5, 5, 8, 5, 8, 5, 5, 5, 7, 5, 8, 7, 8, 7, 5]])"
      ]
     },
     "execution_count": 22,
     "metadata": {},
     "output_type": "execute_result"
    }
   ],
   "source": [
    "np.set_printoptions(threshold=float('inf'))\n",
    "a=np.random.randint(5,9,size=(16,20))\n",
    "a"
   ]
  },
  {
   "cell_type": "markdown",
   "metadata": {
    "id": "Bdn3cm4VK_K8"
   },
   "source": [
    "#### 50. How to find the closest value (to a given scalar) in a vector? (★★☆) \n",
    "(**hint**: argmin)"
   ]
  },
  {
   "cell_type": "code",
   "execution_count": 23,
   "metadata": {
    "id": "FE05-J8KK_K8"
   },
   "outputs": [
    {
     "data": {
      "text/plain": [
       "12"
      ]
     },
     "execution_count": 23,
     "metadata": {},
     "output_type": "execute_result"
    }
   ],
   "source": [
    "a=np.random.randint(1,100,100)\n",
    "b=np.arange(100)\n",
    "b[np.abs(a-b).argmin()]"
   ]
  },
  {
   "cell_type": "markdown",
   "metadata": {
    "id": "daFULKPRK_K8"
   },
   "source": [
    "#### 51. Create a structured array representing a position (x,y) and a color (r,g,b) (★★☆) \n",
    "(**hint**: dtype)"
   ]
  },
  {
   "cell_type": "code",
   "execution_count": 24,
   "metadata": {
    "id": "X4-HRidjK_K9"
   },
   "outputs": [
    {
     "name": "stderr",
     "output_type": "stream",
     "text": [
      "C:\\Users\\Mukes\\AppData\\Local\\Temp/ipykernel_1544/1031704725.py:1: FutureWarning: Passing (type, 1) or '1type' as a synonym of type is deprecated; in a future version of numpy, it will be understood as (type, (1,)) / '(1,)type'.\n",
      "  DTYPE = np.dtype([('position', [('x', float, 1),\n"
     ]
    },
    {
     "data": {
      "text/plain": [
       "array([[((0., 0.), (0., 0., 0.))]],\n",
       "      dtype=[('position', [('x', '<f8'), ('y', '<f8')]), ('color', [('r', '<f8'), ('g', '<f8'), ('b', '<f8')])])"
      ]
     },
     "execution_count": 24,
     "metadata": {},
     "output_type": "execute_result"
    }
   ],
   "source": [
    "DTYPE = np.dtype([('position', [('x', float, 1),\n",
    "                                ('y', float, 1)], 1),\n",
    "                  ('color',    [('r', float, 1),\n",
    "                                ('g', float, 1),\n",
    "                                ('b', float, 1)], 1)])\n",
    "np.zeros((1, 1), dtype=DTYPE)"
   ]
  },
  {
   "cell_type": "markdown",
   "metadata": {
    "id": "PjXqMJuQK_K9"
   },
   "source": [
    "#### 52. Consider a random vector with shape (100,2) representing coordinates, find point by point distances (★★☆) \n",
    "(**hint**: np.atleast\\_2d, T, np.sqrt)"
   ]
  },
  {
   "cell_type": "code",
   "execution_count": 25,
   "metadata": {
    "id": "wmSNNl0wK_K9"
   },
   "outputs": [
    {
     "data": {
      "text/plain": [
       "array([[  0.        ,  63.63961031,  58.83026432,  32.24903099,\n",
       "         36.01388621,  88.48163651,  42.95346319,  76.32168761,\n",
       "         78.84795495,  36.67424164,  53.60037313,  23.19482701,\n",
       "         70.26378868,  37.12142239,  80.21221852,  35.12833614,\n",
       "         83.00602388,  15.03329638,  68.00735254,  73.02739212,\n",
       "         11.70469991,  34.6554469 ,  23.76972865,  87.66413178,\n",
       "         79.906195  ,  65.05382387,  56.22277119,  32.52691193,\n",
       "         67.47592163,  88.19297024,  45.17742799,  32.69556545,\n",
       "         28.7923601 ,  94.51454914,  17.4642492 ,  37.64306045,\n",
       "         34.78505426,  86.00581376, 103.24727599,  32.75667871,\n",
       "         31.25699922,  73.33484847,  51.66236541,  48.7954916 ,\n",
       "         74.00675645,  57.28001397, 101.53324579,   7.21110255,\n",
       "         72.        ,  55.97320788,  47.51841748,  34.92849839,\n",
       "        102.42070103,  22.47220505,  78.10249676,  29.06888371,\n",
       "         39.40812099,  60.41522987, 102.52804494,  33.10589071,\n",
       "         58.69412236,  31.01612484,  99.72963451,  53.90732789,\n",
       "         95.07891459,  33.01514804,  40.01249805,  66.60330322,\n",
       "         86.88498144,  91.48223871,  95.51963149,  83.6480723 ,\n",
       "         46.06517123,  94.3716059 ,  73.8241153 ,  87.8179936 ,\n",
       "         51.4781507 ,  57.68882041,  70.34202158,  47.01063709,\n",
       "         97.41663102,  98.38699101,  59.13543777,  32.24903099,\n",
       "         87.47571091,  75.31268154,  52.17278984,  47.01063709,\n",
       "         27.51363298,  51.03920062,  38.20994635,  44.72135955,\n",
       "        102.18121158,  40.60788101,  70.09279564,  97.94386147,\n",
       "         50.69516742,  21.37755833,  10.19803903,  44.77722635],\n",
       "       [ 63.63961031,   0.        ,  76.1642961 ,  63.3245608 ,\n",
       "         92.17917335,  99.0403958 ,  88.23264702,  87.32124598,\n",
       "         72.9177619 ,  31.38470965,  32.75667871,  52.80151513,\n",
       "         24.8394847 ,  92.13034245,  94.14881837,  49.03060269,\n",
       "         59.66573556,  54.91812087,  49.64876635,  51.31276644,\n",
       "         53.26349594,  29.        ,  76.05918748,  89.69392399,\n",
       "         47.38143096,   1.41421356,  41.48493703,  31.11269837,\n",
       "         43.0464865 ,  32.06243908,  88.32326987,  35.34119409,\n",
       "         39.35733731,  99.16148446,  47.80167361,  26.40075756,\n",
       "         85.08818954,  35.73513677,  97.41663102,  40.16217126,\n",
       "         50.96076922,  59.05929224,  83.60023923,  14.86606875,\n",
       "         52.69724851,  86.14522622, 102.41581909,  65.4369926 ,\n",
       "         52.47856705,   8.54400375,  38.05259518,  33.61547263,\n",
       "        102.85912696,  44.10215414,  41.10960958,  37.21558813,\n",
       "         25.55386468,  17.88854382,  95.7183368 ,  34.43835072,\n",
       "          5.        ,  58.24087911, 100.17983829,  10.77032961,\n",
       "         43.93176527,  90.55385138,  46.27094121,  95.00526301,\n",
       "         48.25971405,  82.15229759,  46.84015371,  88.86506625,\n",
       "         66.12110102,  83.76156637,  44.04543109,  31.01612484,\n",
       "         24.08318916,  13.34166406,  35.4682957 ,  26.07680962,\n",
       "         50.59644256,  43.01162634,  43.32435804,  43.01162634,\n",
       "         50.21951812,  65.74191966,  56.32051136,  64.03124237,\n",
       "         40.70626487,  16.2788206 ,  49.49747468,  53.00943312,\n",
       "         94.87360012,  38.32753579,  97.02061637, 104.17773275,\n",
       "         32.24903099,  47.50789408,  58.6003413 ,  87.09190548],\n",
       "       [ 58.83026432,  76.1642961 ,   0.        ,  26.62705391,\n",
       "         49.25444142,  29.83286778,  32.984845  ,  17.49285568,\n",
       "         27.85677655,  72.47068373,  44.04543109,  38.89730068,\n",
       "         61.6116872 ,  47.38143096,  21.9317122 ,  84.64632302,\n",
       "         44.59820624,  46.09772229,  36.7151195 ,  40.22437072,\n",
       "         62.28964601,  60.41522987,  41.97618372,  29.83286778,\n",
       "         51.86520992,  77.1038261 ,  36.49657518,  60.37383539,\n",
       "         42.54409477,  78.77182237,  30.3644529 ,  71.34423593,\n",
       "         47.01063709,  35.77708764,  50.99019514,  58.87274412,\n",
       "         39.05124838,  71.1758386 ,  46.5295605 ,  42.04759208,\n",
       "         33.01514804,  33.24154028,  16.55294536,  67.91170739,\n",
       "         40.        ,  14.14213562,  43.08131846,  52.35456045,\n",
       "         38.01315562,  74.14849965,  38.11823711,  48.46648326,\n",
       "         44.01136217,  66.84309987,  55.47071299,  50.11985634,\n",
       "         68.54195795,  60.07495318,  46.27094121,  49.24428901,\n",
       "         73.55270219,  29.        ,  41.43669871,  73.54590403,\n",
       "         77.02596965,  51.03920062,  87.4185335 ,  19.92485885,\n",
       "         60.21627687,  38.47076812,  74.62573283,  25.29822128,\n",
       "         13.45362405,  41.43669871,  47.88527958,  79.37883849,\n",
       "         83.21658489,  63.03173804,  52.20153254,  50.48762225,\n",
       "         73.81734214,  84.07734534,  36.138622  ,  78.00640999,\n",
       "         59.20304046,  29.41088234,  20.02498439,  13.89244399,\n",
       "         46.64761516,  60.5309838 ,  29.54657341,  23.76972865,\n",
       "         46.17358552,  39.29376541,  21.21320344,  39.11521443,\n",
       "         44.01136217,  45.45327271,  66.21933252,  29.12043956],\n",
       "       [ 32.24903099,  63.3245608 ,  26.62705391,   0.        ,\n",
       "         33.60059523,  56.40035461,  25.07987241,  44.10215414,\n",
       "         48.25971405,  50.44799302,  37.64306045,  13.92838828,\n",
       "         57.62811814,  32.64965543,  48.27007354,  59.68249325,\n",
       "         57.00877125,  19.84943324,  43.46262762,  48.46648326,\n",
       "         36.12478374,  40.11234224,  19.92485885,  55.54277631,\n",
       "         58.18075283,  64.56004957,  35.        ,  39.3192065 ,\n",
       "         45.79301257,  76.69419796,  25.        ,  48.38388161,\n",
       "         26.01922366,  62.2655603 ,  25.94224354,  40.01249805,\n",
       "         24.04163056,  71.42128534,  71.47027354,  23.34523506,\n",
       "         12.36931688,  45.89117562,  23.08679276,  51.35172831,\n",
       "         49.04079934,  27.73084925,  69.3181073 ,  26.        ,\n",
       "         46.81879964,  58.69412236,  29.83286778,  30.2654919 ,\n",
       "         70.21395873,  42.05948169,  58.82176468,  29.06888371,\n",
       "         48.25971405,  51.4781507 ,  70.88018059,  30.06659276,\n",
       "         59.43904441,   5.09901951,  67.54257916,  57.42821606,\n",
       "         79.39773297,  33.61547263,  63.0634601 ,  37.57658846,\n",
       "         66.37017402,  60.67124525,  78.40918314,  51.42956348,\n",
       "         13.92838828,  63.63961031,  52.47856705,  76.83749085,\n",
       "         63.38769597,  52.        ,  52.49761899,  38.07886553,\n",
       "         79.0569415 ,  84.85281374,  36.89173349,  53.66563146,\n",
       "         66.24198065,  46.04345773,  23.53720459,  15.29705854,\n",
       "         25.07987241,  47.12748667,  15.62049935,  17.88854382,\n",
       "         70.60453243,  25.94224354,  40.70626487,  65.73431372,\n",
       "         35.80502758,  21.1896201 ,  39.69886648,  23.76972865],\n",
       "       [ 36.01388621,  92.17917335,  49.25444142,  33.60059523,\n",
       "          0.        ,  73.34848328,  17.2626765 ,  64.12487817,\n",
       "         76.4852927 ,  70.61161378,  70.72481884,  39.66106403,\n",
       "         90.52071586,   2.23606798,  64.93843238,  71.11258679,\n",
       "         89.1571646 ,  37.69615365,  76.53757247,  81.41252975,\n",
       "         47.09564736,  64.62197769,  16.1245155 ,  78.02563681,\n",
       "         91.58602513,  93.53608929,  68.60029154,  62.96824597,\n",
       "         79.32212806, 109.62207807,  20.39607805,  67.08203932,\n",
       "         52.83937925,  81.74350127,  45.54119015,  66.21178143,\n",
       "         10.44030651, 104.80458005,  95.0210503 ,  53.00943312,\n",
       "         43.8634244 ,  77.62087348,  34.05877273,  78.29431652,\n",
       "         81.84130986,  39.3192065 ,  89.67719889,  30.14962686,\n",
       "         79.60527621,  85.90692638,  62.96824597,  58.83026432,\n",
       "         90.66973034,  57.42821606,  92.4175308 ,  55.00909016,\n",
       "         71.47027354,  83.24061509,  95.        ,  57.80138407,\n",
       "         87.658428  ,  37.53664876,  88.45903006,  84.17244205,\n",
       "        112.92918135,   3.60555128,  76.02631123,  45.22167622,\n",
       "         99.85990186,  87.69264507, 112.0044642 ,  73.06161783,\n",
       "         42.72001873,  90.66973034,  85.98255637, 109.658561  ,\n",
       "         85.37564055,  82.66196223,  86.05230967,  69.20260111,\n",
       "        112.64546152, 118.19052415,  70.45565982,  68.0661443 ,\n",
       "         99.64436763,  76.24303247,  55.90169944,  45.31004304,\n",
       "         51.4781507 ,  76.85050423,  48.91829923,  51.31276644,\n",
       "         95.00526301,  58.05170109,  48.70318265,  83.5463943 ,\n",
       "         68.59300256,  44.72135955,  46.09772229,  21.21320344],\n",
       "       [ 88.48163651,  99.0403958 ,  29.83286778,  56.40035461,\n",
       "         73.34848328,   0.        ,  56.08921465,  12.80624847,\n",
       "         29.15475947, 100.68763579,  66.40783086,  68.62215386,\n",
       "         79.51100553,  71.19691005,   8.54400375, 114.02192772,\n",
       "         50.009999  ,  75.92759709,  51.2445119 ,  52.        ,\n",
       "         92.09777413,  88.20430828,  69.85699679,  13.41640786,\n",
       "         62.28964601,  99.72462083,  57.56735186,  88.48163651,\n",
       "         58.30951895,  93.08598176,  52.95280918, 100.        ,\n",
       "         75.60423269,   9.48683298,  80.61017306,  86.092973  ,\n",
       "         64.28841264,  84.21401309,  25.94224354,  70.21395873,\n",
       "         62.28964601,  43.        ,  39.84971769,  93.52005133,\n",
       "         51.00980298,  34.20526275,  17.2626765 ,  81.83520025,\n",
       "         50.009999  ,  98.79271228,  62.64982043,  76.00657866,\n",
       "         18.24828759,  96.26006441,  68.0661443 ,  78.60025445,\n",
       "         96.04165763,  81.49233093,  26.92582404,  77.1038261 ,\n",
       "         97.4063653 ,  58.79625838,  16.76305461,  98.61541462,\n",
       "         87.29833904,  75.92759709, 116.51609331,  29.        ,\n",
       "         69.05070601,  29.15475947,  83.74365648,  11.04536102,\n",
       "         43.18564576,  30.8058436 ,  61.        ,  94.04786016,\n",
       "        110.05907505,  85.72630868,  68.18357573,  75.23961722,\n",
       "         81.49233093,  95.18928511,  55.78530272, 107.16809227,\n",
       "         67.26812024,  36.01388621,  44.77722635,  43.13930922,\n",
       "         75.43208866,  84.86459804,  57.80138407,  51.03920062,\n",
       "         27.45906044,  65.8634952 ,  26.07680962,  10.19803903,\n",
       "         67.41661516,  74.96665926,  96.04686356,  52.17278984],\n",
       "       [ 42.95346319,  88.23264702,  32.984845  ,  25.07987241,\n",
       "         17.2626765 ,  56.08921465,   0.        ,  47.01063709,\n",
       "         60.7289058 ,  72.02777242,  62.12889827,  36.34556369,\n",
       "         82.09750301,  15.13274595,  47.67598976,  76.92203845,\n",
       "         75.29276194,  38.11823711,  64.03124237,  68.60029154,\n",
       "         51.92301994,  63.38769597,  19.23538406,  61.00819617,\n",
       "         79.51100553,  89.49301649,  58.13776741,  62.20128616,\n",
       "         67.89698079, 101.01980004,   3.16227766,  69.18092223,\n",
       "         49.81967483,  64.49806199,  46.04345773,  63.95310782,\n",
       "          9.21954446,  95.13148795,  78.00640999,  48.08326112,\n",
       "         37.33630941,  63.63175308,  17.02938637,  75.70997292,\n",
       "         68.81860214,  22.09072203,  72.44308111,  35.84689666,\n",
       "         66.61080993,  83.19855768,  54.3783045 ,  54.81788029,\n",
       "         73.43704787,  60.8276253 ,  81.32035416,  52.61178575,\n",
       "         71.1758386 ,  76.47875522,  78.05767099,  54.34151268,\n",
       "         84.20213774,  30.08321791,  71.25307011,  81.78630692,\n",
       "        102.59142264,  19.92485885,  81.25269226,  28.23118843,\n",
       "         87.96590248,  71.38627319, 101.11874208,  56.        ,\n",
       "         29.20616373,  74.33034374,  74.33034374, 101.25709852,\n",
       "         86.05230967,  77.07788269,  75.82216035,  63.1585307 ,\n",
       "        101.23734489, 108.5771615 ,  59.41380311,  72.36711961,\n",
       "         87.45856162,  61.32699243,  43.27817002,  32.01562119,\n",
       "         48.66210024,  72.11102551,  40.31128874,  40.45985665,\n",
       "         78.10249676,  50.99019514,  31.78049716,  66.28725368,\n",
       "         60.53924347,  43.10452412,  52.92447449,   4.        ],\n",
       "       [ 76.32168761,  87.32124598,  17.49285568,  44.10215414,\n",
       "         64.12487817,  12.80624847,  47.01063709,   0.        ,\n",
       "         21.9544984 ,  87.92041856,  54.5710546 ,  55.97320788,\n",
       "         69.007246  ,  62.07253821,   7.        , 101.23734489,\n",
       "         42.95346319,  63.41135545,  41.10960958,  42.75511665,\n",
       "         79.51100553,  75.47184906,  58.82176468,  14.14213562,\n",
       "         53.85164807,  88.07383266,  45.89117562,  75.71657678,\n",
       "         48.0416486 ,  83.86298349,  44.        ,  87.20091743,\n",
       "         62.80127387,  18.38477631,  67.89698079,  73.430239  ,\n",
       "         54.45181356,  75.31268154,  31.06444913,  57.42821606,\n",
       "         49.51767361,  33.95585369,  30.06659276,  81.15417426,\n",
       "         41.97618372,  25.01999201,  25.96150997,  69.83552105,\n",
       "         40.60788101,  86.64871609,  50.32891813,  63.28506933,\n",
       "         26.92582404,  83.48652586,  59.03388857,  65.80273551,\n",
       "         83.35466394,  70.03570518,  31.25699922,  64.35060217,\n",
       "         85.44003745,  46.22769733,  24.51530134,  86.37708029,\n",
       "         79.40403012,  66.37017402, 103.7111373 ,  23.2594067 ,\n",
       "         61.3514466 ,  27.45906044,  76.21679605,   9.05538514,\n",
       "         30.61045573,  30.01666204,  51.623638  ,  84.71717653,\n",
       "         97.49358953,  73.97972695,  58.07753438,  62.96824597,\n",
       "         74.46475676,  87.09190548,  44.40720662,  94.36630755,\n",
       "         59.80802622,  27.51363298,  32.20248438,  30.41381265,\n",
       "         62.62587325,  72.73238618,  45.        ,  38.27531842,\n",
       "         31.40063694,  53.23532662,  21.63330765,  21.63330765,\n",
       "         55.36244214,  62.22539674,  83.60023923,  43.01162634],\n",
       "       [ 78.84795495,  72.9177619 ,  27.85677655,  48.25971405,\n",
       "         76.4852927 ,  29.15475947,  60.7289058 ,  21.9544984 ,\n",
       "          0.        ,  80.72174428,  41.61730409,  55.97320788,\n",
       "         51.41984053,  74.73285757,  28.23118843,  96.83491106,\n",
       "         21.1896201 ,  64.19501538,  23.40939982,  23.19482701,\n",
       "         78.79086241,  68.01470429,  67.00746227,  17.2626765 ,\n",
       "         33.13608305,  73.40980861,  32.80243893,  68.8839604 ,\n",
       "         30.3644529 ,  64.00781202,  58.1893461 ,  81.05553652,\n",
       "         57.98275606,  26.68332813,  66.21178143,  65.06919394,\n",
       "         66.09841148,  55.08175742,  26.2488095 ,  52.15361924,\n",
       "         48.10405388,  14.31782106,  44.38468204,  70.        ,\n",
       "         22.09072203,  41.18252056,  29.52964612,  73.54590403,\n",
       "         21.37755833,  74.09453421,  40.31128874,  56.22277119,\n",
       "         30.01666204,  79.92496481,  39.        ,  60.46486583,\n",
       "         74.95331881,  55.03635162,  25.        ,  57.80138407,\n",
       "         72.06941099,  48.05205511,  27.29468813,  74.33034374,\n",
       "         58.24946352,  77.92945528,  98.23441352,  43.18564576,\n",
       "         40.02499219,  12.64911064,  54.81788029,  18.11077028,\n",
       "         35.        ,  15.5241747 ,  32.14031736,  65.        ,\n",
       "         87.45856162,  59.94163828,  39.81205847,  51.85556865,\n",
       "         52.81098371,  66.09841148,  30.23243292,  89.40357935,\n",
       "         38.32753579,   7.28010989,  26.92582404,  33.06055051,\n",
       "         58.30951895,  60.46486583,  41.62931659,  34.53983208,\n",
       "         24.41311123,  45.607017  ,  42.44997055,  31.78049716,\n",
       "         43.41658669,  60.41522987,  83.93449827,  56.92099788],\n",
       "       [ 36.67424164,  31.38470965,  72.47068373,  50.44799302,\n",
       "         70.61161378, 100.68763579,  72.02777242,  87.92041856,\n",
       "         80.72174428,   0.        ,  41.18252056,  36.67424164,\n",
       "         48.16637832,  71.19691005,  93.81364506,  19.10497317,\n",
       "         75.13321503,  34.0147027 ,  61.05735009,  64.88451279,\n",
       "         25.05992817,  12.72792206,  55.4436651 ,  94.9210198 ,\n",
       "         66.40783086,  32.69556545,  48.82622246,  12.20655562,\n",
       "         56.79788728,  61.81423784,  73.17103252,   4.24264069,\n",
       "         25.49509757, 103.7111373 ,  26.        ,  15.8113883 ,\n",
       "         66.18912297,  63.00793601, 106.96261029,  30.52867504,\n",
       "         39.92492956,  69.63476143,  73.4982993 ,  18.11077028,\n",
       "         66.24198065,  77.79460136, 108.97706181,  40.80441153,\n",
       "         65.        ,  22.84731932,  40.45985665,  24.8394847 ,\n",
       "        109.658561  ,  14.4222051 ,  61.84658438,  22.36067977,\n",
       "          7.07106781,  37.21558813, 105.64563408,  23.60084744,\n",
       "         26.57066051,  45.88027899, 106.83164325,  20.61552813,\n",
       "         72.0624729 ,  68.15423685,  18.38477631,  87.59566199,\n",
       "         70.61161378,  92.45539465,  74.00675645,  92.45539465,\n",
       "         59.50630219,  94.81033699,  61.09828148,  61.        ,\n",
       "         14.86606875,  32.01562119,  54.12023651,  30.41381265,\n",
       "         77.1038261 ,  72.83543094,  51.86520992,  12.04159458,\n",
       "         72.03471385,  74.65252842,  56.22277119,  58.5918083 ,\n",
       "         26.        ,  26.30589288,  43.0464865 ,  49.64876635,\n",
       "        104.99523799,  35.38361203,  90.47651629, 108.23123394,\n",
       "         38.58756276,  29.42787794,  29.20616373,  72.24956747],\n",
       "       [ 53.60037313,  32.75667871,  44.04543109,  37.64306045,\n",
       "         70.72481884,  66.40783086,  62.12889827,  54.5710546 ,\n",
       "         41.61730409,  41.18252056,   0.        ,  33.12099032,\n",
       "         20.        ,  70.00714249,  61.39218191,  59.23681288,\n",
       "         34.0147027 ,  39.56008089,  20.        ,  23.70653918,\n",
       "         48.0416486 ,  29.15475947,  55.4436651 ,  57.70615219,\n",
       "         27.01851217,  33.54101966,   8.94427191,  30.6757233 ,\n",
       "         15.8113883 ,  39.05124838,  61.40032573,  42.54409477,\n",
       "         25.17935662,  67.08203932,  36.49657518,  25.49509757,\n",
       "         61.61980201,  34.20526275,  67.35725648,  20.88061302,\n",
       "         27.01851217,  29.        ,  53.75872022,  28.42534081,\n",
       "         25.05992817,  55.31726674,  71.02112362,  51.623638  ,\n",
       "         23.85372088,  32.64965543,   7.81024968,  20.02498439,\n",
       "         71.56116265,  44.72135955,  24.51530134,  26.        ,\n",
       "         34.66987165,  16.03121954,  65.8559033 ,  22.02271555,\n",
       "         31.01612484,  33.24154028,  68.79680225,  32.75667871,\n",
       "         42.72001873,  70.17834424,  59.48108943,  63.50590524,\n",
       "         33.37663854,  52.34500931,  42.48529157,  56.46237685,\n",
       "         35.73513677,  54.45181356,  21.09502311,  39.20459157,\n",
       "         46.01086828,  19.41648784,  16.76305461,  10.81665383,\n",
       "         44.01136217,  47.50789408,  11.40175425,  51.623638  ,\n",
       "         34.13209633,  34.82814953,  24.0208243 ,  33.24154028,\n",
       "         26.30589288,  18.86796226,  22.02271555,  22.47220505,\n",
       "         65.11528238,  13.41640786,  65.19202405,  72.01388755,\n",
       "          3.        ,  32.28002478,  54.08326913,  60.03332408],\n",
       "       [ 23.19482701,  52.80151513,  38.89730068,  13.92838828,\n",
       "         39.66106403,  68.62215386,  36.34556369,  55.97320788,\n",
       "         55.97320788,  36.67424164,  33.12099032,   0.        ,\n",
       "         52.0096145 ,  39.44616585,  60.8276253 ,  46.04345773,\n",
       "         60.03332408,   8.24621125,  45.17742799,  50.24937811,\n",
       "         23.60084744,  27.07397274,  23.60084744,  66.03786792,\n",
       "         57.97413216,  54.12947441,  33.95585369,  26.        ,\n",
       "         45.35416188,  70.9365914 ,  37.05401463,  34.4818793 ,\n",
       "         13.60147051,  73.60027174,  12.20655562,  27.65863337,\n",
       "         32.31098884,  67.11929678,  80.95677859,  13.45362405,\n",
       "          8.06225775,  50.15974482,  37.        ,  39.56008089,\n",
       "         51.15662225,  41.62931659,  80.15609771,  19.23538406,\n",
       "         49.09175083,  47.12748667,  26.        ,  19.23538406,\n",
       "         80.99382693,  28.3019434 ,  57.00877125,  16.2788206 ,\n",
       "         35.        ,  43.8634244 ,  80.11242101,  18.38477631,\n",
       "         48.46648326,  10.        ,  78.23042886,  45.607017  ,\n",
       "         75.80237463,  38.41874542,  49.24428901,  51.4781507 ,\n",
       "         65.4599114 ,  68.62215386,  75.59100476,  62.42595614,\n",
       "         25.45584412,  71.47027354,  51.92301994,  70.83784299,\n",
       "         50.03998401,  43.01162634,  49.65883607,  29.73213749,\n",
       "         76.96752562,  80.21221852,  36.67424164,  39.8246155 ,\n",
       "         65.80273551,  52.17278984,  29.12043956,  25.61249695,\n",
       "         12.36931688,  37.21558813,  15.03329638,  21.58703314,\n",
       "         79.7057087 ,  19.72308292,  54.56189146,  77.46612163,\n",
       "         30.52867504,   7.28010989,  28.17800561,  36.01388621],\n",
       "       [ 70.26378868,  24.8394847 ,  61.6116872 ,  57.62811814,\n",
       "         90.52071586,  79.51100553,  82.09750301,  69.007246  ,\n",
       "         51.41984053,  48.16637832,  20.        ,  52.0096145 ,\n",
       "          0.        ,  89.87213139,  76.00657866,  67.26812024,\n",
       "         35.51056181,  57.45432969,  28.28427125,  28.46049894,\n",
       "         62.64183905,  39.3192065 ,  75.00666637,  68.65857558,\n",
       "         22.6715681 ,  24.75883681,  25.29822128,  41.43669871,\n",
       "         21.21320344,  19.10497317,  81.3019065 ,  51.00980298,\n",
       "         41.59326869,  78.10249676,  52.80151513,  35.35533906,\n",
       "         81.56592426,  15.8113883 ,  74.24957912,  38.83297568,\n",
       "         46.66904756,  37.10795063,  73.00684899,  30.59411708,\n",
       "         29.73213749,  74.        ,  80.32434251,  69.46221995,\n",
       "         30.08321791,  29.96664813,  27.80287755,  35.34119409,\n",
       "         80.65358021,  56.56854249,  16.2788206 ,  41.23105626,\n",
       "         41.10960958,  11.        ,  72.44998275,  37.16180835,\n",
       "         26.41968963,  53.15072906,  78.10889834,  31.38470965,\n",
       "         25.        ,  89.82761268,  65.9241989 ,  81.49233093,\n",
       "         23.70653918,  59.09314681,  26.17250466,  68.73136111,\n",
       "         55.03635162,  60.37383539,  20.1246118 ,  19.20937271,\n",
       "         46.61544808,  16.2788206 ,  11.70469991,  23.2594067 ,\n",
       "         29.        ,  28.3019434 ,  25.49509757,  60.07495318,\n",
       "         25.55386468,  44.14748011,  42.05948169,  52.39274759,\n",
       "         42.94182111,  22.        ,  42.01190308,  42.05948169,\n",
       "         71.55417528,  32.55764119,  82.76472679,  83.19855768,\n",
       "         21.9317122 ,  49.73932046,  68.68041933,  79.92496481],\n",
       "       [ 37.12142239,  92.13034245,  47.38143096,  32.64965543,\n",
       "          2.23606798,  71.19691005,  15.13274595,  62.07253821,\n",
       "         74.73285757,  71.19691005,  70.00714249,  39.44616585,\n",
       "         89.87213139,   0.        ,  62.80127387,  72.24956747,\n",
       "         87.7268488 ,  37.94733192,  75.29276194,  80.13114251,\n",
       "         48.01041554,  64.84597135,  16.15549442,  76.00657866,\n",
       "         90.42676595,  93.47726996,  67.62396025,  63.2455532 ,\n",
       "         78.23681998, 108.97706181,  18.24828759,  67.74215822,\n",
       "         52.77309921,  79.63039621,  45.88027899,  66.3098786 ,\n",
       "          8.94427191, 104.00480758,  93.00537619,  52.69724851,\n",
       "         43.27817002,  76.15773106,  32.01562119,  78.39005039,\n",
       "         80.5294977 ,  37.21558813,  87.57282684,  31.01612484,\n",
       "         78.29431652,  86.00581376,  62.22539674,  58.66856058,\n",
       "         88.5663593 ,  58.21511831,  91.40021882,  55.03635162,\n",
       "         71.84010022,  82.80096618,  93.00537619,  57.70615219,\n",
       "         87.66413178,  36.76955262,  86.37129153,  84.30895563,\n",
       "        112.04463396,   5.65685425,  77.1038261 ,  43.01162634,\n",
       "         98.73702446,  85.84287973, 111.04053314,  71.02816343,\n",
       "         41.23105626,  88.81441324,  84.8763807 , 109.04127659,\n",
       "         85.90692638,  82.37718131,  85.14693183,  68.81860214,\n",
       "        111.60645143, 117.41379817,  69.4046108 ,  69.007246  ,\n",
       "         98.47842403,  74.63243263,  54.58937626,  43.8634244 ,\n",
       "         51.42956348,  76.66159404,  48.10405388,  50.21951812,\n",
       "         93.02150289,  57.48912941,  46.4865572 ,  81.39410298,\n",
       "         67.94115101,  44.77722635,  47.26520919,  19.10497317],\n",
       "       [ 80.21221852,  94.14881837,  21.9317122 ,  48.27007354,\n",
       "         64.93843238,   8.54400375,  47.67598976,   7.        ,\n",
       "         28.23118843,  93.81364506,  61.39218191,  60.8276253 ,\n",
       "         76.00657866,  62.80127387,   0.        , 106.52699188,\n",
       "         49.39635614,  67.94115101,  48.09365863,  49.64876635,\n",
       "         84.17244205,  81.49233093,  61.32699243,  16.64331698,\n",
       "         60.63827174,  94.9210198 ,  52.77309921,  81.63332653,\n",
       "         55.03635162,  90.7964757 ,  44.55333882,  92.91393867,\n",
       "         68.50547423,  17.        ,  72.9177619 ,  79.60527621,\n",
       "         55.78530272,  82.20097323,  32.28002478,  63.28506933,\n",
       "         54.81788029,  40.79215611,  31.32091953,  87.66413178,\n",
       "         48.83646179,  25.70992026,  25.        ,  73.4982993 ,\n",
       "         47.51841748,  93.30058949,  56.92099788,  69.35416354,\n",
       "         26.        ,  88.72992731,  65.9241989 ,  71.56116265,\n",
       "         89.47066558,  76.94153625,  32.89376841,  70.32780389,\n",
       "         92.17917335,  50.91168825,  24.08318916,  92.97311439,\n",
       "         86.127812  ,  67.46851117, 109.20164834,  21.21320344,\n",
       "         68.00735254,  31.82766093,  82.86132994,  12.04159458,\n",
       "         35.38361203,  34.05877273,  58.54912467,  91.66242414,\n",
       "        103.78824596,  80.8084154 ,  65.06919394,  69.57010852,\n",
       "         80.99382693,  93.86160024,  51.35172831,  99.80981916,\n",
       "         66.40783086,  34.20526275,  38.62641583,  35.60898763,\n",
       "         68.24221567,  79.40403012,  50.7740091 ,  44.29446918,\n",
       "         33.24154028,  59.50630219,  18.68154169,  18.68154169,\n",
       "         62.09669879,  67.35725648,  87.96590248,  43.73785546],\n",
       "       [ 35.12833614,  49.03060269,  84.64632302,  59.68249325,\n",
       "         71.11258679, 114.02192772,  76.92203845, 101.23734489,\n",
       "         96.83491106,  19.10497317,  59.23681288,  46.04345773,\n",
       "         67.26812024,  72.24956747, 106.52699188,   0.        ,\n",
       "         93.23089617,  40.24922359,  78.72102642,  82.85529555,\n",
       "         25.        ,  30.08321791,  58.24946352, 109.78615578,\n",
       "         85.16454661,  50.21951812,  66.18912297,  28.63564213,\n",
       "         75.02666193,  80.39900497,  78.74642849,  16.76305461,\n",
       "         39.05124838, 118.1058847 ,  33.83784863,  33.83784863,\n",
       "         69.42621983,  82.00609733, 123.00406497,  44.82186966,\n",
       "         51.73973328,  86.83317338,  82.29823813,  37.        ,\n",
       "         84.17244205,  87.32124598, 123.98790264,  41.59326869,\n",
       "         82.76472679,  40.60788101,  57.30619513,  40.81666326,\n",
       "        124.73972904,  17.80449381,  80.8084154 ,  36.40054945,\n",
       "         26.17250466,  56.32051136, 121.82774725,  39.11521443,\n",
       "         44.55333882,  56.0357029 , 121.91800523,  38.47076812,\n",
       "         91.00549434,  68.02940541,   5.38516481,  97.12878049,\n",
       "         89.62700486, 109.        ,  93.04837452, 106.7941946 ,\n",
       "         71.21797526, 111.51681488,  79.69943538,  79.51100553,\n",
       "         26.83281573,  51.0881591 ,  73.00684899,  48.70318265,\n",
       "         96.18731725,  91.44397192,  69.3181073 ,   7.61577311,\n",
       "         91.00549434,  91.26883367,  70.9365914 ,  70.9365914 ,\n",
       "         38.94868419,  45.39823785,  56.5862174 ,  63.70243323,\n",
       "        121.24768039,  51.31276644, 100.34440692, 122.33151679,\n",
       "         56.46237685,  39.20459157,  25.01999201,  78.10889834],\n",
       "       [ 83.00602388,  59.66573556,  44.59820624,  57.00877125,\n",
       "         89.1571646 ,  50.009999  ,  75.29276194,  42.95346319,\n",
       "         21.1896201 ,  75.13321503,  34.0147027 ,  60.03332408,\n",
       "         35.51056181,  87.7268488 ,  49.39635614,  93.23089617,\n",
       "          0.        ,  68.        ,  15.13274595,  10.44030651,\n",
       "         79.906195  ,  63.1585307 ,  76.92203845,  37.21558813,\n",
       "         13.60147051,  59.81638571,  27.65863337,  64.62197769,\n",
       "         18.35755975,  44.40720662,  73.24616031,  76.55716818,\n",
       "         57.07013229,  46.01086828,  67.47592163,  59.50630219,\n",
       "         78.79086241,  35.22782991,  39.2173431 ,  51.623638  ,\n",
       "         52.08646657,  11.66190379,  60.6052803 ,  60.80296045,\n",
       "          9.21954446,  58.72818744,  46.5295605 ,  79.15806971,\n",
       "         11.04536102,  62.96824597,  36.87817783,  53.16013544,\n",
       "         46.69047012,  78.16009212,  20.24845673,  58.69412236,\n",
       "         68.47627326,  42.42640687,  37.33630941,  55.08175742,\n",
       "         60.10823571,  54.91812087,  44.40720662,  63.78087488,\n",
       "         37.33630941,  89.88882022,  93.47192092,  62.62587325,\n",
       "         19.10497317,  24.51530134,  33.73425559,  39.05124838,\n",
       "         46.5188134 ,  25.29822128,  15.62049935,  45.54119015,\n",
       "         78.40918314,  48.10405388,  24.20743687,  44.72135955,\n",
       "         31.6227766 ,  45.27692569,  24.51530134,  85.61541917,\n",
       "         17.2626765 ,  15.8113883 ,  33.52610923,  43.8634244 ,\n",
       "         57.87054518,  50.80354318,  45.09988914,  39.62322551,\n",
       "         36.40054945,  43.73785546,  62.42595614,  51.        ,\n",
       "         36.76955262,  62.20128616,  85.70880935,  71.86793444],\n",
       "       [ 15.03329638,  54.91812087,  46.09772229,  19.84943324,\n",
       "         37.69615365,  75.92759709,  38.11823711,  63.41135545,\n",
       "         64.19501538,  34.0147027 ,  39.56008089,   8.24621125,\n",
       "         57.45432969,  37.94733192,  67.94115101,  40.24922359,\n",
       "         68.        ,   0.        ,  53.03772242,  58.07753438,\n",
       "         16.2788206 ,  26.92582404,  21.84032967,  73.92563831,\n",
       "         65.30696747,  56.30275304,  41.43669871,  25.29822128,\n",
       "         52.77309921,  76.02631123,  39.45883931,  31.06444913,\n",
       "         16.2788206 ,  81.27115109,   8.06225775,  28.65309756,\n",
       "         32.24903099,  72.9451849 ,  89.05054744,  18.78829423,\n",
       "         16.2788206 ,  58.30951895,  42.05948169,  40.70626487,\n",
       "         59.03388857,  47.16990566,  87.98295289,  12.08304597,\n",
       "         57.00877125,  48.3011387 ,  32.984845  ,  22.6715681 ,\n",
       "         88.83692926,  23.08679276,  63.89053138,  17.80449381,\n",
       "         33.95585369,  48.41487375,  88.23831367,  21.21320344,\n",
       "         50.24937811,  17.20465053,  86.092973  ,  46.5188134 ,\n",
       "         81.84130986,  35.77708764,  44.01136217,  56.93856338,\n",
       "         72.53275122,  76.84399781,  81.9390017 ,  70.17834424,\n",
       "         32.80243893,  79.69943538,  59.22837158,  75.80237463,\n",
       "         48.37354649,  46.66904756,  56.30275304,  34.40930107,\n",
       "         83.57032966,  85.7554663 ,  44.28317965,  34.78505426,\n",
       "         73.00684899,  60.41522987,  37.36308338,  33.28663395,\n",
       "         14.86606875,  40.36087214,  23.19482701,  29.83286778,\n",
       "         87.84645696,  26.2488095 ,  60.20797289,  85.        ,\n",
       "         36.76955262,   7.81024968,  20.24845673,  38.63935817],\n",
       "       [ 68.00735254,  49.64876635,  36.7151195 ,  43.46262762,\n",
       "         76.53757247,  51.2445119 ,  64.03124237,  41.10960958,\n",
       "         23.40939982,  61.05735009,  20.        ,  45.17742799,\n",
       "         28.28427125,  75.29276194,  48.09365863,  78.72102642,\n",
       "         15.13274595,  53.03772242,   0.        ,   5.09901951,\n",
       "         64.77653896,  48.76474136,  63.3245608 ,  40.52159918,\n",
       "         15.55634919,  50.08991915,  12.64911064,  50.08991915,\n",
       "          7.07106781,  42.95346319,  62.36986452,  62.17716623,\n",
       "         41.97618372,  50.        ,  52.34500931,  45.27692569,\n",
       "         66.37017402,  34.78505426,  48.01041554,  36.49657518,\n",
       "         37.33630941,   9.43398113,  51.0881591 ,  48.08326112,\n",
       "          6.        ,  50.47771786,  52.80151513,  64.38167441,\n",
       "          4.12310563,  51.4003891 ,  21.84032967,  38.27531842,\n",
       "         53.22593353,  63.2455532 ,  18.78829423,  43.68065934,\n",
       "         54.64430437,  31.76476035,  46.40043103,  40.16217126,\n",
       "         49.09175083,  40.80441153,  50.56678752,  51.85556865,\n",
       "         40.31128874,  76.92203845,  79.25906888,  56.36488268,\n",
       "         24.04163056,  32.80243893,  38.01315562,  40.44749683,\n",
       "         34.82814953,  34.71310992,  11.18033989,  43.73785546,\n",
       "         65.76473219,  36.89173349,  17.        ,  30.8058436 ,\n",
       "         37.53664876,  47.42362281,   9.48683298,  71.11258679,\n",
       "         23.43074903,  16.15549442,  20.80865205,  32.01562119,\n",
       "         42.75511665,  38.20994635,  30.41381265,  25.63201124,\n",
       "         45.607017  ,  28.63564213,  57.00877125,  55.08175742,\n",
       "         22.47220505,  47.09564736,  70.57619995,  60.95900262],\n",
       "       [ 73.02739212,  51.31276644,  40.22437072,  48.46648326,\n",
       "         81.41252975,  52.        ,  68.60029154,  42.75511665,\n",
       "         23.19482701,  64.88451279,  23.70653918,  50.24937811,\n",
       "         28.46049894,  80.13114251,  49.64876635,  82.85529555,\n",
       "         10.44030651,  58.07753438,   5.09901951,   0.        ,\n",
       "         69.58448103,  52.80151513,  68.35202996,  40.44749683,\n",
       "         11.66190379,  51.623638  ,  17.2626765 ,  54.23098745,\n",
       "          8.48528137,  41.19465985,  66.84309987,  66.21178143,\n",
       "         46.69047012,  49.81967483,  57.218878  ,  49.1934955 ,\n",
       "         71.19691005,  32.55764119,  46.14108798,  41.30375286,\n",
       "         42.42640687,   9.        ,  55.1724569 ,  51.0881591 ,\n",
       "          1.41421356,  54.20332093,  51.86520992,  69.46221995,\n",
       "          2.23606798,  53.81449619,  26.47640459,  42.72001873,\n",
       "         52.20153254,  67.72001181,  16.2788206 ,  48.27007354,\n",
       "         58.30951895,  33.60059523,  44.41846463,  44.64302857,\n",
       "         51.2249939 ,  45.88027899,  49.64876635,  54.45181356,\n",
       "         37.16180835,  81.85963596,  83.18653737,  59.53990259,\n",
       "         20.        ,  30.88689042,  34.4818793 ,  41.01219331,\n",
       "         39.40812099,  32.44996148,   9.        ,  42.10700654,\n",
       "         68.76772499,  39.05124838,  16.76305461,  34.4818793 ,\n",
       "         33.60059523,  44.59820624,  14.14213562,  75.23961722,\n",
       "         19.10497317,  16.03121954,  25.55386468,  36.61966685,\n",
       "         47.51841748,  41.10960958,  35.51056181,  30.6757233 ,\n",
       "         43.56604182,  33.37663854,  59.93329626,  54.91812087,\n",
       "         26.40075756,  52.03844733,  75.42545989,  65.4369926 ],\n",
       "       [ 11.70469991,  53.26349594,  62.28964601,  36.12478374,\n",
       "         47.09564736,  92.09777413,  51.92301994,  79.51100553,\n",
       "         78.79086241,  25.05992817,  48.0416486 ,  23.60084744,\n",
       "         62.64183905,  48.01041554,  84.17244205,  25.        ,\n",
       "         79.906195  ,  16.2788206 ,  64.77653896,  69.58448103,\n",
       "          0.        ,  24.69817807,  33.37663854,  89.58794562,\n",
       "         75.00666637,  54.67174773,  52.34500931,  22.47220505,\n",
       "         63.07138812,  79.7057087 ,  53.75872022,  21.02379604,\n",
       "         23.02172887,  97.20082304,  12.64911064,  28.17800561,\n",
       "         44.55333882,  78.44743463, 104.23531072,  28.28427125,\n",
       "         30.88689042,  71.30918594,  57.98275606,  38.41874542,\n",
       "         70.71067812,  63.2455532 , 103.73041984,  17.        ,\n",
       "         68.8839604 ,  45.27692569,  43.18564576,  28.16025568,\n",
       "        104.56098699,  10.77032961,  72.33947747,  22.09072203,\n",
       "         28.31960452,  52.20153254, 103.31021247,  26.17250466,\n",
       "         48.27007354,  33.30165161, 101.78899744,  43.13930922,\n",
       "         87.64131446,  44.28317965,  29.42787794,  72.9451849 ,\n",
       "         81.3019065 ,  91.38927727,  88.52683209,  86.02325267,\n",
       "         48.91829923,  94.15412896,  69.        ,  79.20227269,\n",
       "         39.81205847,  48.75448697,  64.38167441,  39.81205847,\n",
       "         90.80198236,  90.24965374,  55.4436651 ,  21.        ,\n",
       "         82.15229759,  74.33034374,  51.89412298,  49.2036584 ,\n",
       "         22.09072203,  42.04759208,  37.16180835,  44.28317965,\n",
       "        102.85912696,  36.22154055,  76.2758153 , 101.04454463,\n",
       "         45.04442252,  18.38477631,   6.08276253,  53.14132102],\n",
       "       [ 34.6554469 ,  29.        ,  60.41522987,  40.11234224,\n",
       "         64.62197769,  88.20430828,  63.38769597,  75.47184906,\n",
       "         68.01470429,  12.72792206,  29.15475947,  27.07397274,\n",
       "         39.3192065 ,  64.84597135,  81.49233093,  30.08321791,\n",
       "         63.1585307 ,  26.92582404,  48.76474136,  52.80151513,\n",
       "         24.69817807,   0.        ,  48.70318265,  82.21921916,\n",
       "         55.31726674,  30.41381265,  36.35931793,   2.23606798,\n",
       "         44.94441011,  55.36244214,  64.12487817,  13.41640786,\n",
       "         14.14213562,  91.04943712,  19.23538406,   4.        ,\n",
       "         58.69412236,  54.91812087,  94.26027795,  18.38477631,\n",
       "         28.63564213,  57.14017851,  62.80127387,  14.2126704 ,\n",
       "         54.12947441,  66.70832032,  96.26006441,  36.61966685,\n",
       "         52.77309921,  21.63330765,  27.80287755,  12.20655562,\n",
       "         96.9381246 ,  17.2626765 ,  51.35172831,  11.04536102,\n",
       "          8.24621125,  28.44292531,  92.9569793 ,  11.18033989,\n",
       "         24.08318916,  35.22782991,  94.11163584,  19.72308292,\n",
       "         64.13267498,  62.64982043,  30.52867504,  76.40026178,\n",
       "         60.29925373,  79.81227976,  65.49045732,  79.81227976,\n",
       "         47.75981575,  82.20097323,  49.72926704,  54.7813837 ,\n",
       "         23.34523506,  24.35159132,  43.41658669,  18.68154169,\n",
       "         68.18357573,  66.09841148,  39.44616585,  22.47220505,\n",
       "         61.52235366,  62.00806399,  43.60045871,  46.61544808,\n",
       "         15.03329638,  17.72004515,  30.87069808,  37.21558813,\n",
       "         92.31467922,  22.6715681 ,  79.12016178,  95.60334722,\n",
       "         26.40075756,  20.39607805,  30.41381265,  63.07138812],\n",
       "       [ 23.76972865,  76.05918748,  41.97618372,  19.92485885,\n",
       "         16.1245155 ,  69.85699679,  19.23538406,  58.82176468,\n",
       "         67.00746227,  55.4436651 ,  55.4436651 ,  23.60084744,\n",
       "         75.00666637,  16.15549442,  61.32699243,  58.24946352,\n",
       "         76.92203845,  21.84032967,  63.3245608 ,  68.35202996,\n",
       "         33.37663854,  48.70318265,   0.        ,  71.80529228,\n",
       "         77.82030583,  77.41446893,  54.20332093,  47.12748667,\n",
       "         65.29931087,  94.06912352,  21.63330765,  52.15361924,\n",
       "         36.7151195 ,  77.1621669 ,  29.83286778,  50.15974482,\n",
       "         11.18033989,  89.64373932,  88.45903006,  37.01351105,\n",
       "         28.42534081,  65.73431372,  30.52867504,  62.24146528,\n",
       "         68.9492567 ,  36.35931793,  84.77027781,  16.76305461,\n",
       "         66.73080248,  69.85699679,  47.80167361,  42.72001873,\n",
       "         85.72630868,  43.01162634,  78.0320447 ,  38.91015292,\n",
       "         55.78530272,  67.35725648,  88.1192374 ,  41.67733197,\n",
       "         71.55417528,  22.82542442,  83.24061509,  68.15423685,\n",
       "         98.00510191,  14.86606875,  62.80127387,  44.82186966,\n",
       "         85.88364221,  79.0569415 ,  97.34988444,  67.18630813,\n",
       "         32.01562119,  82.0548597 ,  72.00694411,  94.04786016,\n",
       "         70.03570518,  66.61080993,  71.28113355,  53.26349594,\n",
       "         98.27003612, 102.94173109,  56.35601121,  54.23098745,\n",
       "         85.86617495,  65.49045732,  43.41658669,  34.13209633,\n",
       "         35.35533906,  60.74537019,  34.13209633,  37.69615365,\n",
       "         87.96590248,  42.44997055,  48.41487375,  79.84985911,\n",
       "         53.15072906,  28.63564213,  33.83784863,  21.40093456],\n",
       "       [ 87.66413178,  89.69392399,  29.83286778,  55.54277631,\n",
       "         78.02563681,  13.41640786,  61.00819617,  14.14213562,\n",
       "         17.2626765 ,  94.9210198 ,  57.70615219,  66.03786792,\n",
       "         68.65857558,  76.00657866,  16.64331698, 109.78615578,\n",
       "         37.21558813,  73.92563831,  40.52159918,  40.44749683,\n",
       "         89.58794562,  82.21921916,  71.80529228,   0.        ,\n",
       "         50.        ,  90.24965374,  48.76474136,  82.80700453,\n",
       "         47.5394573 ,  81.0246876 ,  58.03447251,  94.76286192,\n",
       "         70.76722405,   9.48683298,  77.4209274 ,  79.64923101,\n",
       "         68.18357573,  72.        ,  17.        ,  65.06919394,\n",
       "         58.82176468,  31.57530681,  44.        ,  85.7554663 ,\n",
       "         39.3192065 ,  39.11521443,  14.2126704 ,  81.54140053,\n",
       "         38.63935817,  90.35485598,  55.21775077,  70.09279564,\n",
       "         15.        ,  92.31467922,  56.08029957,  73.55270219,\n",
       "         89.64373932,  71.86793444,  17.11724277,  71.44928271,\n",
       "         88.5663593 ,  56.82429058,  12.20655562,  90.42676595,\n",
       "         74.54528825,  80.15609771, 111.73182179,  37.        ,\n",
       "         56.32051136,  15.8113883 ,  70.85901495,   5.09901951,\n",
       "         41.62931659,  17.69180601,  49.36598019,  82.0548597 ,\n",
       "        102.90286682,  76.55716818,  57.07013229,  67.41661516,\n",
       "         68.44705983,  82.49242389,  46.5188134 , 102.59142264,\n",
       "         54.45181356,  24.51530134,  38.89730068,  40.70626487,\n",
       "         70.83784299,  76.53757247,  53.26349594,  46.09772229,\n",
       "         17.2626765 ,  59.54829972,  34.92849839,  14.56021978,\n",
       "         59.16924877,  71.61005516,  94.15412896,  57.00877125],\n",
       "       [ 79.906195  ,  47.38143096,  51.86520992,  58.18075283,\n",
       "         91.58602513,  62.28964601,  79.51100553,  53.85164807,\n",
       "         33.13608305,  66.40783086,  27.01851217,  57.97413216,\n",
       "         22.6715681 ,  90.42676595,  60.63827174,  85.16454661,\n",
       "         13.60147051,  65.30696747,  15.55634919,  11.66190379,\n",
       "         75.00666637,  55.31726674,  77.82030583,  50.        ,\n",
       "          0.        ,  47.38143096,  24.04163056,  57.07013229,\n",
       "         12.64911064,  31.06444913,  77.89736838,  68.41052551,\n",
       "         52.03844733,  59.07622195,  63.19810124,  51.41984053,\n",
       "         81.54140053,  22.        ,  52.81098371,  47.26520919,\n",
       "         50.59644256,  19.92485885,  66.60330322,  50.53711507,\n",
       "         12.08304597,  65.80273551,  60.01666435,  77.12976079,\n",
       "         13.89244399,  51.6139516 ,  32.38826948,  47.04253395,\n",
       "         60.20797289,  71.56814934,   6.70820393,  53.00943312,\n",
       "         59.46427499,  31.06444913,  50.92150823,  49.04079934,\n",
       "         48.41487375,  55.03635162,  57.87054518,  52.69724851,\n",
       "         25.63201124,  91.78779875,  84.7584804 ,  71.19691005,\n",
       "          8.48528137,  38.07886553,  22.82542442,  51.2445119 ,\n",
       "         50.32891813,  38.89730068,   6.08276253,  32.14031736,\n",
       "         67.74215822,  36.89173349,  12.52996409,  36.67424164,\n",
       "         22.02271555,  33.24154028,  21.54065923,  77.62087348,\n",
       "          8.06225775,  26.47640459,  36.23534186,  47.50789408,\n",
       "         53.08483776,  40.71854614,  44.01136217,  40.31128874,\n",
       "         49.979996  ,  39.3192065 ,  71.55417528,  64.12487817,\n",
       "         30.01666204,  58.54912467,  81.0246876 ,  76.4852927 ],\n",
       "       [ 65.05382387,   1.41421356,  77.1038261 ,  64.56004957,\n",
       "         93.53608929,  99.72462083,  89.49301649,  88.07383266,\n",
       "         73.40980861,  32.69556545,  33.54101966,  54.12947441,\n",
       "         24.75883681,  93.47726996,  94.9210198 ,  50.21951812,\n",
       "         59.81638571,  56.30275304,  50.08991915,  51.623638  ,\n",
       "         54.67174773,  30.41381265,  77.41446893,  90.24965374,\n",
       "         47.38143096,   0.        ,  42.20189569,  32.52691193,\n",
       "         43.41658669,  31.144823  ,  89.56003573,  36.67424164,\n",
       "         40.70626487,  99.72462083,  49.2036584 ,  27.80287755,\n",
       "         86.40601831,  35.11409973,  97.75479528,  41.43669871,\n",
       "         52.20153254,  59.48108943,  84.71717653,  16.2788206 ,\n",
       "         53.        ,  87.20665112, 102.88342918,  66.84309987,\n",
       "         52.83937925,   9.8488578 ,  39.01281841,  34.92849839,\n",
       "        103.31505215,  45.48626166,  41.03656906,  38.58756276,\n",
       "         26.92582404,  18.38477631,  96.04165763,  35.77708764,\n",
       "          6.40312424,  59.48108943, 100.64790112,  12.08304597,\n",
       "         43.17406629,  91.92388155,  47.38143096,  96.02083107,\n",
       "         48.01041554,  82.49242389,  46.17358552,  89.49301649,\n",
       "         67.18630813,  84.05950273,  44.20407221,  30.06659276,\n",
       "         25.01999201,  14.14213562,  35.60898763,  27.16615541,\n",
       "         49.979996  ,  42.04759208,  43.96589587,  44.27188724,\n",
       "         50.        ,  66.21178143,  57.218878  ,  65.06919394,\n",
       "         42.05948169,  17.4642492 ,  50.6359556 ,  54.03702434,\n",
       "         95.18928511,  39.45883931,  98.00510191, 104.75208828,\n",
       "         33.13608305,  48.87739764,  60.        ,  88.32326987],\n",
       "       [ 56.22277119,  41.48493703,  36.49657518,  35.        ,\n",
       "         68.60029154,  57.56735186,  58.13776741,  45.89117562,\n",
       "         32.80243893,  48.82622246,   8.94427191,  33.95585369,\n",
       "         25.29822128,  67.62396025,  52.77309921,  66.18912297,\n",
       "         27.65863337,  41.43669871,  12.64911064,  17.2626765 ,\n",
       "         52.34500931,  36.35931793,  54.20332093,  48.76474136,\n",
       "         24.04163056,  42.20189569,   0.        ,  37.58989226,\n",
       "         11.40175425,  43.41658669,  57.00877125,  49.73932046,\n",
       "         29.42787794,  58.13776741,  40.04996879,  33.01514804,\n",
       "         58.89821729,  37.01351105,  58.72818744,  24.08318916,\n",
       "         26.57066051,  20.80865205,  47.85394446,  37.20215048,\n",
       "         18.43908891,  48.70318265,  62.12889827,  53.15072906,\n",
       "         16.76305461,  41.59326869,   9.21954446,  25.63201124,\n",
       "         62.68173578,  50.59644256,  23.85372088,  31.04834939,\n",
       "         42.63801121,  24.18677324,  57.28001397,  27.51363298,\n",
       "         39.92492956,  31.38470965,  59.9082632 ,  41.67733197,\n",
       "         44.55333882,  68.50547423,  66.88796603,  56.29387178,\n",
       "         31.78049716,  43.8634244 ,  43.41658669,  47.5394573 ,\n",
       "         30.01666204,  46.09772229,  18.02775638,  43.829214  ,\n",
       "         54.67174773,  28.16025568,  17.69180601,  19.10497317,\n",
       "         44.10215414,  50.44799302,   3.16227766,  58.5918083 ,\n",
       "         31.95309062,  26.17250466,  16.76305461,  27.29468813,\n",
       "         30.2654919 ,  27.78488798,  20.1246118 ,  17.69180601,\n",
       "         56.56854249,  16.1245155 ,  57.70615219,  63.07138812,\n",
       "         10.63014581,  35.0142828 ,  58.21511831,  55.6057551 ],\n",
       "       [ 32.52691193,  31.11269837,  60.37383539,  39.3192065 ,\n",
       "         62.96824597,  88.48163651,  62.20128616,  75.71657678,\n",
       "         68.8839604 ,  12.20655562,  30.6757233 ,  26.        ,\n",
       "         41.43669871,  63.2455532 ,  81.63332653,  28.63564213,\n",
       "         64.62197769,  25.29822128,  50.08991915,  54.23098745,\n",
       "         22.47220505,   2.23606798,  47.12748667,  82.80700453,\n",
       "         57.07013229,  32.52691193,  37.58989226,   0.        ,\n",
       "         46.4865572 ,  57.5847202 ,  63.03173804,  12.20655562,\n",
       "         13.60147051,  91.54780172,  17.4642492 ,   6.08276253,\n",
       "         57.27128425,  57.07013229,  95.13148795,  18.35755975,\n",
       "         28.16025568,  58.30951895,  62.16912417,  16.2788206 ,\n",
       "         55.54277631,  66.21933252,  96.89685237,  34.66987165,\n",
       "         54.12947441,  23.60084744,  28.8444102 ,  12.72792206,\n",
       "         97.59098319,  15.13274595,  53.23532662,  10.44030651,\n",
       "          9.        ,  30.59411708,  93.86160024,  11.40175425,\n",
       "         26.17250466,  34.525353  ,  94.76286192,  21.63330765,\n",
       "         66.28725368,  60.92618485,  29.41088234,  75.96051606,\n",
       "         62.20128616,  80.80222769,  67.60177512,  80.28075735,\n",
       "         47.5394573 ,  83.23460819,  51.41984053,  57.00877125,\n",
       "         24.08318916,  26.57066051,  45.27692569,  20.39607805,\n",
       "         70.25667228,  68.30812543,  40.70626487,  21.02379604,\n",
       "         63.38769597,  63.00793601,  44.04543109,  46.5188134 ,\n",
       "         14.31782106,  19.92485885,  30.88689042,  37.44329045,\n",
       "         93.23625904,  23.34523506,  78.74642849,  96.04686356,\n",
       "         27.85677655,  19.10497317,  28.17800561,  62.00806399],\n",
       "       [ 67.47592163,  43.0464865 ,  42.54409477,  45.79301257,\n",
       "         79.32212806,  58.30951895,  67.89698079,  48.0416486 ,\n",
       "         30.3644529 ,  56.79788728,  15.8113883 ,  45.35416188,\n",
       "         21.21320344,  78.23681998,  55.03635162,  75.02666193,\n",
       "         18.35755975,  52.77309921,   7.07106781,   8.48528137,\n",
       "         63.07138812,  44.94441011,  65.29931087,  47.5394573 ,\n",
       "         12.64911064,  43.41658669,  11.40175425,  46.4865572 ,\n",
       "          0.        ,  36.40054945,  66.48308055,  58.30951895,\n",
       "         40.04996879,  57.00877125,  51.00980298,  41.23105626,\n",
       "         69.4046108 ,  28.63564213,  54.3783045 ,  35.0142828 ,\n",
       "         37.94733192,  16.15549442,  56.0357029 ,  42.63801121,\n",
       "          9.89949494,  55.94640292,  59.61543424,  64.5368112 ,\n",
       "          9.43398113,  45.3431362 ,  20.02498439,  35.51056181,\n",
       "         60.00833275,  60.41522987,  13.45362405,  41.30375286,\n",
       "         50.11985634,  25.23885893,  52.69724851,  37.48332963,\n",
       "         42.80186912,  42.48529157,  57.38466694,  45.96737974,\n",
       "         35.        ,  79.40403012,  75.15317691,  62.39390996,\n",
       "         20.59126028,  39.11521443,  33.24154028,  47.51841748,\n",
       "         38.94868419,  40.80441153,   6.70820393,  37.10795063,\n",
       "         60.30754513,  30.61045573,  10.04987562,  26.40075756,\n",
       "         33.42154993,  41.67733197,   8.94427191,  67.41661516,\n",
       "         20.61552813,  23.08679276,  24.8394847 ,  36.12478374,\n",
       "         41.01219331,  32.64965543,  31.38470965,  28.01785145,\n",
       "         51.86520992,  27.01851217,  63.2455532 ,  62.09669879,\n",
       "         18.68154169,  46.17358552,  69.02897942,  65.06919394],\n",
       "       [ 88.19297024,  32.06243908,  78.77182237,  76.69419796,\n",
       "        109.62207807,  93.08598176, 101.01980004,  83.86298349,\n",
       "         64.00781202,  61.81423784,  39.05124838,  70.9365914 ,\n",
       "         19.10497317, 108.97706181,  90.7964757 ,  80.39900497,\n",
       "         44.40720662,  76.02631123,  42.95346319,  41.19465985,\n",
       "         79.7057087 ,  55.36244214,  94.06912352,  81.0246876 ,\n",
       "         31.06444913,  31.144823  ,  43.41658669,  57.5847202 ,\n",
       "         36.40054945,   0.        , 100.12492197,  65.30696747,\n",
       "         59.9082632 ,  90.13878189,  70.83078427,  51.623638  ,\n",
       "        100.65783626,   9.21954446,  83.19855768,  57.62811814,\n",
       "         65.76473219,  50.15974482,  91.24143795,  43.73785546,\n",
       "         42.10700654,  91.78779875,  90.93404203,  87.92041856,\n",
       "         43.28972164,  40.01249805,  46.86149806,  53.53503526,\n",
       "         91.08238029,  72.42237223,  25.01999201,  59.16924877,\n",
       "         55.10898293,  27.78488798,  81.25269226,  55.22680509,\n",
       "         36.01388621,  72.24956747,  88.81441324,  42.04759208,\n",
       "         13.03840481, 108.90362712,  78.05767099,  98.68130522,\n",
       "         26.2488095 ,  68.8839604 ,  17.02938637,  82.0548597 ,\n",
       "         73.430239  ,  69.42621983,  32.24903099,   1.41421356,\n",
       "         56.14267539,  31.01612484,  26.57066051,  41.61730409,\n",
       "         21.26029163,  11.04536102,  42.95346319,  73.8241153 ,\n",
       "         28.46049894,  57.07889277,  59.93329626,  70.71067812,\n",
       "         61.29437168,  37.69615365,  61.07372594,  60.74537019,\n",
       "         80.28075735,  51.623638  ,  99.62429423,  95.18928511,\n",
       "         41.03656906,  68.24221567,  85.61541917,  98.73702446],\n",
       "       [ 45.17742799,  88.32326987,  30.3644529 ,  25.        ,\n",
       "         20.39607805,  52.95280918,   3.16227766,  44.        ,\n",
       "         58.1893461 ,  73.17103252,  61.40032573,  37.05401463,\n",
       "         81.3019065 ,  18.24828759,  44.55333882,  78.74642849,\n",
       "         73.24616031,  39.45883931,  62.36986452,  66.84309987,\n",
       "         53.75872022,  64.12487817,  21.63330765,  58.03447251,\n",
       "         77.89736838,  89.56003573,  57.00877125,  63.03173804,\n",
       "         66.48308055, 100.12492197,   0.        ,  70.45565982,\n",
       "         50.35871325,  61.40032573,  47.26520919,  64.49806199,\n",
       "         12.20655562,  94.02127419,  75.02666193,  48.27007354,\n",
       "         37.36308338,  61.58733636,  14.14213562,  76.11832894,\n",
       "         67.00746227,  19.02629759,  69.35416354,  38.01315562,\n",
       "         64.81512169,  83.5463943 ,  53.71219601,  55.10898293,\n",
       "         70.34912935,  62.36986452,  79.93122043,  53.23532662,\n",
       "         72.02777242,  76.05918748,  75.10659092,  54.74486277,\n",
       "         84.40379138,  30.08321791,  68.18357573,  82.20097323,\n",
       "        101.31633629,  23.08679276,  82.96987405,  25.07987241,\n",
       "         86.37129153,  68.65857558,  99.72462083,  53.00943312,\n",
       "         27.58622845,  71.58910532,  72.83543094, 100.40418318,\n",
       "         87.        ,  76.89603371,  74.65252842,  62.96824597,\n",
       "         99.72462083, 107.44766168,  58.13776741,  73.97972695,\n",
       "         85.79627032,  59.03388857,  41.72529209,  30.41381265,\n",
       "         49.25444142,  72.12489168,  39.81205847,  39.40812099,\n",
       "         75.16648189,  50.69516742,  28.63564213,  63.15061362,\n",
       "         59.94163828,  44.        ,  55.03635162,   1.41421356],\n",
       "       [ 32.69556545,  35.34119409,  71.34423593,  48.38388161,\n",
       "         67.08203932, 100.        ,  69.18092223,  87.20091743,\n",
       "         81.05553652,   4.24264069,  42.54409477,  34.4818793 ,\n",
       "         51.00980298,  67.74215822,  92.91393867,  16.76305461,\n",
       "         76.55716818,  31.06444913,  62.17716623,  66.21178143,\n",
       "         21.02379604,  13.41640786,  52.15361924,  94.76286192,\n",
       "         68.41052551,  36.67424164,  49.73932046,  12.20655562,\n",
       "         58.30951895,  65.30696747,  70.45565982,   0.        ,\n",
       "         24.41311123, 103.3924562 ,  23.19482701,  17.08800749,\n",
       "         63.03173804,  66.12110102, 107.29864864,  29.83286778,\n",
       "         38.47076812,  70.49113419,  71.47027354,  21.58703314,\n",
       "         67.54257916,  75.96051606, 108.8944443 ,  37.10795063,\n",
       "         66.18912297,  26.83281573,  41.0487515 ,  24.8394847 ,\n",
       "        109.60383205,  10.29563014,  64.13267498,  21.40093456,\n",
       "         10.19803903,  40.01249805, 106.04244433,  23.34523506,\n",
       "         30.46309242,  44.01136217, 106.77546535,  24.59674775,\n",
       "         75.23961722,  64.5368112 ,  17.20465053,  85.79627032,\n",
       "         72.99315036,  93.00537619,  77.02596965,  92.09777413,\n",
       "         58.18075283,  95.4410813 ,  62.93647591,  64.5368112 ,\n",
       "         18.78829423,  35.05709629,  56.29387178,  31.95309062,\n",
       "         80.00624976,  76.29547824,  52.83937925,   9.21954446,\n",
       "         74.33034374,  75.21303079,  55.90169944,  57.45432969,\n",
       "         24.69817807,  29.01723626,  42.20189569,  49.04079934,\n",
       "        105.42295765,  35.4682957 ,  88.76936408, 107.81465578,\n",
       "         39.81205847,  27.20294102,  25.        ,  69.58448103],\n",
       "       [ 28.7923601 ,  39.35733731,  47.01063709,  26.01922366,\n",
       "         52.83937925,  75.60423269,  49.81967483,  62.80127387,\n",
       "         57.98275606,  25.49509757,  25.17935662,  13.60147051,\n",
       "         41.59326869,  52.77309921,  68.50547423,  39.05124838,\n",
       "         57.07013229,  16.2788206 ,  41.97618372,  46.69047012,\n",
       "         23.02172887,  14.14213562,  36.7151195 ,  70.76722405,\n",
       "         52.03844733,  40.70626487,  29.42787794,  13.60147051,\n",
       "         40.04996879,  59.9082632 ,  50.35871325,  24.41311123,\n",
       "          0.        ,  79.20858539,  11.40175425,  14.14213562,\n",
       "         45.88027899,  57.27128425,  84.05355436,   5.83095189,\n",
       "         14.56021978,  49.04079934,  48.66210024,  25.96150997,\n",
       "         47.85394446,  52.63078947,  84.95881355,  28.01785145,\n",
       "         46.09772229,  33.52610923,  20.22374842,   6.40312424,\n",
       "         85.70297544,  21.9544984 ,  49.64876635,   3.16227766,\n",
       "         22.36067977,  32.20248438,  82.92767934,   5.        ,\n",
       "         34.92849839,  21.09502311,  82.8794305 ,  32.01562119,\n",
       "         66.3098786 ,  51.31276644,  41.03656906,  62.36184731,\n",
       "         58.54912467,  70.32780389,  66.73080248,  67.89698079,\n",
       "         34.0147027 ,  72.9451849 ,  46.01086828,  59.6405902 ,\n",
       "         37.48332963,  30.41381265,  41.77319715,  18.35755975,\n",
       "         68.68041933,  69.83552105,  32.55764119,  31.82766093,\n",
       "         59.30430001,  52.77309921,  31.89043744,  33.12099032,\n",
       "          1.41421356,  24.20743687,  17.80449381,  24.75883681,\n",
       "         82.37718131,  13.34166406,  65.1459899 ,  83.5463943 ,\n",
       "         22.20360331,   8.48528137,  29.        ,  49.25444142],\n",
       "       [ 94.51454914,  99.16148446,  35.77708764,  62.2655603 ,\n",
       "         81.74350127,   9.48683298,  64.49806199,  18.38477631,\n",
       "         26.68332813, 103.7111373 ,  67.08203932,  73.60027174,\n",
       "         78.10249676,  79.63039621,  17.        , 118.1058847 ,\n",
       "         46.01086828,  81.27115109,  50.        ,  49.81967483,\n",
       "         97.20082304,  91.04943712,  77.1621669 ,   9.48683298,\n",
       "         59.07622195,  99.72462083,  58.13776741,  91.54780172,\n",
       "         57.00877125,  90.13878189,  61.40032573, 103.3924562 ,\n",
       "         79.20858539,   0.        ,  85.27602242,  88.60022573,\n",
       "         72.36711961,  81.05553652,  16.64331698,  73.59347797,\n",
       "         66.70832032,  41.        ,  47.85394446,  95.01578816,\n",
       "         48.66210024,  42.42640687,   8.        ,  88.1192374 ,\n",
       "         48.05205511,  99.72963451,  64.35060217,  78.87331615,\n",
       "          9.        , 100.49875621,  65.27633568,  82.07313811,\n",
       "         98.60020284,  81.34494453,  17.80449381,  80.15609771,\n",
       "         97.98979539,  64.07027392,   7.28010989,  99.76472322,\n",
       "         83.21658489,  84.17244205, 120.24142381,  38.11823711,\n",
       "         65.06919394,  22.8035085 ,  79.40403012,  11.3137085 ,\n",
       "         48.54894438,  23.76972865,  58.69412236,  91.19758769,\n",
       "        112.05802069,  86.00581376,  66.49060084,  76.66159404,\n",
       "         76.79192666,  91.19758769,  55.94640292, 111.01801656,\n",
       "         63.12685641,  33.95585369,  47.50789408,  48.01041554,\n",
       "         79.19595949,  85.88364221,  61.52235366,  54.45181356,\n",
       "         18.43908891,  68.41052551,  35.35533906,   5.09901951,\n",
       "         68.47627326,  79.51100553, 101.51354589,  60.5309838 ],\n",
       "       [ 17.4642492 ,  47.80167361,  50.99019514,  25.94224354,\n",
       "         45.54119015,  80.61017306,  46.04345773,  67.89698079,\n",
       "         66.21178143,  26.        ,  36.49657518,  12.20655562,\n",
       "         52.80151513,  45.88027899,  72.9177619 ,  33.83784863,\n",
       "         67.47592163,   8.06225775,  52.34500931,  57.218878  ,\n",
       "         12.64911064,  19.23538406,  29.83286778,  77.4209274 ,\n",
       "         63.19810124,  49.2036584 ,  40.04996879,  17.4642492 ,\n",
       "         51.00980298,  70.83078427,  47.26520919,  23.19482701,\n",
       "         11.40175425,  85.27602242,   0.        ,  21.40093456,\n",
       "         40.31128874,  68.54195795,  91.78779875,  16.        ,\n",
       "         18.60107524,  58.69412236,  48.84669897,  33.28663395,\n",
       "         58.30951895,  53.66563146,  91.60785992,  17.69180601,\n",
       "         56.43580424,  40.81666326,  31.        ,  17.4642492 ,\n",
       "         92.4175308 ,  16.1245155 ,  61.        ,  11.66190379,\n",
       "         25.96150997,  43.0464865 ,  90.82400564,  15.65247584,\n",
       "         43.01162634,  22.20360331,  89.62700486,  38.94868419,\n",
       "         77.62087348,  43.46262762,  37.12142239,  63.50590524,\n",
       "         69.87131028,  78.79086241,  78.10889834,  74.02702209,\n",
       "         37.53664876,  81.54140053,  57.14017851,  70.49113419,\n",
       "         40.31128874,  40.60788101,  53.15072906,  29.54657341,\n",
       "         80.08120878,  80.95060222,  43.10452412,  27.73084925,\n",
       "         70.57619995,  61.68468205,  39.35733731,  37.48332963,\n",
       "         10.19803903,  34.05877273,  24.59674775,  31.76476035,\n",
       "         90.35485598,  24.        ,  66.64833081,  89.27485648,\n",
       "         33.54101966,   5.83095189,  18.24828759,  46.38965402],\n",
       "       [ 37.64306045,  26.40075756,  58.87274412,  40.01249805,\n",
       "         66.21178143,  86.092973  ,  63.95310782,  73.430239  ,\n",
       "         65.06919394,  15.8113883 ,  25.49509757,  27.65863337,\n",
       "         35.35533906,  66.3098786 ,  79.60527621,  33.83784863,\n",
       "         59.50630219,  28.65309756,  45.27692569,  49.1934955 ,\n",
       "         28.17800561,   4.        ,  50.15974482,  79.64923101,\n",
       "         51.41984053,  27.80287755,  33.01514804,   6.08276253,\n",
       "         41.23105626,  51.623638  ,  64.49806199,  17.08800749,\n",
       "         14.14213562,  88.60022573,  21.40093456,   0.        ,\n",
       "         59.77457654,  50.99019514,  91.28526716,  17.2626765 ,\n",
       "         28.0713377 ,  53.82378656,  62.28964601,  12.08304597,\n",
       "         50.53711507,  65.9241989 ,  93.60555539,  39.05124838,\n",
       "         49.24428901,  19.6977156 ,  24.75883681,  10.44030651,\n",
       "         94.26027795,  21.21320344,  47.38143096,  11.40175425,\n",
       "         10.        ,  24.51530134,  89.93886813,  10.04987562,\n",
       "         21.63330765,  35.        ,  91.43850392,  18.02775638,\n",
       "         60.20797289,  64.41273166,  34.        ,  75.50496672,\n",
       "         56.32051136,  76.69419796,  61.52235366,  77.4209274 ,\n",
       "         46.57252409,  79.0253124 ,  45.88027899,  51.07837116,\n",
       "         24.35159132,  20.61552813,  39.45883931,  14.86606875,\n",
       "         64.19501538,  62.29767251,  36.05551275,  26.2488095 ,\n",
       "         57.55866572,  58.89821729,  41.34005322,  45.22167622,\n",
       "         15.29705854,  13.92838828,  29.41088234,  35.34119409,\n",
       "         89.27485648,  20.24845673,  78.10249676,  93.23089617,\n",
       "         22.82542442,  21.54065923,  34.0147027 ,  63.38769597],\n",
       "       [ 34.78505426,  85.08818954,  39.05124838,  24.04163056,\n",
       "         10.44030651,  64.28841264,   9.21954446,  54.45181356,\n",
       "         66.09841148,  66.18912297,  61.61980201,  32.31098884,\n",
       "         81.56592426,   8.94427191,  55.78530272,  69.42621983,\n",
       "         78.79086241,  32.24903099,  66.37017402,  71.19691005,\n",
       "         44.55333882,  58.69412236,  11.18033989,  68.18357573,\n",
       "         81.54140053,  86.40601831,  58.89821729,  57.27128425,\n",
       "         69.4046108 , 100.65783626,  12.20655562,  63.03173804,\n",
       "         45.88027899,  72.36711961,  40.31128874,  59.77457654,\n",
       "          0.        ,  95.46203434,  85.14693183,  45.17742799,\n",
       "         35.22782991,  67.23094526,  24.51530134,  71.78439942,\n",
       "         71.58910532,  30.08321791,  80.23091673,  27.89265136,\n",
       "         69.35416354,  79.37883849,  53.81449619,  51.4781507 ,\n",
       "         81.21576202,  54.08326913,  82.61961026,  48.38388161,\n",
       "         66.09841148,  74.88658091,  85.0529247 ,  50.69516742,\n",
       "         80.77747211,  28.42534081,  78.91767863,  77.79460136,\n",
       "        103.3924562 ,  12.        ,  73.97972695,  37.12142239,\n",
       "         89.87213139,  77.41446893, 102.30347013,  63.28506933,\n",
       "         32.31098884,  80.39900497,  76.02631123, 100.76705811,\n",
       "         80.62257748,  74.79304781,  76.4852927 ,  61.05735009,\n",
       "        102.80077821, 108.8944443 ,  60.6052803 ,  65.37583651,\n",
       "         89.58794562,  65.80273551,  45.65084884,  34.92849839,\n",
       "         44.59820624,  69.3181073 ,  39.62322551,  41.40048309,\n",
       "         85.02352616,  49.40647731,  40.70626487,  74.46475676,\n",
       "         59.66573556,  38.32753579,  44.92215489,  12.52996409],\n",
       "       [ 86.00581376,  35.73513677,  71.1758386 ,  71.42128534,\n",
       "        104.80458005,  84.21401309,  95.13148795,  75.31268154,\n",
       "         55.08175742,  63.00793601,  34.20526275,  67.11929678,\n",
       "         15.8113883 , 104.00480758,  82.20097323,  82.00609733,\n",
       "         35.22782991,  72.9451849 ,  34.78505426,  32.55764119,\n",
       "         78.44743463,  54.91812087,  89.64373932,  72.        ,\n",
       "         22.        ,  35.11409973,  37.01351105,  57.07013229,\n",
       "         28.63564213,   9.21954446,  94.02127419,  66.12110102,\n",
       "         57.27128425,  81.05553652,  68.54195795,  50.99019514,\n",
       "         95.46203434,   0.        ,  73.97972695,  54.20332093,\n",
       "         61.22091146,  41.43669871,  84.38009244,  45.01110974,\n",
       "         33.37663854,  84.53401682,  81.74350127,  85.        ,\n",
       "         34.71310992,  42.75511665,  41.86884283,  51.07837116,\n",
       "         81.88406438,  72.18032973,  16.2788206 ,  57.00877125,\n",
       "         56.0357029 ,  26.47640459,  72.03471385,  52.92447449,\n",
       "         38.83297568,  67.26812024,  79.63039621,  44.55333882,\n",
       "          9.21954446, 104.35037135,  80.22468448,  91.        ,\n",
       "         17.08800749,  59.68249325,  11.18033989,  73.17103252,\n",
       "         66.85057965,  60.20797289,  23.76972865,  10.44030651,\n",
       "         59.43904441,  31.06444913,  19.41648784,  39.        ,\n",
       "         14.86606875,  13.45362405,  36.05551275,  75.02666193,\n",
       "         19.31320792,  48.25971405,  53.        ,  64.07027392,\n",
       "         58.6003413 ,  37.33630941,  55.90169944,  54.67174773,\n",
       "         71.06335202,  47.4341649 ,  91.76055798,  86.092973  ,\n",
       "         36.61966685,  65.29931087,  84.48076704,  92.61749295],\n",
       "       [103.24727599,  97.41663102,  46.5295605 ,  71.47027354,\n",
       "         95.0210503 ,  25.94224354,  78.00640999,  31.06444913,\n",
       "         26.2488095 , 106.96261029,  67.35725648,  80.95677859,\n",
       "         74.24957912,  93.00537619,  32.28002478, 123.00406497,\n",
       "         39.2173431 ,  89.05054744,  48.01041554,  46.14108798,\n",
       "        104.23531072,  94.26027795,  88.45903006,  17.        ,\n",
       "         52.81098371,  97.75479528,  58.72818744,  95.13148795,\n",
       "         54.3783045 ,  83.19855768,  75.02666193, 107.29864864,\n",
       "         84.05355436,  16.64331698,  91.78779875,  91.28526716,\n",
       "         85.14693183,  73.97972695,   0.        ,  78.23681998,\n",
       "         73.35529974,  38.60051813,  61.        ,  95.77577982,\n",
       "         44.77722635,  56.08029957,  10.81665383,  97.4063653 ,\n",
       "         44.94441011,  99.40321926,  66.52818951,  82.46211251,\n",
       "         10.29563014, 105.9481005 ,  59.46427499,  86.60831369,\n",
       "        101.13851887,  79.61155695,   2.        ,  84.02380615,\n",
       "         97.08243919,  72.23572523,   9.89949494,  99.80981916,\n",
       "         74.43117626,  97.12878049, 124.47088013,  53.36665626,\n",
       "         57.07013229,  15.26433752,  70.25667228,  22.02271555,\n",
       "         57.56735186,  13.92838828,  54.12947441,  84.40379138,\n",
       "        113.35784049,  84.8763807 ,  62.60990337,  77.83315489,\n",
       "         67.06713055,  82.3893197 ,  55.97320788, 115.60276813,\n",
       "         54.91812087,  32.55764119,  52.47856705,  56.30275304,\n",
       "         84.31488599,  86.05230967,  67.23094526,  60.03332408,\n",
       "          3.        ,  71.84010022,  50.96076922,  19.10497317,\n",
       "         69.35416354,  85.95929269, 109.12378293,  74.00675645],\n",
       "       [ 32.75667871,  40.16217126,  42.04759208,  23.34523506,\n",
       "         53.00943312,  70.21395873,  48.08326112,  57.42821606,\n",
       "         52.15361924,  30.52867504,  20.88061302,  13.45362405,\n",
       "         38.83297568,  52.69724851,  63.28506933,  44.82186966,\n",
       "         51.623638  ,  18.78829423,  36.49657518,  41.30375286,\n",
       "         28.28427125,  18.38477631,  37.01351105,  65.06919394,\n",
       "         47.26520919,  41.43669871,  24.08318916,  18.35755975,\n",
       "         35.0142828 ,  57.62811814,  48.27007354,  29.83286778,\n",
       "          5.83095189,  73.59347797,  16.        ,  17.2626765 ,\n",
       "         45.17742799,  54.20332093,  78.23681998,   0.        ,\n",
       "         11.04536102,  43.32435804,  45.09988914,  28.0713377 ,\n",
       "         42.42640687,  48.66210024,  79.24645102,  30.87069808,\n",
       "         40.60788101,  35.35533906,  15.        ,   7.        ,\n",
       "         79.9812478 ,  27.78488798,  45.35416188,   8.48528137,\n",
       "         26.57066051,  30.41381265,  77.1038261 ,   7.28010989,\n",
       "         36.138622  ,  18.24828759,  77.15568676,  34.13209633,\n",
       "         63.0634601 ,  51.85556865,  46.66904756,  58.24946352,\n",
       "         54.12947441,  64.49806199,  63.1585307 ,  62.28964601,\n",
       "         29.41088234,  67.11929678,  41.19465985,  57.48912941,\n",
       "         41.48493703,  29.68164416,  37.64306045,  16.2788206 ,\n",
       "         64.84597135,  67.11929678,  27.16615541,  37.53664876,\n",
       "         54.74486277,  46.95742753,  26.17250466,  28.23118843,\n",
       "          6.32455532,  24.16609195,  12.52996409,  19.20937271,\n",
       "         76.55063684,   8.        ,  60.87692502,  77.98717843,\n",
       "         18.02775638,  11.40175425,  34.13209633,  47.07440918],\n",
       "       [ 31.25699922,  50.96076922,  33.01514804,  12.36931688,\n",
       "         43.8634244 ,  62.28964601,  37.33630941,  49.51767361,\n",
       "         48.10405388,  39.92492956,  27.01851217,   8.06225775,\n",
       "         46.66904756,  43.27817002,  54.81788029,  51.73973328,\n",
       "         52.08646657,  16.2788206 ,  37.33630941,  42.42640687,\n",
       "         30.88689042,  28.63564213,  28.42534081,  58.82176468,\n",
       "         50.59644256,  52.20153254,  26.57066051,  28.16025568,\n",
       "         37.94733192,  65.76473219,  37.36308338,  38.47076812,\n",
       "         14.56021978,  66.70832032,  18.60107524,  28.0713377 ,\n",
       "         35.22782991,  61.22091146,  73.35529974,  11.04536102,\n",
       "          0.        ,  42.10700654,  34.23448554,  39.11521443,\n",
       "         43.28972164,  38.07886553,  73.00684899,  27.07397274,\n",
       "         41.19465985,  46.38965402,  19.41648784,  18.02775638,\n",
       "         73.81734214,  33.9705755 ,  50.08991915,  17.72004515,\n",
       "         36.87817783,  39.66106403,  72.44998275,  18.02775638,\n",
       "         47.07440918,   7.28010989,  71.02816343,  45.17742799,\n",
       "         69.63476143,  43.18564576,  54.40588203,  47.80167361,\n",
       "         58.30951895,  60.74537019,  69.11584478,  55.4436651 ,\n",
       "         19.72308292,  63.5688603 ,  44.59820624,  65.7951366 ,\n",
       "         51.97114584,  39.81205847,  43.0464865 ,  25.94224354,\n",
       "         70.23531875,  74.51845409,  29.12043956,  45.        ,\n",
       "         58.52349955,  44.14748011,  21.1896201 ,  19.20937271,\n",
       "         13.92838828,  34.78505426,   7.        ,  13.60147051,\n",
       "         72.01388755,  14.2126704 ,  50.59644256,  70.76722405,\n",
       "         24.75883681,  12.80624847,  35.84689666,  36.138622  ],\n",
       "       [ 73.33484847,  59.05929224,  33.24154028,  45.89117562,\n",
       "         77.62087348,  43.        ,  63.63175308,  33.95585369,\n",
       "         14.31782106,  69.63476143,  29.        ,  50.15974482,\n",
       "         37.10795063,  76.15773106,  40.79215611,  86.83317338,\n",
       "         11.66190379,  58.30951895,   9.43398113,   9.        ,\n",
       "         71.30918594,  57.14017851,  65.73431372,  31.57530681,\n",
       "         19.92485885,  59.48108943,  20.80865205,  58.30951895,\n",
       "         16.15549442,  50.15974482,  61.58733636,  70.49113419,\n",
       "         49.04079934,  41.        ,  58.69412236,  53.82378656,\n",
       "         67.23094526,  41.43669871,  38.60051813,  43.32435804,\n",
       "         42.10700654,   0.        ,  49.04079934,  57.31491952,\n",
       "          8.06225775,  47.38143096,  43.46262762,  69.007246  ,\n",
       "          7.07106781,  60.80296045,  29.52964612,  46.06517123,\n",
       "         43.8634244 ,  70.77428912,  25.17935662,  51.07837116,\n",
       "         63.41135545,  41.18252056,  37.01351105,  47.85394446,\n",
       "         58.52349955,  44.18144407,  41.23105626,  61.22091146,\n",
       "         45.54119015,  78.4346862 ,  87.66413178,  51.86520992,\n",
       "         27.73084925,  23.43074903,  42.54409477,  32.01562119,\n",
       "         34.92849839,  25.45584412,  18.        ,  51.0881591 ,\n",
       "         74.96665926,  46.32493929,  25.49509757,  39.69886648,\n",
       "         41.18252056,  53.16013544,  17.80449381,  79.25906888,\n",
       "         26.41968963,   7.07106781,  22.36067977,  32.31098884,\n",
       "         49.64876635,  47.50789408,  35.12833614,  29.01723626,\n",
       "         36.23534186,  35.84689666,  51.97114584,  46.09772229,\n",
       "         31.2409987 ,  53.15072906,  76.90253572,  60.20797289],\n",
       "       [ 51.66236541,  83.60023923,  16.55294536,  23.08679276,\n",
       "         34.05877273,  39.84971769,  17.02938637,  30.06659276,\n",
       "         44.38468204,  73.4982993 ,  53.75872022,  37.        ,\n",
       "         73.00684899,  32.01562119,  31.32091953,  82.29823813,\n",
       "         60.6052803 ,  42.05948169,  51.0881591 ,  55.1724569 ,\n",
       "         57.98275606,  62.80127387,  30.52867504,  44.        ,\n",
       "         66.60330322,  84.71717653,  47.85394446,  62.16912417,\n",
       "         56.0357029 ,  91.24143795,  14.14213562,  71.47027354,\n",
       "         48.66210024,  47.85394446,  48.84669897,  62.28964601,\n",
       "         24.51530134,  84.38009244,  61.        ,  45.09988914,\n",
       "         34.23448554,  49.04079934,   0.        ,  73.00684899,\n",
       "         55.15432893,   5.83095189,  55.73149917,  44.55333882,\n",
       "         53.03772242,  80.02499609,  46.57252409,  52.08646657,\n",
       "         56.71860365,  64.88451279,  69.4046108 ,  51.7880295 ,\n",
       "         71.02112362,  69.37578828,  61.03277808,  52.23983155,\n",
       "         80.22468448,  27.65863337,  54.45181356,  79.        ,\n",
       "         91.02197537,  36.34556369,  85.90692638,  15.        ,\n",
       "         75.07329752,  54.5710546 ,  89.02246907,  39.01281841,\n",
       "         18.02775638,  57.48912941,  62.00806399,  91.67878708,\n",
       "         86.14522622,  71.19691005,  65.        ,  57.55866572,\n",
       "         88.6171541 ,  97.63708312,  48.37354649,  76.55716818,\n",
       "         74.27651042,  45.79301257,  31.38470965,  20.61552813,\n",
       "         47.85394446,  67.36467917,  34.13209633,  31.32091953,\n",
       "         61.07372594,  45.27692569,  18.43908891,  50.        ,\n",
       "         52.88667129,  44.27188724,  60.6052803 ,  13.03840481],\n",
       "       [ 48.7954916 ,  14.86606875,  67.91170739,  51.35172831,\n",
       "         78.29431652,  93.52005133,  75.70997292,  81.15417426,\n",
       "         70.        ,  18.11077028,  28.42534081,  39.56008089,\n",
       "         30.59411708,  78.39005039,  87.66413178,  37.        ,\n",
       "         60.80296045,  40.70626487,  48.08326112,  51.0881591 ,\n",
       "         38.41874542,  14.2126704 ,  62.24146528,  85.7554663 ,\n",
       "         50.53711507,  16.2788206 ,  37.20215048,  16.2788206 ,\n",
       "         42.63801121,  43.73785546,  76.11832894,  21.58703314,\n",
       "         25.96150997,  95.01578816,  33.28663395,  12.08304597,\n",
       "         71.78439942,  45.01110974,  95.77577982,  28.0713377 ,\n",
       "         39.11521443,  57.31491952,  73.00684899,   0.        ,\n",
       "         52.49761899,  76.23647421,  99.2975327 ,  50.80354318,\n",
       "         51.66236541,   7.61577311,  30.87069808,  21.09502311,\n",
       "         99.86490875,  29.52964612,  45.31004304,  23.40939982,\n",
       "         11.40175425,  19.92485885,  94.26027795,  21.37755833,\n",
       "          9.89949494,  46.27094121,  97.08243919,   6.08276253,\n",
       "         54.00925847,  76.47875522,  35.35533906,  85.58621384,\n",
       "         53.75872022,  80.72174428,  56.08029957,  84.11896338,\n",
       "         56.43580424,  82.75868534,  45.79301257,  42.95346319,\n",
       "         17.69180601,  14.31782106,  38.01315562,  18.35755975,\n",
       "         59.30430001,  54.74486277,  39.8246155 ,  30.14962686,\n",
       "         55.36244214,  63.2534584 ,  49.04079934,  54.74486277,\n",
       "         27.20294102,  10.        ,  39.20459157,  44.14748011,\n",
       "         93.50935782,  28.63564213,  87.96590248,  99.84988733,\n",
       "         26.62705391,  33.61547263,  43.829214  ,  74.96665926],\n",
       "       [ 74.00675645,  52.69724851,  40.        ,  49.04079934,\n",
       "         81.84130986,  51.00980298,  68.81860214,  41.97618372,\n",
       "         22.09072203,  66.24198065,  25.05992817,  51.15662225,\n",
       "         29.73213749,  80.5294977 ,  48.83646179,  84.17244205,\n",
       "          9.21954446,  59.03388857,   6.        ,   1.41421356,\n",
       "         70.71067812,  54.12947441,  68.9492567 ,  39.3192065 ,\n",
       "         12.08304597,  53.        ,  18.43908891,  55.54277631,\n",
       "          9.89949494,  42.10700654,  67.00746227,  67.54257916,\n",
       "         47.85394446,  48.66210024,  58.30951895,  50.53711507,\n",
       "         71.58910532,  33.37663854,  44.77722635,  42.42640687,\n",
       "         43.28972164,   8.06225775,  55.15432893,  52.49761899,\n",
       "          0.        ,  54.03702434,  50.59644256,  70.34912935,\n",
       "          2.23606798,  55.22680509,  27.65863337,  43.96589587,\n",
       "         50.92150823,  68.9637586 ,  17.11724277,  49.47726751,\n",
       "         59.68249325,  35.        ,  43.0464865 ,  45.88027899,\n",
       "         52.63078947,  46.57252409,  48.38388161,  55.86591089,\n",
       "         37.69615365,  82.3468275 ,  84.53401682,  59.16924877,\n",
       "         20.24845673,  29.52964612,  34.88552709,  40.        ,\n",
       "         39.66106403,  31.06444913,  10.04987562,  43.0464865 ,\n",
       "         70.17834424,  40.45985665,  18.02775638,  35.84689666,\n",
       "         33.83784863,  45.22167622,  15.29705854,  76.55716818,\n",
       "         19.20937271,  15.        ,  25.94224354,  36.89173349,\n",
       "         48.66210024,  42.52058325,  36.34556369,  31.32091953,\n",
       "         42.19004622,  34.525353  ,  59.48108943,  53.75872022,\n",
       "         27.73084925,  53.08483776,  76.53103945,  65.60487787],\n",
       "       [ 57.28001397,  86.14522622,  14.14213562,  27.73084925,\n",
       "         39.3192065 ,  34.20526275,  22.09072203,  25.01999201,\n",
       "         41.18252056,  77.79460136,  55.31726674,  41.62931659,\n",
       "         74.        ,  37.21558813,  25.70992026,  87.32124598,\n",
       "         58.72818744,  47.16990566,  50.47771786,  54.20332093,\n",
       "         63.2455532 ,  66.70832032,  36.35931793,  39.11521443,\n",
       "         65.80273551,  87.20665112,  48.70318265,  66.21933252,\n",
       "         55.94640292,  91.78779875,  19.02629759,  75.96051606,\n",
       "         52.63078947,  42.42640687,  53.66563146,  65.9241989 ,\n",
       "         30.08321791,  84.53401682,  56.08029957,  48.66210024,\n",
       "         38.07886553,  47.38143096,   5.83095189,  76.23647421,\n",
       "         54.03702434,   0.        ,  50.35871325,  50.20956084,\n",
       "         52.0096145 ,  83.05419917,  48.50773134,  55.57877293,\n",
       "         51.35172831,  69.77105417,  69.11584478,  55.78530272,\n",
       "         74.95331881,  71.19691005,  56.22277119,  55.90169944,\n",
       "         83.00602388,  31.95309062,  49.16299421,  82.15229759,\n",
       "         90.73588044,  41.77319715,  90.78546139,   9.8488578 ,\n",
       "         74.20242584,  50.59644256,  88.48163651,  34.05877273,\n",
       "         20.02498439,  53.45091206,  61.58733636,  92.30926281,\n",
       "         90.02777349,  73.43704787,  65.30696747,  60.07495318,\n",
       "         87.80091116,  97.61659695,  48.84669897,  81.39410298,\n",
       "         73.24616031,  43.41658669,  31.95309062,  22.20360331,\n",
       "         51.92301994,  70.0285656 ,  37.05401463,  33.24154028,\n",
       "         56.32051136,  48.        ,  13.03840481,  44.38468204,\n",
       "         54.74486277,  48.84669897,  66.06814664,  18.11077028],\n",
       "       [101.53324579, 102.41581909,  43.08131846,  69.3181073 ,\n",
       "         89.67719889,  17.2626765 ,  72.44308111,  25.96150997,\n",
       "         29.52964612, 108.97706181,  71.02112362,  80.15609771,\n",
       "         80.32434251,  87.57282684,  25.        , 123.98790264,\n",
       "         46.5295605 ,  87.98295289,  52.80151513,  51.86520992,\n",
       "        103.73041984,  96.26006441,  84.77027781,  14.2126704 ,\n",
       "         60.01666435, 102.88342918,  62.12889827,  96.89685237,\n",
       "         59.61543424,  90.93404203,  69.35416354, 108.8944443 ,\n",
       "         84.95881355,   8.        ,  91.60785992,  93.60555539,\n",
       "         80.23091673,  81.74350127,  10.81665383,  79.24645102,\n",
       "         73.00684899,  43.46262762,  55.73149917,  99.2975327 ,\n",
       "         50.59644256,  50.35871325,   0.        ,  95.27329112,\n",
       "         50.32891813, 103.5857133 ,  69.02897942,  84.17244205,\n",
       "          1.        , 106.52699188,  66.49060084,  87.7268488 ,\n",
       "        103.5857133 ,  84.52810184,  12.52996409,  85.5628424 ,\n",
       "        101.59724406,  70.83078427,   2.23606798, 103.77379245,\n",
       "         83.02409289,  92.07062507, 125.89678312,  46.09772229,\n",
       "         65.19202405,  22.09072203,  79.        ,  17.88854382,\n",
       "         55.47071299,  22.02271555,  60.44005295,  92.07062507,\n",
       "        116.60617479,  89.47066558,  68.62215386,  81.0246876 ,\n",
       "         76.05918748,  91.02197537,  59.68249325, 116.77756634,\n",
       "         63.12685641,  36.67424164,  53.07541804,  54.70831747,\n",
       "         85.0411665 ,  89.88882022,  67.47592163,  60.30754513,\n",
       "         13.41640786,  73.59347797,  43.28972164,   8.60232527,\n",
       "         72.6704892 ,  85.80209788, 108.2266141 ,  68.46897107],\n",
       "       [  7.21110255,  65.4369926 ,  52.35456045,  26.        ,\n",
       "         30.14962686,  81.83520025,  35.84689666,  69.83552105,\n",
       "         73.54590403,  40.80441153,  51.623638  ,  19.23538406,\n",
       "         69.46221995,  31.01612484,  73.4982993 ,  41.59326869,\n",
       "         79.15806971,  12.08304597,  64.38167441,  69.46221995,\n",
       "         17.        ,  36.61966685,  16.76305461,  81.54140053,\n",
       "         77.12976079,  66.84309987,  53.15072906,  34.66987165,\n",
       "         64.5368112 ,  87.92041856,  38.01315562,  37.10795063,\n",
       "         28.01785145,  88.1192374 ,  17.69180601,  39.05124838,\n",
       "         27.89265136,  85.        ,  97.4063653 ,  30.87069808,\n",
       "         27.07397274,  69.007246  ,  44.55333882,  50.80354318,\n",
       "         70.34912935,  50.20956084,  95.27329112,   0.        ,\n",
       "         68.26419266,  58.24946352,  44.92215489,  34.40930107,\n",
       "         96.17692031,  27.29468813,  75.89466384,  29.06888371,\n",
       "         42.48529157,  60.21627687,  96.76776323,  32.80243893,\n",
       "         60.6052803 ,  25.49509757,  93.52005133,  56.30275304,\n",
       "         93.91485505,  27.45906044,  46.27094121,  59.46427499,\n",
       "         84.48076704,  86.12200648,  94.02127419,  77.38862966,\n",
       "         39.92492956,  89.05054744,  71.06335202,  87.658428  ,\n",
       "         55.6596802 ,  58.13776741,  68.35202996,  46.32493929,\n",
       "         95.63472173,  97.75479528,  55.90169944,  38.        ,\n",
       "         84.89994111,  70.45565982,  47.26520919,  41.10960958,\n",
       "         26.62705391,  51.66236541,  34.05877273,  40.04996879,\n",
       "         96.46242792,  38.27531842,  62.96824597,  91.41662868,\n",
       "         48.84669897,  19.72308292,  17.08800749,  37.58989226],\n",
       "       [ 72.        ,  52.47856705,  38.01315562,  46.81879964,\n",
       "         79.60527621,  50.009999  ,  66.61080993,  40.60788101,\n",
       "         21.37755833,  65.        ,  23.85372088,  49.09175083,\n",
       "         30.08321791,  78.29431652,  47.51841748,  82.76472679,\n",
       "         11.04536102,  57.00877125,   4.12310563,   2.23606798,\n",
       "         68.8839604 ,  52.77309921,  66.73080248,  38.63935817,\n",
       "         13.89244399,  52.83937925,  16.76305461,  54.12947441,\n",
       "          9.43398113,  43.28972164,  64.81512169,  66.18912297,\n",
       "         46.09772229,  48.05205511,  56.43580424,  49.24428901,\n",
       "         69.35416354,  34.71310992,  44.94441011,  40.60788101,\n",
       "         41.19465985,   7.07106781,  53.03772242,  51.66236541,\n",
       "          2.23606798,  52.0096145 ,  50.32891813,  68.26419266,\n",
       "          0.        ,  54.67174773,  25.96150997,  42.3792402 ,\n",
       "         50.69516742,  67.35725648,  18.43908891,  47.80167361,\n",
       "         58.52349955,  34.66987165,  43.26661531,  44.27188724,\n",
       "         52.20153254,  44.38468204,  48.10405388,  55.22680509,\n",
       "         39.39543121,  80.11242101,  83.24061509,  57.30619513,\n",
       "         22.20360331,  29.68164416,  36.7151195 ,  39.05124838,\n",
       "         37.44329045,  31.40063694,  11.04536102,  44.18144407,\n",
       "         69.35416354,  40.        ,  18.43908891,  34.66987165,\n",
       "         35.80502758,  46.81879964,  13.60147051,  75.15317691,\n",
       "         21.26029163,  14.14213562,  23.70653918,  34.66987165,\n",
       "         46.87216658,  41.72529209,  34.23448554,  29.12043956,\n",
       "         42.43819035,  32.75667871,  57.69748695,  53.15072906,\n",
       "         26.41968963,  51.15662225,  74.67261881,  63.41135545],\n",
       "       [ 55.97320788,   8.54400375,  74.14849965,  58.69412236,\n",
       "         85.90692638,  98.79271228,  83.19855768,  86.64871609,\n",
       "         74.09453421,  22.84731932,  32.64965543,  47.12748667,\n",
       "         29.96664813,  86.00581376,  93.30058949,  40.60788101,\n",
       "         62.96824597,  48.3011387 ,  51.4003891 ,  53.81449619,\n",
       "         45.27692569,  21.63330765,  69.85699679,  90.35485598,\n",
       "         51.6139516 ,   9.8488578 ,  41.59326869,  23.60084744,\n",
       "         45.3431362 ,  40.01249805,  83.5463943 ,  26.83281573,\n",
       "         33.52610923,  99.72963451,  40.81666326,  19.6977156 ,\n",
       "         79.37883849,  42.75511665,  99.40321926,  35.35533906,\n",
       "         46.38965402,  60.80296045,  80.02499609,   7.61577311,\n",
       "         55.22680509,  83.05419917, 103.5857133 ,  58.24946352,\n",
       "         54.67174773,   0.        ,  36.40054945,  28.44292531,\n",
       "        104.10091258,  35.80502758,  45.79301257,  31.01612484,\n",
       "         17.20465053,  20.61552813,  97.80081799,  28.86173938,\n",
       "          4.        ,  53.60037313, 101.35580891,   2.23606798,\n",
       "         51.35172831,  84.07734534,  38.05259518,  92.26592004,\n",
       "         53.66563146,  84.20213774,  53.93514624,  89.05054744,\n",
       "         63.12685641,  86.05230967,  47.50789408,  39.05124838,\n",
       "         16.76305461,  14.86606875,  39.20459157,  23.76972865,\n",
       "         57.48912941,  51.03920062,  43.9089968 ,  34.4818793 ,\n",
       "         55.47071299,  67.11929678,  54.81788029,  61.29437168,\n",
       "         34.78505426,  13.92838828,  46.01086828,  50.48762225,\n",
       "         97.0051545 ,  35.12833614,  94.53041838, 104.65180362,\n",
       "         31.38470965,  41.23105626,  50.44799302,  82.37718131],\n",
       "       [ 47.51841748,  38.05259518,  38.11823711,  29.83286778,\n",
       "         62.96824597,  62.64982043,  54.3783045 ,  50.32891813,\n",
       "         40.31128874,  40.45985665,   7.81024968,  26.        ,\n",
       "         27.80287755,  62.22539674,  56.92099788,  57.30619513,\n",
       "         36.87817783,  32.984845  ,  21.84032967,  26.47640459,\n",
       "         43.18564576,  27.80287755,  47.80167361,  55.21775077,\n",
       "         32.38826948,  39.01281841,   9.21954446,  28.8444102 ,\n",
       "         20.02498439,  46.86149806,  53.71219601,  41.0487515 ,\n",
       "         20.22374842,  64.35060217,  31.        ,  24.75883681,\n",
       "         53.81449619,  41.86884283,  66.52818951,  15.        ,\n",
       "         19.41648784,  29.52964612,  46.57252409,  30.87069808,\n",
       "         27.65863337,  48.50773134,  69.02897942,  44.92215489,\n",
       "         25.96150997,  36.40054945,   0.        ,  16.55294536,\n",
       "         69.65629907,  41.43669871,  31.01612484,  21.84032967,\n",
       "         34.6554469 ,  22.8035085 ,  65.19202405,  18.38477631,\n",
       "         35.51056181,  25.45584412,  66.84309987,  36.05551275,\n",
       "         50.21951812,  62.48199741,  58.24946352,  57.07889277,\n",
       "         39.56008089,  52.0096145 ,  49.73932046,  53.33854141,\n",
       "         28.63564213,  54.40588203,  26.30589288,  47.01063709,\n",
       "         47.70744177,  25.01999201,  23.70653918,  12.64911064,\n",
       "         50.99019514,  55.22680509,  12.36931688,  49.73932046,\n",
       "         40.02499219,  34.20526275,  18.43908891,  26.30589288,\n",
       "         21.09502311,  22.56102835,  14.2126704 ,  15.29705854,\n",
       "         64.5368112 ,   7.        ,  59.        ,  69.11584478,\n",
       "          6.32455532,  26.17250466,  49.09175083,  52.35456045],\n",
       "       [ 34.92849839,  33.61547263,  48.46648326,  30.2654919 ,\n",
       "         58.83026432,  76.00657866,  54.81788029,  63.28506933,\n",
       "         56.22277119,  24.8394847 ,  20.02498439,  19.23538406,\n",
       "         35.34119409,  58.66856058,  69.35416354,  40.81666326,\n",
       "         53.16013544,  22.6715681 ,  38.27531842,  42.72001873,\n",
       "         28.16025568,  12.20655562,  42.72001873,  70.09279564,\n",
       "         47.04253395,  34.92849839,  25.63201124,  12.72792206,\n",
       "         35.51056181,  53.53503526,  55.10898293,  24.8394847 ,\n",
       "          6.40312424,  78.87331615,  17.4642492 ,  10.44030651,\n",
       "         51.4781507 ,  51.07837116,  82.46211251,   7.        ,\n",
       "         18.02775638,  46.06517123,  52.08646657,  21.09502311,\n",
       "         43.96589587,  55.57877293,  84.17244205,  34.40930107,\n",
       "         42.3792402 ,  28.44292531,  16.55294536,   0.        ,\n",
       "         84.86459804,  25.        ,  44.18144407,   6.08276253,\n",
       "         20.1246118 ,  25.8069758 ,  81.21576202,   2.        ,\n",
       "         29.41088234,  25.17935662,  82.03657721,  27.16615541,\n",
       "         60.16643583,  57.42821606,  42.01190308,  65.11528238,\n",
       "         53.15072906,  68.24221567,  60.7289058 ,  67.62396025,\n",
       "         36.138622  ,  70.72481884,  41.10960958,  53.25410782,\n",
       "         34.78505426,  24.08318916,  36.22154055,  12.08304597,\n",
       "         62.8171951 ,  63.5295207 ,  28.7923601 ,  33.28663395,\n",
       "         54.03702434,  50.47771786,  31.40063694,  34.78505426,\n",
       "          7.81024968,  18.02775638,  18.97366596,  25.05992817,\n",
       "         80.60397013,  10.63014581,  67.68308504,  83.40863265,\n",
       "         17.02938637,  14.86606875,  34.23448554,  53.93514624],\n",
       "       [102.42070103, 102.85912696,  44.01136217,  70.21395873,\n",
       "         90.66973034,  18.24828759,  73.43704787,  26.92582404,\n",
       "         30.01666204, 109.658561  ,  71.56116265,  80.99382693,\n",
       "         80.65358021,  88.5663593 ,  26.        , 124.73972904,\n",
       "         46.69047012,  88.83692926,  53.22593353,  52.20153254,\n",
       "        104.56098699,  96.9381246 ,  85.72630868,  15.        ,\n",
       "         60.20797289, 103.31505215,  62.68173578,  97.59098319,\n",
       "         60.00833275,  91.08238029,  70.34912935, 109.60383205,\n",
       "         85.70297544,   9.        ,  92.4175308 ,  94.26027795,\n",
       "         81.21576202,  81.88406438,  10.29563014,  79.9812478 ,\n",
       "         73.81734214,  43.8634244 ,  56.71860365,  99.86490875,\n",
       "         50.92150823,  51.35172831,   1.        ,  96.17692031,\n",
       "         50.69516742, 104.10091258,  69.65629907,  84.86459804,\n",
       "          0.        , 107.29864864,  66.70832032,  88.45903006,\n",
       "        104.23531072,  84.97058314,  12.08304597,  86.2670273 ,\n",
       "        102.08329932,  71.69379332,   2.82842712, 104.30723848,\n",
       "         83.05419917,  93.05912099, 126.62148317,  47.09564736,\n",
       "         65.27633568,  22.20360331,  79.00632886,  18.78829423,\n",
       "         56.35601121,  22.        ,  60.7289058 ,  92.2279784 ,\n",
       "        117.20068259,  89.94442729,  68.9492567 ,  81.60882305,\n",
       "         76.02631123,  91.04943712,  60.20797289, 117.51595636,\n",
       "         63.19810124,  37.12142239,  53.81449619,  55.56977596,\n",
       "         85.79627032,  90.42676595,  68.24954212,  61.07372594,\n",
       "         13.        ,  74.27651042,  44.28317965,   9.43398113,\n",
       "         73.23933369,  86.60831369, 109.07795378,  69.46221995],\n",
       "       [ 22.47220505,  44.10215414,  66.84309987,  42.05948169,\n",
       "         57.42821606,  96.26006441,  60.8276253 ,  83.48652586,\n",
       "         79.92496481,  14.4222051 ,  44.72135955,  28.3019434 ,\n",
       "         56.56854249,  58.21511831,  88.72992731,  17.80449381,\n",
       "         78.16009212,  23.08679276,  63.2455532 ,  67.72001181,\n",
       "         10.77032961,  17.2626765 ,  43.01162634,  92.31467922,\n",
       "         71.56814934,  45.48626166,  50.59644256,  15.13274595,\n",
       "         60.41522987,  72.42237223,  62.36986452,  10.29563014,\n",
       "         21.9544984 , 100.49875621,  16.1245155 ,  21.21320344,\n",
       "         54.08326913,  72.18032973, 105.9481005 ,  27.78488798,\n",
       "         33.9705755 ,  70.77428912,  64.88451279,  29.52964612,\n",
       "         68.9637586 ,  69.77105417, 106.52699188,  27.29468813,\n",
       "         67.35725648,  35.80502758,  41.43669871,  25.        ,\n",
       "        107.29864864,   0.        ,  68.0661443 ,  19.6977156 ,\n",
       "         18.60107524,  45.70557953, 104.84750832,  23.08679276,\n",
       "         39.11521443,  38.27531842, 104.4844486 ,  33.60059523,\n",
       "         81.39410298,  54.74486277,  21.02379604,  79.60527621,\n",
       "         77.0584194 ,  92.28217596,  82.73451517,  89.19641248,\n",
       "         53.41348144,  94.89467846,  65.76473219,  71.78439942,\n",
       "         29.06888371,  41.48493703,  60.07495318,  35.05709629,\n",
       "         85.37564055,  83.24061509,  53.75872022,  11.70469991,\n",
       "         78.16009212,  74.70609078,  53.60037313,  53.15072906,\n",
       "         21.63330765,  34.92849839,  39.05124838,  46.22769733,\n",
       "        104.30723848,  34.92849839,  82.76472679, 104.66135868,\n",
       "         41.77319715,  21.40093456,  14.86606875,  61.6116872 ],\n",
       "       [ 78.10249676,  41.10960958,  55.47071299,  58.82176468,\n",
       "         92.4175308 ,  68.0661443 ,  81.32035416,  59.03388857,\n",
       "         39.        ,  61.84658438,  24.51530134,  57.00877125,\n",
       "         16.2788206 ,  91.40021882,  65.9241989 ,  80.8084154 ,\n",
       "         20.24845673,  63.89053138,  18.78829423,  16.2788206 ,\n",
       "         72.33947747,  51.35172831,  78.0320447 ,  56.08029957,\n",
       "          6.70820393,  41.03656906,  23.85372088,  53.23532662,\n",
       "         13.45362405,  25.01999201,  79.93122043,  64.13267498,\n",
       "         49.64876635,  65.27633568,  61.        ,  47.38143096,\n",
       "         82.61961026,  16.2788206 ,  59.46427499,  45.35416188,\n",
       "         50.08991915,  25.17935662,  69.4046108 ,  45.31004304,\n",
       "         17.11724277,  69.11584478,  66.49060084,  75.89466384,\n",
       "         18.43908891,  45.79301257,  31.01612484,  44.18144407,\n",
       "         66.70832032,  68.0661443 ,   0.        ,  50.24937811,\n",
       "         54.81788029,  25.49509757,  57.5847202 ,  46.17358552,\n",
       "         42.43819035,  55.22680509,  64.32728814,  47.01063709,\n",
       "         21.63330765,  92.35799911,  80.08120878,  75.15317691,\n",
       "          9.        ,  44.64302857,  19.79898987,  57.03507693,\n",
       "         52.40229003,  45.54119015,   7.61577311,  26.        ,\n",
       "         62.17716623,  31.30495168,   8.        ,  33.01514804,\n",
       "         20.24845673,  28.63564213,  22.02271555,  73.34848328,\n",
       "         10.19803903,  32.06243908,  38.28837944,  49.57822102,\n",
       "         50.80354318,  35.73513677,  43.9089968 ,  41.23105626,\n",
       "         56.64803615,  37.64306045,  75.76938696,  70.34912935,\n",
       "         27.45906044,  56.75385449,  78.40918314,  78.51751397],\n",
       "       [ 29.06888371,  37.21558813,  50.11985634,  29.06888371,\n",
       "         55.00909016,  78.60025445,  52.61178575,  65.80273551,\n",
       "         60.46486583,  22.36067977,  26.        ,  16.2788206 ,\n",
       "         41.23105626,  55.03635162,  71.56116265,  36.40054945,\n",
       "         58.69412236,  17.80449381,  43.68065934,  48.27007354,\n",
       "         22.09072203,  11.04536102,  38.91015292,  73.55270219,\n",
       "         53.00943312,  38.58756276,  31.04834939,  10.44030651,\n",
       "         41.30375286,  59.16924877,  53.23532662,  21.40093456,\n",
       "          3.16227766,  82.07313811,  11.66190379,  11.40175425,\n",
       "         48.38388161,  57.00877125,  86.60831369,   8.48528137,\n",
       "         17.72004515,  51.07837116,  51.7880295 ,  23.40939982,\n",
       "         49.47726751,  55.78530272,  87.7268488 ,  29.06888371,\n",
       "         47.80167361,  31.01612484,  21.84032967,   6.08276253,\n",
       "         88.45903006,  19.6977156 ,  50.24937811,   0.        ,\n",
       "         19.23538406,  31.38470965,  85.44588931,   4.12310563,\n",
       "         32.64965543,  24.18677324,  85.63293759,  29.41088234,\n",
       "         66.12866247,  53.33854141,  38.18376618,  65.520989  ,\n",
       "         59.21148537,  72.71863585,  66.76076692,  70.76722405,\n",
       "         37.16180835,  75.29276194,  47.04253395,  58.83026432,\n",
       "         34.36568055,  29.06888371,  42.29657197,  18.02775638,\n",
       "         68.8839604 ,  69.3181073 ,  34.20526275,  29.06888371,\n",
       "         60.07495318,  55.07267925,  34.6554469 ,  36.23534186,\n",
       "          4.        ,  22.627417  ,  20.80865205,  27.65863337,\n",
       "         84.8763807 ,  15.23154621,  68.30812543,  86.45229899,\n",
       "         23.        ,  10.29563014,  28.16025568,  52.15361924],\n",
       "       [ 39.40812099,  25.55386468,  68.54195795,  48.25971405,\n",
       "         71.47027354,  96.04165763,  71.1758386 ,  83.35466394,\n",
       "         74.95331881,   7.07106781,  34.66987165,  35.        ,\n",
       "         41.10960958,  71.84010022,  89.47066558,  26.17250466,\n",
       "         68.47627326,  33.95585369,  54.64430437,  58.30951895,\n",
       "         28.31960452,   8.24621125,  55.78530272,  89.64373932,\n",
       "         59.46427499,  26.92582404,  42.63801121,   9.        ,\n",
       "         50.11985634,  55.10898293,  72.02777242,  10.19803903,\n",
       "         22.36067977,  98.60020284,  25.96150997,  10.        ,\n",
       "         66.09841148,  56.0357029 , 101.13851887,  26.57066051,\n",
       "         36.87817783,  63.41135545,  71.02112362,  11.40175425,\n",
       "         59.68249325,  74.95331881, 103.5857133 ,  42.48529157,\n",
       "         58.52349955,  17.20465053,  34.6554469 ,  20.1246118 ,\n",
       "        104.23531072,  18.60107524,  54.81788029,  19.23538406,\n",
       "          0.        ,  30.14962686,  99.76472322,  19.31320792,\n",
       "         20.59126028,  43.41658669, 101.41498903,  15.        ,\n",
       "         65.12296062,  69.28924881,  25.29822128,  84.64632302,\n",
       "         63.56099433,  86.45229899,  67.        ,  87.4185335 ,\n",
       "         55.97320788,  88.72992731,  54.23098745,  54.34151268,\n",
       "         15.13274595,  25.        ,  47.12748667,  23.85372088,\n",
       "         70.06425622,  66.09841148,  45.607017  ,  19.        ,\n",
       "         65.        ,  68.68041933,  51.31276644,  54.7813837 ,\n",
       "         23.19482701,  19.23538406,  39.        ,  45.17742799,\n",
       "         99.08582139,  30.23243292,  87.36131867, 103.2279032 ,\n",
       "         32.20248438,  28.0713377 ,  33.30165161,  71.0070419 ],\n",
       "       [ 60.41522987,  17.88854382,  60.07495318,  51.4781507 ,\n",
       "         83.24061509,  81.49233093,  76.47875522,  70.03570518,\n",
       "         55.03635162,  37.21558813,  16.03121954,  43.8634244 ,\n",
       "         11.        ,  82.80096618,  76.94153625,  56.32051136,\n",
       "         42.42640687,  48.41487375,  31.76476035,  33.60059523,\n",
       "         52.20153254,  28.44292531,  67.35725648,  71.86793444,\n",
       "         31.06444913,  18.38477631,  24.18677324,  30.59411708,\n",
       "         25.23885893,  27.78488798,  76.05918748,  40.01249805,\n",
       "         32.20248438,  81.34494453,  43.0464865 ,  24.51530134,\n",
       "         74.88658091,  26.47640459,  79.61155695,  30.41381265,\n",
       "         39.66106403,  41.18252056,  69.37578828,  19.92485885,\n",
       "         35.        ,  71.19691005,  84.52810184,  60.21627687,\n",
       "         34.66987165,  20.61552813,  22.8035085 ,  25.8069758 ,\n",
       "         84.97058314,  45.70557953,  25.49509757,  31.38470965,\n",
       "         30.14962686,   0.        ,  77.93587107,  27.45906044,\n",
       "         17.69180601,  46.64761516,  82.29216245,  21.63330765,\n",
       "         35.6931366 ,  82.21921916,  55.10898293,  79.51100553,\n",
       "         33.83784863,  64.35060217,  37.12142239,  71.16881339,\n",
       "         51.41984053,  66.03029608,  26.90724809,  27.45906044,\n",
       "         36.7151195 ,   5.83095189,  18.60107524,  14.14213562,\n",
       "         40.        ,  38.07886553,  25.70992026,  49.09175083,\n",
       "         35.4682957 ,  47.85394446,  40.04996879,  49.03060269,\n",
       "         33.60059523,  11.        ,  36.24913792,  38.07886553,\n",
       "         77.1038261 ,  25.55386468,  81.22191822,  86.37708029,\n",
       "         16.4924225 ,  40.60788101,  58.1893461 ,  74.73285757],\n",
       "       [102.52804494,  95.7183368 ,  46.27094121,  70.88018059,\n",
       "         95.        ,  26.92582404,  78.05767099,  31.25699922,\n",
       "         25.        , 105.64563408,  65.8559033 ,  80.11242101,\n",
       "         72.44998275,  93.00537619,  32.89376841, 121.82774725,\n",
       "         37.33630941,  88.23831367,  46.40043103,  44.41846463,\n",
       "        103.31021247,  92.9569793 ,  88.1192374 ,  17.11724277,\n",
       "         50.92150823,  96.04165763,  57.28001397,  93.86160024,\n",
       "         52.69724851,  81.25269226,  75.10659092, 106.04244433,\n",
       "         82.92767934,  17.80449381,  90.82400564,  89.93886813,\n",
       "         85.0529247 ,  72.03471385,   2.        ,  77.1038261 ,\n",
       "         72.44998275,  37.01351105,  61.03277808,  94.26027795,\n",
       "         43.0464865 ,  56.22277119,  12.52996409,  96.76776323,\n",
       "         43.26661531,  97.80081799,  65.19202405,  81.21576202,\n",
       "         12.08304597, 104.84750832,  57.5847202 ,  85.44588931,\n",
       "         99.76472322,  77.93587107,   0.        ,  82.80096618,\n",
       "         95.4410813 ,  71.51223672,  11.40175425,  98.23441352,\n",
       "         72.44308111,  97.04638066, 123.22743201,  53.85164807,\n",
       "         55.10898293,  13.60147051,  68.26419266,  22.20360331,\n",
       "         57.00877125,  12.08304597,  52.32590181,  82.46211251,\n",
       "        111.86599126,  83.23460819,  60.8276253 ,  76.38062582,\n",
       "         65.06919394,  80.39900497,  54.4885309 , 114.40279717,\n",
       "         52.95280918,  31.11269837,  51.4781507 ,  55.6596802 ,\n",
       "         83.21658489,  84.50443775,  66.24198065,  59.05929224,\n",
       "          1.        ,  70.60453243,  51.54609588,  20.61552813,\n",
       "         67.89698079,  85.        , 108.25894882,  74.06078585],\n",
       "       [ 33.10589071,  34.43835072,  49.24428901,  30.06659276,\n",
       "         57.80138407,  77.1038261 ,  54.34151268,  64.35060217,\n",
       "         57.80138407,  23.60084744,  22.02271555,  18.38477631,\n",
       "         37.16180835,  57.70615219,  70.32780389,  39.11521443,\n",
       "         55.08175742,  21.21320344,  40.16217126,  44.64302857,\n",
       "         26.17250466,  11.18033989,  41.67733197,  71.44928271,\n",
       "         49.04079934,  35.77708764,  27.51363298,  11.40175425,\n",
       "         37.48332963,  55.22680509,  54.74486277,  23.34523506,\n",
       "          5.        ,  80.15609771,  15.65247584,  10.04987562,\n",
       "         50.69516742,  52.92447449,  84.02380615,   7.28010989,\n",
       "         18.02775638,  47.85394446,  52.23983155,  21.37755833,\n",
       "         45.88027899,  55.90169944,  85.5628424 ,  32.80243893,\n",
       "         44.27188724,  28.86173938,  18.38477631,   2.        ,\n",
       "         86.2670273 ,  23.08679276,  46.17358552,   4.12310563,\n",
       "         19.31320792,  27.45906044,  82.80096618,   0.        ,\n",
       "         30.08321791,  25.01999201,  83.43860018,  27.45906044,\n",
       "         62.03224968,  56.30275304,  40.45985665,  65.51335742,\n",
       "         55.14526272,  69.89277502,  62.64183905,  68.8839604 ,\n",
       "         36.68787266,  72.40165744,  43.10452412,  54.91812087,\n",
       "         34.20526275,  25.45584412,  38.20994635,  13.92838828,\n",
       "         64.76109943,  65.29931087,  30.6757233 ,  31.6227766 ,\n",
       "         56.0357029 ,  52.15361924,  32.64965543,  35.4682957 ,\n",
       "          6.40312424,  19.20937271,  19.6977156 ,  26.07680962,\n",
       "         82.20097323,  12.20655562,  68.15423685,  84.64632302,\n",
       "         19.02629759,  13.45362405,  32.24903099,  53.60037313],\n",
       "       [ 58.69412236,   5.        ,  73.55270219,  59.43904441,\n",
       "         87.658428  ,  97.4063653 ,  84.20213774,  85.44003745,\n",
       "         72.06941099,  26.57066051,  31.01612484,  48.46648326,\n",
       "         26.41968963,  87.66413178,  92.17917335,  44.55333882,\n",
       "         60.10823571,  50.24937811,  49.09175083,  51.2249939 ,\n",
       "         48.27007354,  24.08318916,  71.55417528,  88.5663593 ,\n",
       "         48.41487375,   6.40312424,  39.92492956,  26.17250466,\n",
       "         42.80186912,  36.01388621,  84.40379138,  30.46309242,\n",
       "         34.92849839,  97.98979539,  43.01162634,  21.63330765,\n",
       "         80.77747211,  38.83297568,  97.08243919,  36.138622  ,\n",
       "         47.07440918,  58.52349955,  80.22468448,   9.89949494,\n",
       "         52.63078947,  83.00602388, 101.59724406,  60.6052803 ,\n",
       "         52.20153254,   4.        ,  35.51056181,  29.41088234,\n",
       "        102.08329932,  39.11521443,  42.43819035,  32.64965543,\n",
       "         20.59126028,  17.69180601,  95.4410813 ,  30.08321791,\n",
       "          0.        ,  54.34151268,  99.36297097,   6.08276253,\n",
       "         47.38143096,  85.95929269,  42.04759208,  92.04890005,\n",
       "         50.11985634,  81.84130986,  50.009999  ,  87.46427842,\n",
       "         63.        ,  83.60023923,  44.55333882,  35.05709629,\n",
       "         20.61552813,  12.20655562,  36.12478374,  23.08679276,\n",
       "         53.60037313,  47.04253395,  42.04759208,  38.32753579,\n",
       "         51.97114584,  65.        ,  53.93514624,  61.03277808,\n",
       "         36.24913792,  13.03840481,  46.09772229,  50.08991915,\n",
       "         94.62557794,  35.0142828 ,  94.19129471, 102.95630141,\n",
       "         30.08321791,  42.94182111,  53.60037313,  83.19855768],\n",
       "       [ 31.01612484,  58.24087911,  29.        ,   5.09901951,\n",
       "         37.53664876,  58.79625838,  30.08321791,  46.22769733,\n",
       "         48.05205511,  45.88027899,  33.24154028,  10.        ,\n",
       "         53.15072906,  36.76955262,  50.91168825,  56.0357029 ,\n",
       "         54.91812087,  17.20465053,  40.80441153,  45.88027899,\n",
       "         33.30165161,  35.22782991,  22.82542442,  56.82429058,\n",
       "         55.03635162,  59.48108943,  31.38470965,  34.525353  ,\n",
       "         42.48529157,  72.24956747,  30.08321791,  44.01136217,\n",
       "         21.09502311,  64.07027392,  22.20360331,  35.        ,\n",
       "         28.42534081,  67.26812024,  72.23572523,  18.24828759,\n",
       "          7.28010989,  44.18144407,  27.65863337,  46.27094121,\n",
       "         46.57252409,  31.95309062,  70.83078427,  25.49509757,\n",
       "         44.38468204,  53.60037313,  25.45584412,  25.17935662,\n",
       "         71.69379332,  38.27531842,  55.22680509,  24.18677324,\n",
       "         43.41658669,  46.64761516,  71.51223672,  25.01999201,\n",
       "         54.34151268,   0.        ,  68.9637586 ,  52.34500931,\n",
       "         75.43208866,  37.20215048,  59.16924877,  41.78516483,\n",
       "         63.0634601 ,  60.63827174,  74.63243263,  53.        ,\n",
       "         15.62049935,  63.56099433,  49.1934955 ,  72.34638899,\n",
       "         58.54912467,  47.01063709,  48.60041152,  33.10589071,\n",
       "         75.47184906,  80.65977932,  33.54101966,  49.73932046,\n",
       "         63.07138812,  45.09988914,  22.        ,  16.1245155 ,\n",
       "         20.22374842,  42.05948169,  11.40175425,  15.29705854,\n",
       "         71.16881339,  21.09502311,  44.77722635,  67.80117993,\n",
       "         31.2409987 ,  17.        ,  37.44329045,  28.86173938],\n",
       "       [ 99.72963451, 100.17983829,  41.43669871,  67.54257916,\n",
       "         88.45903006,  16.76305461,  71.25307011,  24.51530134,\n",
       "         27.29468813, 106.83164325,  68.79680225,  78.23042886,\n",
       "         78.10889834,  86.37129153,  24.08318916, 121.91800523,\n",
       "         44.40720662,  86.092973  ,  50.56678752,  49.64876635,\n",
       "        101.78899744,  94.11163584,  83.24061509,  12.20655562,\n",
       "         57.87054518, 100.64790112,  59.9082632 ,  94.76286192,\n",
       "         57.38466694,  88.81441324,  68.18357573, 106.77546535,\n",
       "         82.8794305 ,   7.28010989,  89.62700486,  91.43850392,\n",
       "         78.91767863,  79.63039621,   9.89949494,  77.15568676,\n",
       "         71.02816343,  41.23105626,  54.45181356,  97.08243919,\n",
       "         48.38388161,  49.16299421,   2.23606798,  93.52005133,\n",
       "         48.10405388, 101.35580891,  66.84309987,  82.03657721,\n",
       "          2.82842712, 104.4844486 ,  64.32728814,  85.63293759,\n",
       "        101.41498903,  82.29216245,  11.40175425,  83.43860018,\n",
       "         99.36297097,  68.9637586 ,   0.        , 101.5480182 ,\n",
       "         81.0061726 ,  90.7964757 , 123.79418403,  45.27692569,\n",
       "         63.12685641,  20.02498439,  77.00649323,  16.15549442,\n",
       "         53.66563146,  20.09975124,  58.24087911,  89.94442729,\n",
       "        114.40279717,  87.23531395,  66.40783086,  78.81624198,\n",
       "         74.10802925,  89.0056178 ,  57.45432969, 114.69088891,\n",
       "         61.07372594,  34.43835072,  50.99019514,  52.83937925,\n",
       "         82.97590012,  87.66413178,  65.4369926 ,  58.25804665,\n",
       "         12.20655562,  71.44928271,  42.57933771,   9.21954446,\n",
       "         70.45565982,  83.81527307, 106.32967601,  67.26812024],\n",
       "       [ 53.90732789,  10.77032961,  73.54590403,  57.42821606,\n",
       "         84.17244205,  98.61541462,  81.78630692,  86.37708029,\n",
       "         74.33034374,  20.61552813,  32.75667871,  45.607017  ,\n",
       "         31.38470965,  84.30895563,  92.97311439,  38.47076812,\n",
       "         63.78087488,  46.5188134 ,  51.85556865,  54.45181356,\n",
       "         43.13930922,  19.72308292,  68.15423685,  90.42676595,\n",
       "         52.69724851,  12.08304597,  41.67733197,  21.63330765,\n",
       "         45.96737974,  42.04759208,  82.20097323,  24.59674775,\n",
       "         32.01562119,  99.76472322,  38.94868419,  18.02775638,\n",
       "         77.79460136,  44.55333882,  99.80981916,  34.13209633,\n",
       "         45.17742799,  61.22091146,  79.        ,   6.08276253,\n",
       "         55.86591089,  82.15229759, 103.77379245,  56.30275304,\n",
       "         55.22680509,   2.23606798,  36.05551275,  27.16615541,\n",
       "        104.30723848,  33.60059523,  47.01063709,  29.41088234,\n",
       "         15.        ,  21.63330765,  98.23441352,  27.45906044,\n",
       "          6.08276253,  52.34500931, 101.5480182 ,   0.        ,\n",
       "         53.23532662,  82.29216245,  36.01388621,  91.44397192,\n",
       "         55.03635162,  84.64632302,  55.73149917,  89.        ,\n",
       "         62.28964601,  86.55634003,  48.41487375,  41.10960958,\n",
       "         15.23154621,  15.8113883 ,  40.22437072,  23.40939982,\n",
       "         59.22837158,  53.08483776,  44.10215414,  32.28002478,\n",
       "         56.79788728,  67.42403132,  54.40588203,  60.5309838 ,\n",
       "         33.24154028,  13.89244399,  45.09988914,  49.81967483,\n",
       "         97.45255256,  34.36568055,  93.77099765, 104.65658126,\n",
       "         31.30495168,  39.56008089,  48.27007354,  81.04936767],\n",
       "       [ 95.07891459,  43.93176527,  77.02596965,  79.39773297,\n",
       "        112.92918135,  87.29833904, 102.59142264,  79.40403012,\n",
       "         58.24946352,  72.0624729 ,  42.72001873,  75.80237463,\n",
       "         25.        , 112.04463396,  86.127812  ,  91.00549434,\n",
       "         37.33630941,  81.84130986,  40.31128874,  37.16180835,\n",
       "         87.64131446,  64.13267498,  98.00510191,  74.54528825,\n",
       "         25.63201124,  43.17406629,  44.55333882,  66.28725368,\n",
       "         35.        ,  13.03840481, 101.31633629,  75.23961722,\n",
       "         66.3098786 ,  83.21658489,  77.62087348,  60.20797289,\n",
       "        103.3924562 ,   9.21954446,  74.43117626,  63.0634601 ,\n",
       "         69.63476143,  45.54119015,  91.02197537,  54.00925847,\n",
       "         37.69615365,  90.73588044,  83.02409289,  93.91485505,\n",
       "         39.39543121,  51.35172831,  50.21951812,  60.16643583,\n",
       "         83.05419917,  81.39410298,  21.63330765,  66.12866247,\n",
       "         65.12296062,  35.6931366 ,  72.44308111,  62.03224968,\n",
       "         47.38143096,  75.43208866,  81.0061726 ,  53.23532662,\n",
       "          0.        , 112.61438629,  89.08984229,  96.60227741,\n",
       "         18.24828759,  61.        ,   4.47213595,  76.29547824,\n",
       "         73.87827827,  61.07372594,  29.15475947,  14.4222051 ,\n",
       "         67.89698079,  40.19950248,  26.90724809,  48.10405388,\n",
       "          8.60232527,   8.        ,  43.18564576,  84.09518417,\n",
       "         20.09975124,  51.92301994,  59.81638571,  71.06335202,\n",
       "         67.62396025,  46.5295605 ,  64.03124237,  62.22539674,\n",
       "         71.44928271,  56.08029957,  97.08243919,  88.141931  ,\n",
       "         45.27692569,  74.24957912,  93.68030743,  99.90495483],\n",
       "       [ 33.01514804,  90.55385138,  51.03920062,  33.61547263,\n",
       "          3.60555128,  75.92759709,  19.92485885,  66.37017402,\n",
       "         77.92945528,  68.15423685,  70.17834424,  38.41874542,\n",
       "         89.82761268,   5.65685425,  67.46851117,  68.02940541,\n",
       "         89.88882022,  35.77708764,  76.92203845,  81.85963596,\n",
       "         44.28317965,  62.64982043,  14.86606875,  80.15609771,\n",
       "         91.78779875,  91.92388155,  68.50547423,  60.92618485,\n",
       "         79.40403012, 108.90362712,  23.08679276,  64.5368112 ,\n",
       "         51.31276644,  84.17244205,  43.46262762,  64.41273166,\n",
       "         12.        , 104.35037135,  97.12878049,  51.85556865,\n",
       "         43.18564576,  78.4346862 ,  36.34556369,  76.47875522,\n",
       "         82.3468275 ,  41.77319715,  92.07062507,  27.45906044,\n",
       "         80.11242101,  84.07734534,  62.48199741,  57.42821606,\n",
       "         93.05912099,  54.74486277,  92.35799911,  53.33854141,\n",
       "         69.28924881,  82.21921916,  97.04638066,  56.30275304,\n",
       "         85.95929269,  37.20215048,  90.7964757 ,  82.29216245,\n",
       "        112.61438629,   0.        ,  73.        ,  48.10405388,\n",
       "         99.98499887,  89.35882721, 111.83022847,  75.23961722,\n",
       "         43.68065934,  92.34717104,  86.092973  , 108.8944443 ,\n",
       "         82.96987405,  81.4002457 ,  85.80209788,  68.11754546,\n",
       "        112.60550608, 117.68602296,  70.49113419,  65.19202405,\n",
       "         99.84988733,  77.36924454,  56.46237685,  46.17358552,\n",
       "         49.92995093,  75.45197148,  48.60041152,  51.4781507 ,\n",
       "         97.02061637,  57.28001397,  51.623638  ,  86.12200648,\n",
       "         67.94115101,  43.0464865 ,  43.01162634,  23.76972865],\n",
       "       [ 40.01249805,  46.27094121,  87.4185335 ,  63.0634601 ,\n",
       "         76.02631123, 116.51609331,  81.25269226, 103.7111373 ,\n",
       "         98.23441352,  18.38477631,  59.48108943,  49.24428901,\n",
       "         65.9241989 ,  77.1038261 , 109.20164834,   5.38516481,\n",
       "         93.47192092,  44.01136217,  79.25906888,  83.18653737,\n",
       "         29.42787794,  30.52867504,  62.80127387, 111.73182179,\n",
       "         84.7584804 ,  47.38143096,  66.88796603,  29.41088234,\n",
       "         75.15317691,  78.05767099,  82.96987405,  17.20465053,\n",
       "         41.03656906, 120.24142381,  37.12142239,  34.        ,\n",
       "         73.97972695,  80.22468448, 124.47088013,  46.66904756,\n",
       "         54.40588203,  87.66413178,  85.90692638,  35.35533906,\n",
       "         84.53401682,  90.78546139, 125.89678312,  46.27094121,\n",
       "         83.24061509,  38.05259518,  58.24946352,  42.01190308,\n",
       "        126.62148317,  21.02379604,  80.08120878,  38.18376618,\n",
       "         25.29822128,  55.10898293, 123.22743201,  40.45985665,\n",
       "         42.04759208,  59.16924877, 123.79418403,  36.01388621,\n",
       "         89.08984229,  73.        ,   0.        , 100.62305899,\n",
       "         88.76936408, 110.20889256,  91.35097153, 108.93117093,\n",
       "         74.06078585, 112.64546152,  79.47955712,  77.1038261 ,\n",
       "         23.08679276,  49.64876635,  72.42237223,  48.75448697,\n",
       "         94.64142856,  89.08984229,  69.97142274,   9.43398113,\n",
       "         90.24965374,  92.4175308 ,  72.83543094,  73.60027174,\n",
       "         41.10960958,  44.38468204,  58.79625838,  65.7951366 ,\n",
       "        122.61321299,  52.63078947, 103.76897417, 124.57929202,\n",
       "         56.82429058,  42.19004622,  30.01666204,  82.28000972],\n",
       "       [ 66.60330322,  95.00526301,  19.92485885,  37.57658846,\n",
       "         45.22167622,  29.        ,  28.23118843,  23.2594067 ,\n",
       "         43.18564576,  87.59566199,  63.50590524,  51.4781507 ,\n",
       "         81.49233093,  43.01162634,  21.21320344,  97.12878049,\n",
       "         62.62587325,  56.93856338,  56.36488268,  59.53990259,\n",
       "         72.9451849 ,  76.40026178,  44.82186966,  37.        ,\n",
       "         71.19691005,  96.02083107,  56.29387178,  75.96051606,\n",
       "         62.39390996,  98.68130522,  25.07987241,  85.79627032,\n",
       "         62.36184731,  38.11823711,  63.50590524,  75.50496672,\n",
       "         37.12142239,  91.        ,  53.36665626,  58.24946352,\n",
       "         47.80167361,  51.86520992,  15.        ,  85.58621384,\n",
       "         59.16924877,   9.8488578 ,  46.09772229,  59.46427499,\n",
       "         57.30619513,  92.26592004,  57.07889277,  65.11528238,\n",
       "         47.09564736,  79.60527621,  75.15317691,  65.520989  ,\n",
       "         84.64632302,  79.51100553,  53.85164807,  65.51335742,\n",
       "         92.04890005,  41.78516483,  45.27692569,  91.44397192,\n",
       "         96.60227741,  48.10405388, 100.62305899,   0.        ,\n",
       "         79.40403012,  50.60632372,  94.02127419,  31.95309062,\n",
       "         29.15475947,  53.23532662,  67.54257916,  99.2975327 ,\n",
       "         99.689518  ,  82.09750301,  72.11102551,  69.007246  ,\n",
       "         92.96235797, 103.78824596,  56.04462508,  91.23595782,\n",
       "         78.23042886,  46.86149806,  39.62322551,  31.01612484,\n",
       "         61.68468205,  79.0253124 ,  46.38965402,  42.        ,\n",
       "         54.12023651,  57.14017851,   3.60555128,  39.05124838,\n",
       "         63.19810124,  58.69412236,  75.60423269,  24.59674775],\n",
       "       [ 86.88498144,  48.25971405,  60.21627687,  66.37017402,\n",
       "         99.85990186,  69.05070601,  87.96590248,  61.3514466 ,\n",
       "         40.02499219,  70.61161378,  33.37663854,  65.4599114 ,\n",
       "         23.70653918,  98.73702446,  68.00735254,  89.62700486,\n",
       "         19.10497317,  72.53275122,  24.04163056,  20.        ,\n",
       "         81.3019065 ,  60.29925373,  85.88364221,  56.32051136,\n",
       "          8.48528137,  48.01041554,  31.78049716,  62.20128616,\n",
       "         20.59126028,  26.2488095 ,  86.37129153,  72.99315036,\n",
       "         58.54912467,  65.06919394,  69.87131028,  56.32051136,\n",
       "         89.87213139,  17.08800749,  57.07013229,  54.12947441,\n",
       "         58.30951895,  27.73084925,  75.07329752,  53.75872022,\n",
       "         20.24845673,  74.20242584,  65.19202405,  84.48076704,\n",
       "         22.20360331,  53.66563146,  39.56008089,  53.15072906,\n",
       "         65.27633568,  77.0584194 ,   9.        ,  59.21148537,\n",
       "         63.56099433,  33.83784863,  55.10898293,  55.14526272,\n",
       "         50.11985634,  63.0634601 ,  63.12685641,  55.03635162,\n",
       "         18.24828759,  99.98499887,  88.76936408,  79.40403012,\n",
       "          0.        ,  43.10452412,  14.86606875,  58.05170109,\n",
       "         58.79625838,  43.41658669,  13.89244399,  27.51363298,\n",
       "         70.26378868,  39.56008089,  17.        ,  42.01190308,\n",
       "         13.60147051,  26.17250466,  29.52964612,  82.20097323,\n",
       "          2.23606798,  33.83784863,  44.68780594,  55.97320788,\n",
       "         59.68249325,  44.38468204,  51.89412298,  48.54894438,\n",
       "         54.12947441,  46.32493929,  79.64923101,  70.0285656 ,\n",
       "         36.34556369,  65.51335742,  87.36704184,  84.95881355],\n",
       "       [ 91.48223871,  82.15229759,  38.47076812,  60.67124525,\n",
       "         87.69264507,  29.15475947,  71.38627319,  27.45906044,\n",
       "         12.64911064,  92.45539465,  52.34500931,  68.62215386,\n",
       "         59.09314681,  85.84287973,  31.82766093, 109.        ,\n",
       "         24.51530134,  76.84399781,  32.80243893,  30.88689042,\n",
       "         91.38927727,  79.81227976,  79.0569415 ,  15.8113883 ,\n",
       "         38.07886553,  82.49242389,  43.8634244 ,  80.80222769,\n",
       "         39.11521443,  68.8839604 ,  68.65857558,  93.00537619,\n",
       "         70.32780389,  22.8035085 ,  78.79086241,  76.69419796,\n",
       "         77.41446893,  59.68249325,  15.26433752,  64.49806199,\n",
       "         60.74537019,  23.43074903,  54.5710546 ,  80.72174428,\n",
       "         29.52964612,  50.59644256,  22.09072203,  86.12200648,\n",
       "         29.68164416,  84.20213774,  52.0096145 ,  68.24221567,\n",
       "         22.20360331,  92.28217596,  44.64302857,  72.71863585,\n",
       "         86.45229899,  64.35060217,  13.60147051,  69.89277502,\n",
       "         81.84130986,  60.63827174,  20.02498439,  84.64632302,\n",
       "         61.        ,  89.35882721, 110.20889256,  50.60632372,\n",
       "         43.10452412,   0.        ,  57.03507693,  19.79898987,\n",
       "         47.16990566,   3.        ,  39.        ,  70.03570518,\n",
       "         98.35141077,  69.63476143,  47.42362281,  62.93647591,\n",
       "         54.23098745,  69.        ,  41.01219331, 101.51354589,\n",
       "         41.0487515 ,  17.80449381,  39.56008089,  45.39823785,\n",
       "         70.71067812,  70.9365914 ,  54.23098745,  47.16990566,\n",
       "         12.80624847,  57.68882041,  49.09175083,  27.45906044,\n",
       "         54.45181356,  73.00684899,  96.56603958,  67.46851117],\n",
       "       [ 95.51963149,  46.84015371,  74.62573283,  78.40918314,\n",
       "        112.0044642 ,  83.74365648, 101.11874208,  76.21679605,\n",
       "         54.81788029,  74.00675645,  42.48529157,  75.59100476,\n",
       "         26.17250466, 111.04053314,  82.86132994,  93.04837452,\n",
       "         33.73425559,  81.9390017 ,  38.01315562,  34.4818793 ,\n",
       "         88.52683209,  65.49045732,  97.34988444,  70.85901495,\n",
       "         22.82542442,  46.17358552,  43.41658669,  67.60177512,\n",
       "         33.24154028,  17.02938637,  99.72462083,  77.02596965,\n",
       "         66.73080248,  79.40403012,  78.10889834,  61.52235366,\n",
       "        102.30347013,  11.18033989,  70.25667228,  63.1585307 ,\n",
       "         69.11584478,  42.54409477,  89.02246907,  56.08029957,\n",
       "         34.88552709,  88.48163651,  79.        ,  94.02127419,\n",
       "         36.7151195 ,  53.93514624,  49.73932046,  60.7289058 ,\n",
       "         79.00632886,  82.73451517,  19.79898987,  66.76076692,\n",
       "         67.        ,  37.12142239,  68.26419266,  62.64183905,\n",
       "         50.009999  ,  74.63243263,  77.00649323,  55.73149917,\n",
       "          4.47213595, 111.83022847,  91.35097153,  94.02127419,\n",
       "         14.86606875,  57.03507693,   0.        ,  72.78049189,\n",
       "         72.18032973,  57.00877125,  27.01851217,  18.43908891,\n",
       "         70.61161378,  42.        ,  26.07680962,  48.76474136,\n",
       "          4.24264069,  12.16552506,  41.77319715,  86.        ,\n",
       "         16.4924225 ,  48.70318265,  58.05170109,  69.35416354,\n",
       "         68.00735254,  48.09365863,  63.2455532 ,  60.95900262,\n",
       "         67.26812024,  55.90169944,  94.36630755,  84.29116205,\n",
       "         45.18849411,  74.46475676,  94.59386872,  98.31073187],\n",
       "       [ 83.6480723 ,  88.86506625,  25.29822128,  51.42956348,\n",
       "         73.06161783,  11.04536102,  56.        ,   9.05538514,\n",
       "         18.11077028,  92.45539465,  56.46237685,  62.42595614,\n",
       "         68.73136111,  71.02816343,  12.04159458, 106.7941946 ,\n",
       "         39.05124838,  70.17834424,  40.44749683,  41.01219331,\n",
       "         86.02325267,  79.81227976,  67.18630813,   5.09901951,\n",
       "         51.2445119 ,  89.49301649,  47.5394573 ,  80.28075735,\n",
       "         47.51841748,  82.0548597 ,  53.00943312,  92.09777413,\n",
       "         67.89698079,  11.3137085 ,  74.02702209,  77.4209274 ,\n",
       "         63.28506933,  73.17103252,  22.02271555,  62.28964601,\n",
       "         55.4436651 ,  32.01562119,  39.01281841,  84.11896338,\n",
       "         40.        ,  34.05877273,  17.88854382,  77.38862966,\n",
       "         39.05124838,  89.05054744,  53.33854141,  67.62396025,\n",
       "         18.78829423,  89.19641248,  57.03507693,  70.76722405,\n",
       "         87.4185335 ,  71.16881339,  22.20360331,  68.8839604 ,\n",
       "         87.46427842,  53.        ,  16.15549442,  89.        ,\n",
       "         76.29547824,  75.23961722, 108.93117093,  31.95309062,\n",
       "         58.05170109,  19.79898987,  72.78049189,   0.        ,\n",
       "         37.58989226,  22.02271555,  50.009999  ,  83.02409289,\n",
       "        101.01980004,  75.61084578,  57.31491952,  65.76473219,\n",
       "         70.60453243,  84.17244205,  45.54119015,  99.70456359,\n",
       "         56.29387178,  25.        ,  36.23534186,  36.89173349,\n",
       "         67.88225099,  75.15317691,  50.20956084,  43.13930922,\n",
       "         22.36067977,  57.20139858,  29.96664813,  15.8113883 ,\n",
       "         57.69748695,  68.24954212,  90.42676595,  52.        ],\n",
       "       [ 46.06517123,  66.12110102,  13.45362405,  13.92838828,\n",
       "         42.72001873,  43.18564576,  29.20616373,  30.61045573,\n",
       "         35.        ,  59.50630219,  35.73513677,  25.45584412,\n",
       "         55.03635162,  41.23105626,  35.38361203,  71.21797526,\n",
       "         46.5188134 ,  32.80243893,  34.82814953,  39.40812099,\n",
       "         48.91829923,  47.75981575,  32.01562119,  41.62931659,\n",
       "         50.32891813,  67.18630813,  30.01666204,  47.5394573 ,\n",
       "         38.94868419,  73.430239  ,  27.58622845,  58.18075283,\n",
       "         34.0147027 ,  48.54894438,  37.53664876,  46.57252409,\n",
       "         32.31098884,  66.85057965,  57.56735186,  29.41088234,\n",
       "         19.72308292,  34.92849839,  18.02775638,  56.43580424,\n",
       "         39.66106403,  20.02498439,  55.47071299,  39.92492956,\n",
       "         37.44329045,  63.12685641,  28.63564213,  36.138622  ,\n",
       "         56.35601121,  53.41348144,  52.40229003,  37.16180835,\n",
       "         55.97320788,  51.41984053,  57.00877125,  36.68787266,\n",
       "         63.        ,  15.62049935,  53.66563146,  62.28964601,\n",
       "         73.87827827,  43.68065934,  74.06078585,  29.15475947,\n",
       "         58.79625838,  47.16990566,  72.18032973,  37.58989226,\n",
       "          0.        ,  50.15974482,  45.254834  ,  73.8241153 ,\n",
       "         70.88018059,  53.46026562,  47.4341649 ,  40.04996879,\n",
       "         72.13875519,  80.21221852,  30.8058436 ,  64.63745044,\n",
       "         58.25804665,  33.73425559,  14.14213562,   2.82842712,\n",
       "         33.54101966,  50.009999  ,  17.2626765 ,  13.34166406,\n",
       "         56.75385449,  28.01785145,  31.57530681,  52.20153254,\n",
       "         34.92849839,  32.01562119,  53.00943312,  26.17250466],\n",
       "       [ 94.3716059 ,  83.76156637,  41.43669871,  63.63961031,\n",
       "         90.66973034,  30.8058436 ,  74.33034374,  30.01666204,\n",
       "         15.5241747 ,  94.81033699,  54.45181356,  71.47027354,\n",
       "         60.37383539,  88.81441324,  34.05877273, 111.51681488,\n",
       "         25.29822128,  79.69943538,  34.71310992,  32.44996148,\n",
       "         94.15412896,  82.20097323,  82.0548597 ,  17.69180601,\n",
       "         38.89730068,  84.05950273,  46.09772229,  83.23460819,\n",
       "         40.80441153,  69.42621983,  71.58910532,  95.4410813 ,\n",
       "         72.9451849 ,  23.76972865,  81.54140053,  79.0253124 ,\n",
       "         80.39900497,  60.20797289,  13.92838828,  67.11929678,\n",
       "         63.5688603 ,  25.45584412,  57.48912941,  82.75868534,\n",
       "         31.06444913,  53.45091206,  22.02271555,  89.05054744,\n",
       "         31.40063694,  86.05230967,  54.40588203,  70.72481884,\n",
       "         22.        ,  94.89467846,  45.54119015,  75.29276194,\n",
       "         88.72992731,  66.03029608,  12.08304597,  72.40165744,\n",
       "         83.60023923,  63.56099433,  20.09975124,  86.55634003,\n",
       "         61.07372594,  92.34717104, 112.64546152,  53.23532662,\n",
       "         43.41658669,   3.        ,  57.00877125,  22.02271555,\n",
       "         50.15974482,   0.        ,  40.24922359,  70.61161378,\n",
       "        100.41912169,  71.40028011,  48.76474136,  65.11528238,\n",
       "         54.03702434,  69.0651866 ,  43.18564576, 104.00961494,\n",
       "         41.30375286,  20.24845673,  42.3792402 ,  48.37354649,\n",
       "         73.35529974,  72.9177619 ,  57.00877125,  49.979996  ,\n",
       "         11.18033989,  60.20797289,  51.623638  ,  28.16025568,\n",
       "         56.63920903,  75.76938696,  99.3680029 ,  70.40596566],\n",
       "       [ 73.8241153 ,  44.04543109,  47.88527958,  52.47856705,\n",
       "         85.98255637,  61.        ,  74.33034374,  51.623638  ,\n",
       "         32.14031736,  61.09828148,  21.09502311,  51.92301994,\n",
       "         20.1246118 ,  84.8763807 ,  58.54912467,  79.69943538,\n",
       "         15.62049935,  59.22837158,  11.18033989,   9.        ,\n",
       "         69.        ,  49.72926704,  72.00694411,  49.36598019,\n",
       "          6.08276253,  44.20407221,  18.02775638,  51.41984053,\n",
       "          6.70820393,  32.24903099,  72.83543094,  62.93647591,\n",
       "         46.01086828,  58.69412236,  57.14017851,  45.88027899,\n",
       "         76.02631123,  23.76972865,  54.12947441,  41.19465985,\n",
       "         44.59820624,  18.        ,  62.00806399,  45.79301257,\n",
       "         10.04987562,  61.58733636,  60.44005295,  71.06335202,\n",
       "         11.04536102,  47.50789408,  26.30589288,  41.10960958,\n",
       "         60.7289058 ,  65.76473219,   7.61577311,  47.04253395,\n",
       "         54.23098745,  26.90724809,  52.32590181,  43.10452412,\n",
       "         44.55333882,  49.1934955 ,  58.24087911,  48.41487375,\n",
       "         29.15475947,  86.092973  ,  79.47955712,  67.54257916,\n",
       "         13.89244399,  39.        ,  27.01851217,  50.009999  ,\n",
       "         45.254834  ,  40.24922359,   0.        ,  33.13608305,\n",
       "         63.2455532 ,  32.64965543,   8.60232527,  31.04834939,\n",
       "         26.90724809,  36.24913792,  15.65247584,  72.12489168,\n",
       "         13.92838828,  25.01999201,  31.11269837,  42.42640687,\n",
       "         47.04253395,  35.84689666,  38.07886553,  34.66987165,\n",
       "         51.42956348,  33.24154028,  68.15423685,  63.78871374,\n",
       "         24.08318916,  52.46903849,  75.00666637,  71.42128534],\n",
       "       [ 87.8179936 ,  31.01612484,  79.37883849,  76.83749085,\n",
       "        109.658561  ,  94.04786016, 101.25709852,  84.71717653,\n",
       "         65.        ,  61.        ,  39.20459157,  70.83784299,\n",
       "         19.20937271, 109.04127659,  91.66242414,  79.51100553,\n",
       "         45.54119015,  75.80237463,  43.73785546,  42.10700654,\n",
       "         79.20227269,  54.7813837 ,  94.04786016,  82.0548597 ,\n",
       "         32.14031736,  30.06659276,  43.829214  ,  57.00877125,\n",
       "         37.10795063,   1.41421356, 100.40418318,  64.5368112 ,\n",
       "         59.6405902 ,  91.19758769,  70.49113419,  51.07837116,\n",
       "        100.76705811,  10.44030651,  84.40379138,  57.48912941,\n",
       "         65.7951366 ,  51.0881591 ,  91.67878708,  42.95346319,\n",
       "         43.0464865 ,  92.30926281,  92.07062507,  87.658428  ,\n",
       "         44.18144407,  39.05124838,  47.01063709,  53.25410782,\n",
       "         92.2279784 ,  71.78439942,  26.        ,  58.83026432,\n",
       "         54.34151268,  27.45906044,  82.46211251,  54.91812087,\n",
       "         35.05709629,  72.34638899,  89.94442729,  41.10960958,\n",
       "         14.4222051 , 108.8944443 ,  77.1038261 ,  99.2975327 ,\n",
       "         27.51363298,  70.03570518,  18.43908891,  83.02409289,\n",
       "         73.8241153 ,  70.61161378,  33.13608305,   0.        ,\n",
       "         55.08175742,  30.46309242,  27.20294102,  41.40048309,\n",
       "         22.6715681 ,  12.        ,  43.46262762,  72.99315036,\n",
       "         29.73213749,  58.03447251,  60.41522987,  71.11961755,\n",
       "         61.03277808,  37.16180835,  61.22091146,  61.05735009,\n",
       "         81.49233093,  51.623638  , 100.28459503,  96.25487001,\n",
       "         41.10960958,  68.00735254,  85.08818954,  99.02019996],\n",
       "       [ 51.4781507 ,  24.08318916,  83.21658489,  63.38769597,\n",
       "         85.37564055, 110.05907505,  86.05230967,  97.49358953,\n",
       "         87.45856162,  14.86606875,  46.01086828,  50.03998401,\n",
       "         46.61544808,  85.90692638, 103.78824596,  26.83281573,\n",
       "         78.40918314,  48.37354649,  65.76473219,  68.76772499,\n",
       "         39.81205847,  23.34523506,  70.03570518, 102.90286682,\n",
       "         67.74215822,  25.01999201,  54.67174773,  24.08318916,\n",
       "         60.30754513,  56.14267539,  87.        ,  18.78829423,\n",
       "         37.48332963, 112.05802069,  40.31128874,  24.35159132,\n",
       "         80.62257748,  59.43904441, 113.35784049,  41.48493703,\n",
       "         51.97114584,  74.96665926,  86.14522622,  17.69180601,\n",
       "         70.17834424,  90.02777349, 116.60617479,  55.6596802 ,\n",
       "         69.35416354,  16.76305461,  47.70744177,  34.78505426,\n",
       "        117.20068259,  29.06888371,  62.17716623,  34.36568055,\n",
       "         15.13274595,  36.7151195 , 111.86599126,  34.20526275,\n",
       "         20.61552813,  58.54912467, 114.40279717,  15.23154621,\n",
       "         67.89698079,  82.96987405,  23.08679276,  99.689518  ,\n",
       "         70.26378868,  98.35141077,  70.61161378, 101.01980004,\n",
       "         70.88018059, 100.41912169,  63.2455532 ,  55.08175742,\n",
       "          0.        ,  30.88689042,  55.22680509,  35.60898763,\n",
       "         74.21590126,  67.06713055,  57.38466694,  22.6715681 ,\n",
       "         72.01388755,  80.8084154 ,  65.29931087,  69.57010852,\n",
       "         38.32753579,  27.65863337,  53.75872022,  59.61543424,\n",
       "        111.12605455,  44.28317965, 102.35721763, 116.81181447,\n",
       "         44.04543109,  43.        ,  43.56604182,  86.00581376],\n",
       "       [ 57.68882041,  13.34166406,  63.03173804,  52.        ,\n",
       "         82.66196223,  85.72630868,  77.07788269,  73.97972695,\n",
       "         59.94163828,  32.01562119,  19.41648784,  43.01162634,\n",
       "         16.2788206 ,  82.37718131,  80.8084154 ,  51.0881591 ,\n",
       "         48.10405388,  46.66904756,  36.89173349,  39.05124838,\n",
       "         48.75448697,  24.35159132,  66.61080993,  76.55716818,\n",
       "         36.89173349,  14.14213562,  28.16025568,  26.57066051,\n",
       "         30.61045573,  31.01612484,  76.89603371,  35.05709629,\n",
       "         30.41381265,  86.00581376,  40.60788101,  20.61552813,\n",
       "         74.79304781,  31.06444913,  84.8763807 ,  29.68164416,\n",
       "         39.81205847,  46.32493929,  71.19691005,  14.31782106,\n",
       "         40.45985665,  73.43704787,  89.47066558,  58.13776741,\n",
       "         40.        ,  14.86606875,  25.01999201,  24.08318916,\n",
       "         89.94442729,  41.48493703,  31.30495168,  29.06888371,\n",
       "         25.        ,   5.83095189,  83.23460819,  25.45584412,\n",
       "         12.20655562,  47.01063709,  87.23531395,  15.8113883 ,\n",
       "         40.19950248,  81.4002457 ,  49.64876635,  82.09750301,\n",
       "         39.56008089,  69.63476143,  42.        ,  75.61084578,\n",
       "         53.46026562,  71.40028011,  32.64965543,  30.46309242,\n",
       "         30.88689042,   0.        ,  24.41311123,  13.92838828,\n",
       "         45.09988914,  41.76122604,  30.08321791,  44.        ,\n",
       "         41.23105626,  52.83937925,  43.10452412,  51.2445119 ,\n",
       "         31.82766093,   6.70820393,  37.36308338,  40.19950248,\n",
       "         82.41965785,  26.2488095 ,  84.00595217,  91.        ,\n",
       "         19.02629759,  38.89730068,  54.62600113,  75.61084578],\n",
       "       [ 70.34202158,  35.4682957 ,  52.20153254,  52.49761899,\n",
       "         86.05230967,  68.18357573,  75.82216035,  58.07753438,\n",
       "         39.81205847,  54.12023651,  16.76305461,  49.65883607,\n",
       "         11.70469991,  85.14693183,  65.06919394,  73.00684899,\n",
       "         24.20743687,  56.30275304,  17.        ,  16.76305461,\n",
       "         64.38167441,  43.41658669,  71.28113355,  57.07013229,\n",
       "         12.52996409,  35.60898763,  17.69180601,  45.27692569,\n",
       "         10.04987562,  26.57066051,  74.65252842,  56.29387178,\n",
       "         41.77319715,  66.49060084,  53.15072906,  39.45883931,\n",
       "         76.4852927 ,  19.41648784,  62.60990337,  37.64306045,\n",
       "         43.0464865 ,  25.49509757,  65.        ,  38.01315562,\n",
       "         18.02775638,  65.30696747,  68.62215386,  68.35202996,\n",
       "         18.43908891,  39.20459157,  23.70653918,  36.22154055,\n",
       "         68.9492567 ,  60.07495318,   8.        ,  42.29657197,\n",
       "         47.12748667,  18.60107524,  60.8276253 ,  38.20994635,\n",
       "         36.12478374,  48.60041152,  66.40783086,  40.22437072,\n",
       "         26.90724809,  85.80209788,  72.42237223,  72.11102551,\n",
       "         17.        ,  47.42362281,  26.07680962,  57.31491952,\n",
       "         47.4341649 ,  48.76474136,   8.60232527,  27.20294102,\n",
       "         55.22680509,  24.41311123,   0.        ,  25.01999201,\n",
       "         27.31300057,  32.80243893,  16.64331698,  65.51335742,\n",
       "         18.11077028,  32.55764119,  33.61547263,  44.65422712,\n",
       "         42.95346319,  28.23118843,  37.20215048,  35.38361203,\n",
       "         59.94163828,  30.08321791,  73.08214556,  71.58910532,\n",
       "         19.6468827 ,  49.04079934,  70.45565982,  73.24616031],\n",
       "       [ 47.01063709,  26.07680962,  50.48762225,  38.07886553,\n",
       "         69.20260111,  75.23961722,  63.1585307 ,  62.96824597,\n",
       "         51.85556865,  30.41381265,  10.81665383,  29.73213749,\n",
       "         23.2594067 ,  68.81860214,  69.57010852,  48.70318265,\n",
       "         44.72135955,  34.40930107,  30.8058436 ,  34.4818793 ,\n",
       "         39.81205847,  18.68154169,  53.26349594,  67.41661516,\n",
       "         36.67424164,  27.16615541,  19.10497317,  20.39607805,\n",
       "         26.40075756,  41.61730409,  62.96824597,  31.95309062,\n",
       "         18.35755975,  76.66159404,  29.54657341,  14.86606875,\n",
       "         61.05735009,  39.        ,  77.83315489,  16.2788206 ,\n",
       "         25.94224354,  39.69886648,  57.55866572,  18.35755975,\n",
       "         35.84689666,  60.07495318,  81.0246876 ,  46.32493929,\n",
       "         34.66987165,  23.76972865,  12.64911064,  12.08304597,\n",
       "         81.60882305,  35.05709629,  33.01514804,  18.02775638,\n",
       "         23.85372088,  14.14213562,  76.38062582,  13.92838828,\n",
       "         23.08679276,  33.10589071,  78.81624198,  23.40939982,\n",
       "         48.10405388,  68.11754546,  48.75448697,  69.007246  ,\n",
       "         42.01190308,  62.93647591,  48.76474136,  65.76473219,\n",
       "         40.04996879,  65.11528238,  31.04834939,  41.40048309,\n",
       "         35.60898763,  13.92838828,  25.01999201,   0.        ,\n",
       "         50.99019514,  51.4781507 ,  21.9317122 ,  41.10960958,\n",
       "         43.10452412,  45.27692569,  31.04834939,  38.        ,\n",
       "         19.72308292,  10.04987562,  23.53720459,  27.01851217,\n",
       "         75.66372975,  12.36931688,  71.11258679,  81.49233093,\n",
       "          8.48528137,  26.62705391,  45.89117562,  61.68468205],\n",
       "       [ 97.41663102,  50.59644256,  73.81734214,  79.0569415 ,\n",
       "        112.64546152,  81.49233093, 101.23734489,  74.46475676,\n",
       "         52.81098371,  77.1038261 ,  44.01136217,  76.96752562,\n",
       "         29.        , 111.60645143,  80.99382693,  96.18731725,\n",
       "         31.6227766 ,  83.57032966,  37.53664876,  33.60059523,\n",
       "         90.80198236,  68.18357573,  98.27003612,  68.44705983,\n",
       "         22.02271555,  49.979996  ,  44.10215414,  70.25667228,\n",
       "         33.42154993,  21.26029163,  99.72462083,  80.00624976,\n",
       "         68.68041933,  76.79192666,  80.08120878,  64.19501538,\n",
       "        102.80077821,  14.86606875,  67.06713055,  64.84597135,\n",
       "         70.23531875,  41.18252056,  88.6171541 ,  59.30430001,\n",
       "         33.83784863,  87.80091116,  76.05918748,  95.63472173,\n",
       "         35.80502758,  57.48912941,  50.99019514,  62.8171951 ,\n",
       "         76.02631123,  85.37564055,  20.24845673,  68.8839604 ,\n",
       "         70.06425622,  40.        ,  65.06919394,  64.76109943,\n",
       "         53.60037313,  75.47184906,  74.10802925,  59.22837158,\n",
       "          8.60232527, 112.60550608,  94.64142856,  92.96235797,\n",
       "         13.60147051,  54.23098745,   4.24264069,  70.60453243,\n",
       "         72.13875519,  54.03702434,  26.90724809,  22.6715681 ,\n",
       "         74.21590126,  45.09988914,  27.31300057,  50.99019514,\n",
       "          0.        ,  15.8113883 ,  42.20189569,  89.05054744,\n",
       "         14.76482306,  47.01063709,  58.        ,  69.3108938 ,\n",
       "         69.92138443,  51.        ,  64.14047084,  61.40032573,\n",
       "         64.07027392,  57.38466694,  93.15041599,  81.61494961,\n",
       "         46.81879964,  76.21679605,  96.88137076,  98.31073187],\n",
       "       [ 98.38699101,  43.01162634,  84.07734534,  84.85281374,\n",
       "        118.19052415,  95.18928511, 108.5771615 ,  87.09190548,\n",
       "         66.09841148,  72.83543094,  47.50789408,  80.21221852,\n",
       "         28.3019434 , 117.41379817,  93.86160024,  91.44397192,\n",
       "         45.27692569,  85.7554663 ,  47.42362281,  44.59820624,\n",
       "         90.24965374,  66.09841148, 102.94173109,  82.49242389,\n",
       "         33.24154028,  42.04759208,  50.44799302,  68.30812543,\n",
       "         41.67733197,  11.04536102, 107.44766168,  76.29547824,\n",
       "         69.83552105,  91.19758769,  80.95060222,  62.29767251,\n",
       "        108.8944443 ,  13.45362405,  82.3893197 ,  67.11929678,\n",
       "         74.51845409,  53.16013544,  97.63708312,  54.74486277,\n",
       "         45.22167622,  97.61659695,  91.02197537,  97.75479528,\n",
       "         46.81879964,  51.03920062,  55.22680509,  63.5295207 ,\n",
       "         91.04943712,  83.24061509,  28.63564213,  69.3181073 ,\n",
       "         66.09841148,  38.07886553,  80.39900497,  65.29931087,\n",
       "         47.04253395,  80.65977932,  89.0056178 ,  53.08483776,\n",
       "          8.        , 117.68602296,  89.08984229, 103.78824596,\n",
       "         26.17250466,  69.        ,  12.16552506,  84.17244205,\n",
       "         80.21221852,  69.0651866 ,  36.24913792,  12.        ,\n",
       "         67.06713055,  41.76122604,  32.80243893,  51.4781507 ,\n",
       "         15.8113883 ,   0.        ,  49.40647731,  84.85281374,\n",
       "         28.0713377 ,  59.66573556,  66.28725368,  77.4209274 ,\n",
       "         71.19691005,  48.38388161,  69.3108938 ,  68.11754546,\n",
       "         79.40403012,  60.6052803 , 104.38869671,  96.13012015,\n",
       "         49.81967483,  78.0320447 ,  96.20810777, 106.04244433],\n",
       "       [ 59.13543777,  43.32435804,  36.138622  ,  36.89173349,\n",
       "         70.45565982,  55.78530272,  59.41380311,  44.40720662,\n",
       "         30.23243292,  51.86520992,  11.40175425,  36.67424164,\n",
       "         25.49509757,  69.4046108 ,  51.35172831,  69.3181073 ,\n",
       "         24.51530134,  44.28317965,   9.48683298,  14.14213562,\n",
       "         55.4436651 ,  39.44616585,  56.35601121,  46.5188134 ,\n",
       "         21.54065923,  43.96589587,   3.16227766,  40.70626487,\n",
       "          8.94427191,  42.95346319,  58.13776741,  52.83937925,\n",
       "         32.55764119,  55.94640292,  43.10452412,  36.05551275,\n",
       "         60.6052803 ,  36.05551275,  55.97320788,  27.16615541,\n",
       "         29.12043956,  17.80449381,  48.37354649,  39.8246155 ,\n",
       "         15.29705854,  48.84669897,  59.68249325,  55.90169944,\n",
       "         13.60147051,  43.9089968 ,  12.36931688,  28.7923601 ,\n",
       "         60.20797289,  53.75872022,  22.02271555,  34.20526275,\n",
       "         45.607017  ,  25.70992026,  54.4885309 ,  30.6757233 ,\n",
       "         42.04759208,  33.54101966,  57.45432969,  44.10215414,\n",
       "         43.18564576,  70.49113419,  69.97142274,  56.04462508,\n",
       "         29.52964612,  41.01219331,  41.77319715,  45.54119015,\n",
       "         30.8058436 ,  43.18564576,  15.65247584,  43.46262762,\n",
       "         57.38466694,  30.08321791,  16.64331698,  21.9317122 ,\n",
       "         42.20189569,  49.40647731,   0.        ,  61.7170965 ,\n",
       "         29.54657341,  23.43074903,  17.        ,  28.01785145,\n",
       "         33.37663854,  30.23243292,  22.47220505,  19.20937271,\n",
       "         53.75872022,  19.23538406,  57.27128425,  60.92618485,\n",
       "         13.45362405,  38.        ,  61.29437168,  56.72741841],\n",
       "       [ 32.24903099,  43.01162634,  78.00640999,  53.66563146,\n",
       "         68.0661443 , 107.16809227,  72.36711961,  94.36630755,\n",
       "         89.40357935,  12.04159458,  51.623638  ,  39.8246155 ,\n",
       "         60.07495318,  69.007246  ,  99.80981916,   7.61577311,\n",
       "         85.61541917,  34.78505426,  71.11258679,  75.23961722,\n",
       "         21.        ,  22.47220505,  54.23098745, 102.59142264,\n",
       "         77.62087348,  44.27188724,  58.5918083 ,  21.02379604,\n",
       "         67.41661516,  73.8241153 ,  73.97972695,   9.21954446,\n",
       "         31.82766093, 111.01801656,  27.73084925,  26.2488095 ,\n",
       "         65.37583651,  75.02666193, 115.60276813,  37.53664876,\n",
       "         45.        ,  79.25906888,  76.55716818,  30.14962686,\n",
       "         76.55716818,  81.39410298, 116.77756634,  38.        ,\n",
       "         75.15317691,  34.4818793 ,  49.73932046,  33.28663395,\n",
       "        117.51595636,  11.70469991,  73.34848328,  29.06888371,\n",
       "         19.        ,  49.09175083, 114.40279717,  31.6227766 ,\n",
       "         38.32753579,  49.73932046, 114.69088891,  32.28002478,\n",
       "         84.09518417,  65.19202405,   9.43398113,  91.23595782,\n",
       "         82.20097323, 101.51354589,  86.        ,  99.70456359,\n",
       "         64.63745044, 104.00961494,  72.12489168,  72.99315036,\n",
       "         22.6715681 ,  44.        ,  65.51335742,  41.10960958,\n",
       "         89.05054744,  84.85281374,  61.7170965 ,   0.        ,\n",
       "         83.5463943 ,  83.76156637,  63.70243323,  64.20280368,\n",
       "         31.82766093,  38.11823711,  49.51767361,  56.56854249,\n",
       "        113.81124725,  43.829214  ,  94.36630755, 115.31261856,\n",
       "         48.84669897,  32.75667871,  22.8035085 ,  73.24616031],\n",
       "       [ 87.47571091,  50.21951812,  59.20304046,  66.24198065,\n",
       "         99.64436763,  67.26812024,  87.45856162,  59.80802622,\n",
       "         38.32753579,  72.03471385,  34.13209633,  65.80273551,\n",
       "         25.55386468,  98.47842403,  66.40783086,  91.00549434,\n",
       "         17.2626765 ,  73.00684899,  23.43074903,  19.10497317,\n",
       "         82.15229759,  61.52235366,  85.86617495,  54.45181356,\n",
       "          8.06225775,  50.        ,  31.95309062,  63.38769597,\n",
       "         20.61552813,  28.46049894,  85.79627032,  74.33034374,\n",
       "         59.30430001,  63.12685641,  70.57619995,  57.55866572,\n",
       "         89.58794562,  19.31320792,  54.91812087,  54.74486277,\n",
       "         58.52349955,  26.41968963,  74.27651042,  55.36244214,\n",
       "         19.20937271,  73.24616031,  63.12685641,  84.89994111,\n",
       "         21.26029163,  55.47071299,  40.02499219,  54.03702434,\n",
       "         63.19810124,  78.16009212,  10.19803903,  60.07495318,\n",
       "         65.        ,  35.4682957 ,  52.95280918,  56.0357029 ,\n",
       "         51.97114584,  63.07138812,  61.07372594,  56.79788728,\n",
       "         20.09975124,  99.84988733,  90.24965374,  78.23042886,\n",
       "          2.23606798,  41.0487515 ,  16.4924225 ,  56.29387178,\n",
       "         58.25804665,  41.30375286,  13.92838828,  29.73213749,\n",
       "         72.01388755,  41.23105626,  18.11077028,  43.10452412,\n",
       "         14.76482306,  28.0713377 ,  29.54657341,  83.5463943 ,\n",
       "          0.        ,  32.31098884,  44.20407221,  55.4436651 ,\n",
       "         60.40695324,  45.88027899,  52.        ,  48.37354649,\n",
       "         51.97114584,  46.87216658,  78.39005039,  68.0661443 ,\n",
       "         37.12142239,  66.09841148,  88.20430828,  84.3860178 ],\n",
       "       [ 75.31268154,  65.74191966,  29.41088234,  46.04345773,\n",
       "         76.24303247,  36.01388621,  61.32699243,  27.51363298,\n",
       "          7.28010989,  74.65252842,  34.82814953,  52.17278984,\n",
       "         44.14748011,  74.63243263,  34.20526275,  91.26883367,\n",
       "         15.8113883 ,  60.41522987,  16.15549442,  16.03121954,\n",
       "         74.33034374,  62.00806399,  65.49045732,  24.51530134,\n",
       "         26.47640459,  66.21178143,  26.17250466,  63.00793601,\n",
       "         23.08679276,  57.07889277,  59.03388857,  75.21303079,\n",
       "         52.77309921,  33.95585369,  61.68468205,  58.89821729,\n",
       "         65.80273551,  48.25971405,  32.55764119,  46.95742753,\n",
       "         44.14748011,   7.07106781,  45.79301257,  63.2534584 ,\n",
       "         15.        ,  43.41658669,  36.67424164,  70.45565982,\n",
       "         14.14213562,  67.11929678,  34.20526275,  50.47771786,\n",
       "         37.12142239,  74.70609078,  32.06243908,  55.07267925,\n",
       "         68.68041933,  47.85394446,  31.11269837,  52.15361924,\n",
       "         65.        ,  45.09988914,  34.43835072,  67.42403132,\n",
       "         51.92301994,  77.36924454,  92.4175308 ,  46.86149806,\n",
       "         33.83784863,  17.80449381,  48.70318265,  25.        ,\n",
       "         33.73425559,  20.24845673,  25.01999201,  58.03447251,\n",
       "         80.8084154 ,  52.83937925,  32.55764119,  45.27692569,\n",
       "         47.01063709,  59.66573556,  23.43074903,  83.76156637,\n",
       "         32.31098884,   0.        ,  23.19482701,  31.40063694,\n",
       "         53.22593353,  53.60037313,  37.36308338,  30.59411708,\n",
       "         30.41381265,  39.96248241,  46.61544808,  39.05124838,\n",
       "         36.79673899,  55.97320788,  79.69943538,  57.69748695],\n",
       "       [ 52.17278984,  56.32051136,  20.02498439,  23.53720459,\n",
       "         55.90169944,  44.77722635,  43.27817002,  32.20248438,\n",
       "         26.92582404,  56.22277119,  24.0208243 ,  29.12043956,\n",
       "         42.05948169,  54.58937626,  38.62641583,  70.9365914 ,\n",
       "         33.52610923,  37.36308338,  20.80865205,  25.55386468,\n",
       "         51.89412298,  43.60045871,  43.41658669,  38.89730068,\n",
       "         36.23534186,  57.218878  ,  16.76305461,  44.04543109,\n",
       "         24.8394847 ,  59.93329626,  41.72529209,  55.90169944,\n",
       "         31.89043744,  47.50789408,  39.35733731,  41.34005322,\n",
       "         45.65084884,  53.        ,  52.47856705,  26.17250466,\n",
       "         21.1896201 ,  22.36067977,  31.38470965,  49.04079934,\n",
       "         25.94224354,  31.95309062,  53.07541804,  47.26520919,\n",
       "         23.70653918,  54.81788029,  18.43908891,  31.40063694,\n",
       "         53.81449619,  53.60037313,  38.28837944,  34.6554469 ,\n",
       "         51.31276644,  40.04996879,  51.4781507 ,  32.64965543,\n",
       "         53.93514624,  22.        ,  50.99019514,  54.40588203,\n",
       "         59.81638571,  56.46237685,  72.83543094,  39.62322551,\n",
       "         44.68780594,  39.56008089,  58.05170109,  36.23534186,\n",
       "         14.14213562,  42.3792402 ,  31.11269837,  60.41522987,\n",
       "         65.29931087,  43.10452412,  33.61547263,  31.04834939,\n",
       "         58.        ,  66.28725368,  17.        ,  63.70243323,\n",
       "         44.20407221,  23.19482701,   0.        ,  11.3137085 ,\n",
       "         32.01562119,  41.        ,  14.76482306,   7.61577311,\n",
       "         51.        ,  21.09502311,  41.19465985,  52.0096145 ,\n",
       "         24.08318916,  33.54101966,  57.00877125,  40.31128874],\n",
       "       [ 47.01063709,  64.03124237,  13.89244399,  15.29705854,\n",
       "         45.31004304,  43.13930922,  32.01562119,  30.41381265,\n",
       "         33.06055051,  58.5918083 ,  33.24154028,  25.61249695,\n",
       "         52.39274759,  43.8634244 ,  35.60898763,  70.9365914 ,\n",
       "         43.8634244 ,  33.28663395,  32.01562119,  36.61966685,\n",
       "         49.2036584 ,  46.61544808,  34.13209633,  40.70626487,\n",
       "         47.50789408,  65.06919394,  27.29468813,  46.5188134 ,\n",
       "         36.12478374,  70.71067812,  30.41381265,  57.45432969,\n",
       "         33.12099032,  48.01041554,  37.48332963,  45.22167622,\n",
       "         34.92849839,  64.07027392,  56.30275304,  28.23118843,\n",
       "         19.20937271,  32.31098884,  20.61552813,  54.74486277,\n",
       "         36.89173349,  22.20360331,  54.70831747,  41.10960958,\n",
       "         34.66987165,  61.29437168,  26.30589288,  34.78505426,\n",
       "         55.56977596,  53.15072906,  49.57822102,  36.23534186,\n",
       "         54.7813837 ,  49.03060269,  55.6596802 ,  35.4682957 ,\n",
       "         61.03277808,  16.1245155 ,  52.83937925,  60.5309838 ,\n",
       "         71.06335202,  46.17358552,  73.60027174,  31.01612484,\n",
       "         55.97320788,  45.39823785,  69.35416354,  36.89173349,\n",
       "          2.82842712,  48.37354649,  42.42640687,  71.11961755,\n",
       "         69.57010852,  51.2445119 ,  44.65422712,  38.        ,\n",
       "         69.3108938 ,  77.4209274 ,  28.01785145,  64.20280368,\n",
       "         55.4436651 ,  31.40063694,  11.3137085 ,   0.        ,\n",
       "         32.75667871,  48.01041554,  15.8113883 ,  11.04536102,\n",
       "         55.36244214,  26.17250466,  33.24154028,  51.85556865,\n",
       "         32.55764119,  31.82766093,  53.53503526,  29.        ],\n",
       "       [ 27.51363298,  40.70626487,  46.64761516,  25.07987241,\n",
       "         51.4781507 ,  75.43208866,  48.66210024,  62.62587325,\n",
       "         58.30951895,  26.        ,  26.30589288,  12.36931688,\n",
       "         42.94182111,  51.42956348,  68.24221567,  38.94868419,\n",
       "         57.87054518,  14.86606875,  42.75511665,  47.51841748,\n",
       "         22.09072203,  15.03329638,  35.35533906,  70.83784299,\n",
       "         53.08483776,  42.05948169,  30.2654919 ,  14.31782106,\n",
       "         41.01219331,  61.29437168,  49.25444142,  24.69817807,\n",
       "          1.41421356,  79.19595949,  10.19803903,  15.29705854,\n",
       "         44.59820624,  58.6003413 ,  84.31488599,   6.32455532,\n",
       "         13.92838828,  49.64876635,  47.85394446,  27.20294102,\n",
       "         48.66210024,  51.92301994,  85.0411665 ,  26.62705391,\n",
       "         46.87216658,  34.78505426,  21.09502311,   7.81024968,\n",
       "         85.79627032,  21.63330765,  50.80354318,   4.        ,\n",
       "         23.19482701,  33.60059523,  83.21658489,   6.40312424,\n",
       "         36.24913792,  20.22374842,  82.97590012,  33.24154028,\n",
       "         67.62396025,  49.92995093,  41.10960958,  61.68468205,\n",
       "         59.68249325,  70.71067812,  68.00735254,  67.88225099,\n",
       "         33.54101966,  73.35529974,  47.04253395,  61.03277808,\n",
       "         38.32753579,  31.82766093,  42.95346319,  19.72308292,\n",
       "         69.92138443,  71.19691005,  33.37663854,  31.82766093,\n",
       "         60.40695324,  53.22593353,  32.01562119,  32.75667871,\n",
       "          0.        ,  25.61249695,  17.69180601,  24.75883681,\n",
       "         82.68010643,  14.14213562,  64.51356447,  83.48652586,\n",
       "         23.34523506,   7.07106781,  28.01785145,  48.16637832],\n",
       "       [ 51.03920062,  16.2788206 ,  60.5309838 ,  47.12748667,\n",
       "         76.85050423,  84.86459804,  72.11102551,  72.73238618,\n",
       "         60.46486583,  26.30589288,  18.86796226,  37.21558813,\n",
       "         22.        ,  76.66159404,  79.40403012,  45.39823785,\n",
       "         50.80354318,  40.36087214,  38.20994635,  41.10960958,\n",
       "         42.04759208,  17.72004515,  60.74537019,  76.53757247,\n",
       "         40.71854614,  17.4642492 ,  27.78488798,  19.92485885,\n",
       "         32.64965543,  37.69615365,  72.12489168,  29.01723626,\n",
       "         24.20743687,  85.88364221,  34.05877273,  13.92838828,\n",
       "         69.3181073 ,  37.33630941,  86.05230967,  24.16609195,\n",
       "         34.78505426,  47.50789408,  67.36467917,  10.        ,\n",
       "         42.52058325,  70.0285656 ,  89.88882022,  51.66236541,\n",
       "         41.72529209,  13.92838828,  22.56102835,  18.02775638,\n",
       "         90.42676595,  34.92849839,  35.73513677,  22.627417  ,\n",
       "         19.23538406,  11.        ,  84.50443775,  19.20937271,\n",
       "         13.03840481,  42.05948169,  87.66413178,  13.89244399,\n",
       "         46.5295605 ,  75.45197148,  44.38468204,  79.0253124 ,\n",
       "         44.38468204,  70.9365914 ,  48.09365863,  75.15317691,\n",
       "         50.009999  ,  72.9177619 ,  35.84689666,  37.16180835,\n",
       "         27.65863337,   6.70820393,  28.23118843,  10.04987562,\n",
       "         51.        ,  48.38388161,  30.23243292,  38.11823711,\n",
       "         45.88027899,  53.60037313,  41.        ,  48.01041554,\n",
       "         25.61249695,   0.        ,  33.24154028,  37.05401463,\n",
       "         83.73768566,  22.09072203,  81.15417426,  90.78546139,\n",
       "         17.4642492 ,  32.64965543,  47.92702787,  70.88018059],\n",
       "       [ 38.20994635,  49.49747468,  29.54657341,  15.62049935,\n",
       "         48.91829923,  57.80138407,  40.31128874,  45.        ,\n",
       "         41.62931659,  43.0464865 ,  22.02271555,  15.03329638,\n",
       "         42.01190308,  48.10405388,  50.7740091 ,  56.5862174 ,\n",
       "         45.09988914,  23.19482701,  30.41381265,  35.51056181,\n",
       "         37.16180835,  30.87069808,  34.13209633,  53.26349594,\n",
       "         44.01136217,  50.6359556 ,  20.1246118 ,  30.88689042,\n",
       "         31.38470965,  61.07372594,  39.81205847,  42.20189569,\n",
       "         17.80449381,  61.52235366,  24.59674775,  29.41088234,\n",
       "         39.62322551,  55.90169944,  67.23094526,  12.52996409,\n",
       "          7.        ,  35.12833614,  34.13209633,  39.20459157,\n",
       "         36.34556369,  37.05401463,  67.47592163,  34.05877273,\n",
       "         34.23448554,  46.01086828,  14.2126704 ,  18.97366596,\n",
       "         68.24954212,  39.05124838,  43.9089968 ,  20.80865205,\n",
       "         39.        ,  36.24913792,  66.24198065,  19.6977156 ,\n",
       "         46.09772229,  11.40175425,  65.4369926 ,  45.09988914,\n",
       "         64.03124237,  48.60041152,  58.79625838,  46.38965402,\n",
       "         51.89412298,  54.23098745,  63.2455532 ,  50.20956084,\n",
       "         17.2626765 ,  57.00877125,  38.07886553,  61.22091146,\n",
       "         53.75872022,  37.36308338,  37.20215048,  23.53720459,\n",
       "         64.14047084,  69.3108938 ,  22.47220505,  49.51767361,\n",
       "         52.        ,  37.36308338,  14.76482306,  15.8113883 ,\n",
       "         17.69180601,  33.24154028,   0.        ,   7.21110255,\n",
       "         65.76473219,  11.18033989,  48.83646179,  65.7951366 ,\n",
       "         20.24845673,  18.78829423,  42.3792402 ,  38.48376281],\n",
       "       [ 44.72135955,  53.00943312,  23.76972865,  17.88854382,\n",
       "         51.31276644,  51.03920062,  40.45985665,  38.27531842,\n",
       "         34.53983208,  49.64876635,  22.47220505,  21.58703314,\n",
       "         42.05948169,  50.21951812,  44.29446918,  63.70243323,\n",
       "         39.62322551,  29.83286778,  25.63201124,  30.6757233 ,\n",
       "         44.28317965,  37.21558813,  37.69615365,  46.09772229,\n",
       "         40.31128874,  54.03702434,  17.69180601,  37.44329045,\n",
       "         28.01785145,  60.74537019,  39.40812099,  49.04079934,\n",
       "         24.75883681,  54.45181356,  31.76476035,  35.34119409,\n",
       "         41.40048309,  54.67174773,  60.03332408,  19.20937271,\n",
       "         13.60147051,  29.01723626,  31.32091953,  44.14748011,\n",
       "         31.32091953,  33.24154028,  60.30754513,  40.04996879,\n",
       "         29.12043956,  50.48762225,  15.29705854,  25.05992817,\n",
       "         61.07372594,  46.22769733,  41.23105626,  27.65863337,\n",
       "         45.17742799,  38.07886553,  59.05929224,  26.07680962,\n",
       "         50.08991915,  15.29705854,  58.25804665,  49.81967483,\n",
       "         62.22539674,  51.4781507 ,  65.7951366 ,  42.        ,\n",
       "         48.54894438,  47.16990566,  60.95900262,  43.13930922,\n",
       "         13.34166406,  49.979996  ,  34.66987165,  61.05735009,\n",
       "         59.61543424,  40.19950248,  35.38361203,  27.01851217,\n",
       "         61.40032573,  68.11754546,  19.20937271,  56.56854249,\n",
       "         48.37354649,  30.59411708,   7.61577311,  11.04536102,\n",
       "         24.75883681,  37.05401463,   7.21110255,   0.        ,\n",
       "         58.5918083 ,  15.5241747 ,  44.10215414,  58.79625838,\n",
       "         21.58703314,  25.94224354,  49.39635614,  38.01315562],\n",
       "       [102.18121158,  94.87360012,  46.17358552,  70.60453243,\n",
       "         95.00526301,  27.45906044,  78.10249676,  31.40063694,\n",
       "         24.41311123, 104.99523799,  65.11528238,  79.7057087 ,\n",
       "         71.55417528,  93.02150289,  33.24154028, 121.24768039,\n",
       "         36.40054945,  87.84645696,  45.607017  ,  43.56604182,\n",
       "        102.85912696,  92.31467922,  87.96590248,  17.2626765 ,\n",
       "         49.979996  ,  95.18928511,  56.56854249,  93.23625904,\n",
       "         51.86520992,  80.28075735,  75.16648189, 105.42295765,\n",
       "         82.37718131,  18.43908891,  90.35485598,  89.27485648,\n",
       "         85.02352616,  71.06335202,   3.        ,  76.55063684,\n",
       "         72.01388755,  36.23534186,  61.07372594,  93.50935782,\n",
       "         42.19004622,  56.32051136,  13.41640786,  96.46242792,\n",
       "         42.43819035,  97.0051545 ,  64.5368112 ,  80.60397013,\n",
       "         13.        , 104.30723848,  56.64803615,  84.8763807 ,\n",
       "         99.08582139,  77.1038261 ,   1.        ,  82.20097323,\n",
       "         94.62557794,  71.16881339,  12.20655562,  97.45255256,\n",
       "         71.44928271,  97.02061637, 122.61321299,  54.12023651,\n",
       "         54.12947441,  12.80624847,  67.26812024,  22.36067977,\n",
       "         56.75385449,  11.18033989,  51.42956348,  81.49233093,\n",
       "        111.12605455,  82.41965785,  59.94163828,  75.66372975,\n",
       "         64.07027392,  79.40403012,  53.75872022, 113.81124725,\n",
       "         51.97114584,  30.41381265,  51.        ,  55.36244214,\n",
       "         82.68010643,  83.73768566,  65.76473219,  58.5918083 ,\n",
       "          0.        ,  70.        ,  51.86520992,  21.40093456,\n",
       "         67.17886572,  84.53401682, 107.83784122,  74.10802925],\n",
       "       [ 40.60788101,  38.32753579,  39.29376541,  25.94224354,\n",
       "         58.05170109,  65.8634952 ,  50.99019514,  53.23532662,\n",
       "         45.607017  ,  35.38361203,  13.41640786,  19.72308292,\n",
       "         32.55764119,  57.48912941,  59.50630219,  51.31276644,\n",
       "         43.73785546,  26.2488095 ,  28.63564213,  33.37663854,\n",
       "         36.22154055,  22.6715681 ,  42.44997055,  59.54829972,\n",
       "         39.3192065 ,  39.45883931,  16.1245155 ,  23.34523506,\n",
       "         27.01851217,  51.623638  ,  50.69516742,  35.4682957 ,\n",
       "         13.34166406,  68.41052551,  24.        ,  20.24845673,\n",
       "         49.40647731,  47.4341649 ,  71.84010022,   8.        ,\n",
       "         14.2126704 ,  35.84689666,  45.27692569,  28.63564213,\n",
       "         34.525353  ,  48.        ,  73.59347797,  38.27531842,\n",
       "         32.75667871,  35.12833614,   7.        ,  10.63014581,\n",
       "         74.27651042,  34.92849839,  37.64306045,  15.23154621,\n",
       "         30.23243292,  25.55386468,  70.60453243,  12.20655562,\n",
       "         35.0142828 ,  21.09502311,  71.44928271,  34.36568055,\n",
       "         56.08029957,  57.28001397,  52.63078947,  57.14017851,\n",
       "         46.32493929,  57.68882041,  55.90169944,  57.20139858,\n",
       "         28.01785145,  60.20797289,  33.24154028,  51.623638  ,\n",
       "         44.28317965,  26.2488095 ,  30.08321791,  12.36931688,\n",
       "         57.38466694,  60.6052803 ,  19.23538406,  43.829214  ,\n",
       "         46.87216658,  39.96248241,  21.09502311,  26.17250466,\n",
       "         14.14213562,  22.09072203,  11.18033989,  15.5241747 ,\n",
       "         70.        ,   0.        ,  59.41380311,  73.00684899,\n",
       "         10.81665383,  19.23538406,  42.10700654,  49.39635614],\n",
       "       [ 70.09279564,  97.02061637,  21.21320344,  40.70626487,\n",
       "         48.70318265,  26.07680962,  31.78049716,  21.63330765,\n",
       "         42.44997055,  90.47651629,  65.19202405,  54.56189146,\n",
       "         82.76472679,  46.4865572 ,  18.68154169, 100.34440692,\n",
       "         62.42595614,  60.20797289,  57.00877125,  59.93329626,\n",
       "         76.2758153 ,  79.12016178,  48.41487375,  34.92849839,\n",
       "         71.55417528,  98.00510191,  57.70615219,  78.74642849,\n",
       "         63.2455532 ,  99.62429423,  28.63564213,  88.76936408,\n",
       "         65.1459899 ,  35.35533906,  66.64833081,  78.10249676,\n",
       "         40.70626487,  91.76055798,  50.96076922,  60.87692502,\n",
       "         50.59644256,  51.97114584,  18.43908891,  87.96590248,\n",
       "         59.48108943,  13.03840481,  43.28972164,  62.96824597,\n",
       "         57.69748695,  94.53041838,  59.        ,  67.68308504,\n",
       "         44.28317965,  82.76472679,  75.76938696,  68.30812543,\n",
       "         87.36131867,  81.22191822,  51.54609588,  68.15423685,\n",
       "         94.19129471,  44.77722635,  42.57933771,  93.77099765,\n",
       "         97.08243919,  51.623638  , 103.76897417,   3.60555128,\n",
       "         79.64923101,  49.09175083,  94.36630755,  29.96664813,\n",
       "         31.57530681,  51.623638  ,  68.15423685, 100.28459503,\n",
       "        102.35721763,  84.00595217,  73.08214556,  71.11258679,\n",
       "         93.15041599, 104.38869671,  57.27128425,  94.36630755,\n",
       "         78.39005039,  46.61544808,  41.19465985,  33.24154028,\n",
       "         64.51356447,  81.15417426,  48.83646179,  44.10215414,\n",
       "         51.86520992,  59.41380311,   0.        ,  36.        ,\n",
       "         65.03076195,  61.74139616,  79.0253124 ,  28.17800561],\n",
       "       [ 97.94386147, 104.17773275,  39.11521443,  65.73431372,\n",
       "         83.5463943 ,  10.19803903,  66.28725368,  21.63330765,\n",
       "         31.78049716, 108.23123394,  72.01388755,  77.46612163,\n",
       "         83.19855768,  81.39410298,  18.68154169, 122.33151679,\n",
       "         51.        ,  85.        ,  55.08175742,  54.91812087,\n",
       "        101.04454463,  95.60334722,  79.84985911,  14.56021978,\n",
       "         64.12487817, 104.75208828,  63.07138812,  96.04686356,\n",
       "         62.09669879,  95.18928511,  63.15061362, 107.81465578,\n",
       "         83.5463943 ,   5.09901951,  89.27485648,  93.23089617,\n",
       "         74.46475676,  86.092973  ,  19.10497317,  77.98717843,\n",
       "         70.76722405,  46.09772229,  50.        ,  99.84988733,\n",
       "         53.75872022,  44.38468204,   8.60232527,  91.41662868,\n",
       "         53.15072906, 104.65180362,  69.11584478,  83.40863265,\n",
       "          9.43398113, 104.66135868,  70.34912935,  86.45229899,\n",
       "        103.2279032 ,  86.37708029,  20.61552813,  84.64632302,\n",
       "        102.95630141,  67.80117993,   9.21954446, 104.65658126,\n",
       "         88.141931  ,  86.12200648, 124.57929202,  39.05124838,\n",
       "         70.0285656 ,  27.45906044,  84.29116205,  15.8113883 ,\n",
       "         52.20153254,  28.16025568,  63.78871374,  96.25487001,\n",
       "        116.81181447,  91.        ,  71.58910532,  81.49233093,\n",
       "         81.61494961,  96.13012015,  60.92618485, 115.31261856,\n",
       "         68.0661443 ,  39.05124838,  52.0096145 ,  51.85556865,\n",
       "         83.48652586,  90.78546139,  65.7951366 ,  58.79625838,\n",
       "         21.40093456,  73.00684899,  36.        ,   0.        ,\n",
       "         73.35529974,  83.5463943 , 105.20931518,  62.36986452],\n",
       "       [ 50.69516742,  32.24903099,  44.01136217,  35.80502758,\n",
       "         68.59300256,  67.41661516,  60.53924347,  55.36244214,\n",
       "         43.41658669,  38.58756276,   3.        ,  30.52867504,\n",
       "         21.9317122 ,  67.94115101,  62.09669879,  56.46237685,\n",
       "         36.76955262,  36.76955262,  22.47220505,  26.40075756,\n",
       "         45.04442252,  26.40075756,  53.15072906,  59.16924877,\n",
       "         30.01666204,  33.13608305,  10.63014581,  27.85677655,\n",
       "         18.68154169,  41.03656906,  59.94163828,  39.81205847,\n",
       "         22.20360331,  68.47627326,  33.54101966,  22.82542442,\n",
       "         59.66573556,  36.61966685,  69.35416354,  18.02775638,\n",
       "         24.75883681,  31.2409987 ,  52.88667129,  26.62705391,\n",
       "         27.73084925,  54.74486277,  72.6704892 ,  48.84669897,\n",
       "         26.41968963,  31.38470965,   6.32455532,  17.02938637,\n",
       "         73.23933369,  41.77319715,  27.45906044,  23.        ,\n",
       "         32.20248438,  16.4924225 ,  67.89698079,  19.02629759,\n",
       "         30.08321791,  31.2409987 ,  70.45565982,  31.30495168,\n",
       "         45.27692569,  67.94115101,  56.82429058,  63.19810124,\n",
       "         36.34556369,  54.45181356,  45.18849411,  57.69748695,\n",
       "         34.92849839,  56.63920903,  24.08318916,  41.10960958,\n",
       "         44.04543109,  19.02629759,  19.6468827 ,   8.48528137,\n",
       "         46.81879964,  49.81967483,  13.45362405,  48.84669897,\n",
       "         37.12142239,  36.79673899,  24.08318916,  32.55764119,\n",
       "         23.34523506,  17.4642492 ,  20.24845673,  21.58703314,\n",
       "         67.17886572,  10.81665383,  65.03076195,  73.35529974,\n",
       "          0.        ,  29.41088234,  51.0881591 ,  58.5918083 ],\n",
       "       [ 21.37755833,  47.50789408,  45.45327271,  21.1896201 ,\n",
       "         44.72135955,  74.96665926,  43.10452412,  62.22539674,\n",
       "         60.41522987,  29.42787794,  32.28002478,   7.28010989,\n",
       "         49.73932046,  44.77722635,  67.35725648,  39.20459157,\n",
       "         62.20128616,   7.81024968,  47.09564736,  52.03844733,\n",
       "         18.38477631,  20.39607805,  28.63564213,  71.61005516,\n",
       "         58.54912467,  48.87739764,  35.0142828 ,  19.10497317,\n",
       "         46.17358552,  68.24221567,  44.        ,  27.20294102,\n",
       "          8.48528137,  79.51100553,   5.83095189,  21.54065923,\n",
       "         38.32753579,  65.29931087,  85.95929269,  11.40175425,\n",
       "         12.80624847,  53.15072906,  44.27188724,  33.61547263,\n",
       "         53.08483776,  48.84669897,  85.80209788,  19.72308292,\n",
       "         51.15662225,  41.23105626,  26.17250466,  14.86606875,\n",
       "         86.60831369,  21.40093456,  56.75385449,  10.29563014,\n",
       "         28.0713377 ,  40.60788101,  85.        ,  13.45362405,\n",
       "         42.94182111,  17.        ,  83.81527307,  39.56008089,\n",
       "         74.24957912,  43.0464865 ,  42.19004622,  58.69412236,\n",
       "         65.51335742,  73.00684899,  74.46475676,  68.24954212,\n",
       "         32.01562119,  75.76938696,  52.46903849,  68.00735254,\n",
       "         43.        ,  38.89730068,  49.04079934,  26.62705391,\n",
       "         76.21679605,  78.0320447 ,  38.        ,  32.75667871,\n",
       "         66.09841148,  55.97320788,  33.54101966,  31.82766093,\n",
       "          7.07106781,  32.64965543,  18.78829423,  25.94224354,\n",
       "         84.53401682,  19.23538406,  61.74139616,  83.5463943 ,\n",
       "         29.41088234,   0.        ,  23.76972865,  43.01162634],\n",
       "       [ 10.19803903,  58.6003413 ,  66.21933252,  39.69886648,\n",
       "         46.09772229,  96.04686356,  52.92447449,  83.60023923,\n",
       "         83.93449827,  29.20616373,  54.08326913,  28.17800561,\n",
       "         68.68041933,  47.26520919,  87.96590248,  25.01999201,\n",
       "         85.70880935,  20.24845673,  70.57619995,  75.42545989,\n",
       "          6.08276253,  30.41381265,  33.83784863,  94.15412896,\n",
       "         81.0246876 ,  60.        ,  58.21511831,  28.17800561,\n",
       "         69.02897942,  85.61541917,  55.03635162,  25.        ,\n",
       "         29.        , 101.51354589,  18.24828759,  34.0147027 ,\n",
       "         44.92215489,  84.48076704, 109.12378293,  34.13209633,\n",
       "         35.84689666,  76.90253572,  60.6052803 ,  43.829214  ,\n",
       "         76.53103945,  66.06814664, 108.2266141 ,  17.08800749,\n",
       "         74.67261881,  50.44799302,  49.09175083,  34.23448554,\n",
       "        109.07795378,  14.86606875,  78.40918314,  28.16025568,\n",
       "         33.30165161,  58.1893461 , 108.25894882,  32.24903099,\n",
       "         53.60037313,  37.44329045, 106.32967601,  48.27007354,\n",
       "         93.68030743,  43.01162634,  30.01666204,  75.60423269,\n",
       "         87.36704184,  96.56603958,  94.59386872,  90.42676595,\n",
       "         53.00943312,  99.3680029 ,  75.00666637,  85.08818954,\n",
       "         43.56604182,  54.62600113,  70.45565982,  45.89117562,\n",
       "         96.88137076,  96.20810777,  61.29437168,  22.8035085 ,\n",
       "         88.20430828,  79.69943538,  57.00877125,  53.53503526,\n",
       "         28.01785145,  47.92702787,  42.3792402 ,  49.39635614,\n",
       "        107.83784122,  42.10700654,  79.0253124 , 105.20931518,\n",
       "         51.0881591 ,  23.76972865,   0.        ,  54.56189146],\n",
       "       [ 44.77722635,  87.09190548,  29.12043956,  23.76972865,\n",
       "         21.21320344,  52.17278984,   4.        ,  43.01162634,\n",
       "         56.92099788,  72.24956747,  60.03332408,  36.01388621,\n",
       "         79.92496481,  19.10497317,  43.73785546,  78.10889834,\n",
       "         71.86793444,  38.63935817,  60.95900262,  65.4369926 ,\n",
       "         53.14132102,  63.07138812,  21.40093456,  57.00877125,\n",
       "         76.4852927 ,  88.32326987,  55.6057551 ,  62.00806399,\n",
       "         65.06919394,  98.73702446,   1.41421356,  69.58448103,\n",
       "         49.25444142,  60.5309838 ,  46.38965402,  63.38769597,\n",
       "         12.52996409,  92.61749295,  74.00675645,  47.07440918,\n",
       "         36.138622  ,  60.20797289,  13.03840481,  74.96665926,\n",
       "         65.60487787,  18.11077028,  68.46897107,  37.58989226,\n",
       "         63.41135545,  82.37718131,  52.35456045,  53.93514624,\n",
       "         69.46221995,  61.6116872 ,  78.51751397,  52.15361924,\n",
       "         71.0070419 ,  74.73285757,  74.06078585,  53.60037313,\n",
       "         83.19855768,  28.86173938,  67.26812024,  81.04936767,\n",
       "         99.90495483,  23.76972865,  82.28000972,  24.59674775,\n",
       "         84.95881355,  67.46851117,  98.31073187,  52.        ,\n",
       "         26.17250466,  70.40596566,  71.42128534,  99.02019996,\n",
       "         86.00581376,  75.61084578,  73.24616031,  61.68468205,\n",
       "         98.31073187, 106.04244433,  56.72741841,  73.24616031,\n",
       "         84.3860178 ,  57.69748695,  40.31128874,  29.        ,\n",
       "         48.16637832,  70.88018059,  38.48376281,  38.01315562,\n",
       "         74.10802925,  49.39635614,  28.17800561,  62.36986452,\n",
       "         58.5918083 ,  43.01162634,  54.56189146,   0.        ]])"
      ]
     },
     "execution_count": 25,
     "metadata": {},
     "output_type": "execute_result"
    }
   ],
   "source": [
    "a=np.random.randint(0,100,size=(100,2))\n",
    "x,y=np.atleast_2d(a[:,0],a[:,1])\n",
    "dist=np.sqrt(((x-x.T)**2)+((y-y.T)**2))\n",
    "dist"
   ]
  },
  {
   "cell_type": "markdown",
   "metadata": {
    "id": "Kt6A2niwK_K9"
   },
   "source": [
    "#### 53. How to convert a float (32 bits) array into an integer (32 bits) in place? \n",
    "(**hint**: astype(copy=False))"
   ]
  },
  {
   "cell_type": "code",
   "execution_count": 26,
   "metadata": {
    "id": "AbZhLmH8K_K-"
   },
   "outputs": [
    {
     "data": {
      "text/plain": [
       "numpy.int32"
      ]
     },
     "execution_count": 26,
     "metadata": {},
     "output_type": "execute_result"
    }
   ],
   "source": [
    "a=np.float32(2)\n",
    "a=a.astype(int,copy=False)\n",
    "type(a)"
   ]
  },
  {
   "cell_type": "markdown",
   "metadata": {
    "id": "LjPOecArK_K-"
   },
   "source": [
    "#### 54. How to read the following file? (★★☆) \n",
    "(**hint**: np.genfromtxt)"
   ]
  },
  {
   "cell_type": "markdown",
   "metadata": {
    "id": "Mj2KvNAuK_K-"
   },
   "source": [
    "```\n",
    "1, 2, 3, 4, 5\n",
    "6,  ,  , 7, 8\n",
    " ,  , 9,10,11\n",
    "```"
   ]
  },
  {
   "cell_type": "code",
   "execution_count": 27,
   "metadata": {
    "id": "vXnSm9nUK_K-"
   },
   "outputs": [
    {
     "data": {
      "text/plain": [
       "array([ 1.,  2.,  3.,  4., nan, nan, nan,  7.,  8., nan,  9., 10., 11.])"
      ]
     },
     "execution_count": 27,
     "metadata": {},
     "output_type": "execute_result"
    }
   ],
   "source": [
    "from io import StringIO\n",
    "s=StringIO('''1, 2, 3, 4, 5 6,  ,  , 7, 8,  , 9,10,11''')\n",
    "np.genfromtxt(s,delimiter=',')"
   ]
  },
  {
   "cell_type": "markdown",
   "metadata": {
    "id": "SY7enoONK_K-"
   },
   "source": [
    "#### 55. What is the equivalent of enumerate for numpy arrays? (★★☆) \n",
    "(**hint**: np.ndenumerate, np.ndindex)"
   ]
  },
  {
   "cell_type": "code",
   "execution_count": 28,
   "metadata": {
    "id": "1r52d7UPK_K_"
   },
   "outputs": [
    {
     "name": "stdout",
     "output_type": "stream",
     "text": [
      "(0,) 1\n",
      "(1,) 2\n",
      "(2,) 3\n",
      "(0,)\n",
      "(1,)\n",
      "(2,)\n"
     ]
    }
   ],
   "source": [
    "x=np.array([1,2,3])\n",
    "for i,val in np.ndenumerate(x):\n",
    "    print(i,val)\n",
    "for i in np.ndindex(3,):\n",
    "    print(i)"
   ]
  },
  {
   "cell_type": "markdown",
   "metadata": {
    "id": "G2GzmIRNK_K_"
   },
   "source": [
    "#### 56. Generate a generic 2D Gaussian-like array (★★☆) \n",
    "(**hint**: np.meshgrid, np.exp)"
   ]
  },
  {
   "cell_type": "code",
   "execution_count": 29,
   "metadata": {
    "id": "9Odmqf4vK_K_"
   },
   "outputs": [
    {
     "data": {
      "text/plain": [
       "array([[1.00000000e+00, 2.49352209e-01, 3.86592014e-03, 3.72665317e-06],\n",
       "       [2.49352209e-01, 6.21765240e-02, 9.63975726e-04, 9.29249200e-07],\n",
       "       [3.86592014e-03, 9.63975726e-04, 1.49453385e-05, 1.44069436e-08],\n",
       "       [3.72665317e-06, 9.29249200e-07, 1.44069436e-08, 1.38879439e-11]])"
      ]
     },
     "execution_count": 29,
     "metadata": {},
     "output_type": "execute_result"
    }
   ],
   "source": [
    "X,Y=np.meshgrid(np.linspace(0,5,4),np.linspace(0,5,4))\n",
    "x=np.sqrt(X*X+Y*Y)\n",
    "mu,sig=0.0,1.0\n",
    "guass=np.exp((-(x-mu)**2)/2*(sig**2))\n",
    "guass"
   ]
  },
  {
   "cell_type": "markdown",
   "metadata": {
    "id": "XHgL539uK_K_"
   },
   "source": [
    "#### 57. How to randomly place p elements in a 2D array? (★★☆) \n",
    "(**hint**: np.put, np.random.choice)"
   ]
  },
  {
   "cell_type": "code",
   "execution_count": 30,
   "metadata": {
    "id": "xqMgc_8gK_LA"
   },
   "outputs": [
    {
     "name": "stdout",
     "output_type": "stream",
     "text": [
      "[5 0 7 4 2 5 8 0]\n"
     ]
    },
    {
     "data": {
      "text/plain": [
       "array([[ 0,  1,  0,  3],\n",
       "       [ 0,  0,  6,  0],\n",
       "       [ 0,  9, 10, 11],\n",
       "       [12, 13, 14, 15],\n",
       "       [16, 17, 18, 19]])"
      ]
     },
     "execution_count": 30,
     "metadata": {},
     "output_type": "execute_result"
    }
   ],
   "source": [
    "a=np.arange(20).reshape(5,4)\n",
    "b=np.random.choice(10,8)\n",
    "print(b)\n",
    "np.put(a,b,np.zeros(8))\n",
    "a\n",
    "\n"
   ]
  },
  {
   "cell_type": "markdown",
   "metadata": {
    "id": "CdpC7Q7-K_LA"
   },
   "source": [
    "#### 58. Subtract the mean of each row of a matrix (★★☆) \n",
    "(**hint**: mean(axis=,keepdims=))"
   ]
  },
  {
   "cell_type": "code",
   "execution_count": 31,
   "metadata": {
    "id": "nFhsOSZ1K_LA"
   },
   "outputs": [
    {
     "data": {
      "text/plain": [
       "array([[-2., -1.,  0.,  1.,  2.],\n",
       "       [-2., -1.,  0.,  1.,  2.],\n",
       "       [-2., -1.,  0.,  1.,  2.],\n",
       "       [-2., -1.,  0.,  1.,  2.]])"
      ]
     },
     "execution_count": 31,
     "metadata": {},
     "output_type": "execute_result"
    }
   ],
   "source": [
    "a=np.arange(20).reshape(4,5)\n",
    "a-np.mean(a,axis=1,keepdims=True)"
   ]
  },
  {
   "cell_type": "markdown",
   "metadata": {
    "id": "lwS5mJvJK_LA"
   },
   "source": [
    "#### 59. How to sort an array by the nth column? (★★☆) \n",
    "(**hint**: argsort)"
   ]
  },
  {
   "cell_type": "code",
   "execution_count": 32,
   "metadata": {
    "id": "T24OcCz6K_LA"
   },
   "outputs": [
    {
     "name": "stdout",
     "output_type": "stream",
     "text": [
      "[[ 8  3 10 14  5]\n",
      " [12  3  3  3  2]\n",
      " [ 7  6  7  5  0]\n",
      " [11  2  7 11  3]]\n"
     ]
    },
    {
     "data": {
      "text/plain": [
       "array([[12,  3,  3,  3,  2],\n",
       "       [ 7,  6,  7,  5,  0],\n",
       "       [11,  2,  7, 11,  3],\n",
       "       [ 8,  3, 10, 14,  5]])"
      ]
     },
     "execution_count": 32,
     "metadata": {},
     "output_type": "execute_result"
    }
   ],
   "source": [
    "a=np.random.randint(0,15,size=(4,5))\n",
    "print(a)\n",
    "a[np.argsort(a[:,2])]"
   ]
  },
  {
   "cell_type": "markdown",
   "metadata": {
    "id": "kxU3nCNnK_LB"
   },
   "source": [
    "#### 60. How to tell if a given 2D array has null columns? (★★☆) \n",
    "(**hint**: any, ~)"
   ]
  },
  {
   "cell_type": "code",
   "execution_count": 33,
   "metadata": {
    "id": "CX6-wBNPK_LB"
   },
   "outputs": [
    {
     "name": "stdout",
     "output_type": "stream",
     "text": [
      "[[0 0 1]\n",
      " [0 1 1]\n",
      " [1 1 1]\n",
      " [0 0 0]]\n"
     ]
    },
    {
     "data": {
      "text/plain": [
       "array([False, False, False])"
      ]
     },
     "execution_count": 33,
     "metadata": {},
     "output_type": "execute_result"
    }
   ],
   "source": [
    "a=np.random.randint(0,2,size=(4,3))\n",
    "print(a)\n",
    "np.any(a,axis=0,where=np.isnan(a))"
   ]
  },
  {
   "cell_type": "markdown",
   "metadata": {
    "id": "cm0FqxKIK_LB"
   },
   "source": [
    "#### 61. Find the nearest value from a given value in an array (★★☆) \n",
    "(**hint**: np.abs, argmin, flat)"
   ]
  },
  {
   "cell_type": "code",
   "execution_count": 34,
   "metadata": {
    "id": "f0j5FuX4K_LB"
   },
   "outputs": [
    {
     "data": {
      "text/plain": [
       "5"
      ]
     },
     "execution_count": 34,
     "metadata": {},
     "output_type": "execute_result"
    }
   ],
   "source": [
    "a=np.random.randint(1,25,5)\n",
    "b[np.abs(a-8).argmin()]"
   ]
  },
  {
   "cell_type": "markdown",
   "metadata": {
    "id": "EpjM7SrjK_LB"
   },
   "source": [
    "#### 62. Considering two arrays with shape (1,3) and (3,1), how to compute their sum using an iterator? (★★☆) \n",
    "(**hint**: np.nditer)"
   ]
  },
  {
   "cell_type": "code",
   "execution_count": 35,
   "metadata": {},
   "outputs": [
    {
     "data": {
      "text/plain": [
       "(array([[4, 5, 6]]),\n",
       " array([[ 8],\n",
       "        [ 9],\n",
       "        [10]]),\n",
       " array([[12, 13, 14],\n",
       "        [13, 14, 15],\n",
       "        [14, 15, 16]]))"
      ]
     },
     "execution_count": 35,
     "metadata": {},
     "output_type": "execute_result"
    }
   ],
   "source": [
    "a=np.arange(4,7).reshape(1,3)\n",
    "b=np.arange(8,11).reshape(3,1)\n",
    "it=np.nditer([a,b,None])\n",
    "for i,j,z in it:\n",
    "    z[...]=i+j\n",
    "it.operands"
   ]
  },
  {
   "cell_type": "markdown",
   "metadata": {
    "id": "5B8fa2XdK_LC"
   },
   "source": [
    "#### 63. Create an array class that has a name attribute (★★☆) \n",
    "(**hint**: class method)"
   ]
  },
  {
   "cell_type": "code",
   "execution_count": 36,
   "metadata": {
    "id": "E7_x1VZzK_LC"
   },
   "outputs": [
    {
     "data": {
      "text/plain": [
       "'spam'"
      ]
     },
     "execution_count": 36,
     "metadata": {},
     "output_type": "execute_result"
    }
   ],
   "source": [
    "class Foo:\n",
    "    def __init__(self, name):\n",
    "        self.name = name\n",
    "\n",
    "\n",
    "x = Foo('spam')\n",
    "x.name"
   ]
  },
  {
   "cell_type": "markdown",
   "metadata": {
    "id": "Hay__zQ1K_LC"
   },
   "source": [
    "#### 64. Consider a given vector, how to add 1 to each element indexed by a second vector (be careful with repeated indices)? (★★★) \n",
    "(**hint**: np.bincount | np.add.at)"
   ]
  },
  {
   "cell_type": "code",
   "execution_count": 37,
   "metadata": {
    "id": "rIlvDpDVK_LC"
   },
   "outputs": [
    {
     "data": {
      "text/plain": [
       "array([ 0., 16., 10., 17.])"
      ]
     },
     "execution_count": 37,
     "metadata": {},
     "output_type": "execute_result"
    }
   ],
   "source": [
    "a2 = [10, 11, 4, 6, 2, 1, 9]\n",
    "a1 = [1, 3, 1, 3, 1, 2, 2]\n",
    "\n",
    "np.bincount(a1,a2)"
   ]
  },
  {
   "cell_type": "markdown",
   "metadata": {
    "id": "-09IgoHuK_LC"
   },
   "source": [
    "#### 65. How to accumulate elements of a vector (X) to an array (F) based on an index list (I)? (★★★) \n",
    "(**hint**: np.bincount)"
   ]
  },
  {
   "cell_type": "code",
   "execution_count": 38,
   "metadata": {
    "id": "4HN40Ee_K_LD"
   },
   "outputs": [
    {
     "data": {
      "text/plain": [
       "array([0, 7, 0, 6, 5, 0, 0, 0, 0, 3])"
      ]
     },
     "execution_count": 38,
     "metadata": {},
     "output_type": "execute_result"
    }
   ],
   "source": [
    "X = [1, 2, 3, 4, 5, 6]\n",
    "I = [1, 3, 9, 3, 4, 1]\n",
    "F = np.array(np.bincount(I, X), dtype=int)\n",
    "F"
   ]
  },
  {
   "cell_type": "markdown",
   "metadata": {
    "id": "PFYZMZe6K_LD"
   },
   "source": [
    "#### 66. Considering a (w,h,3) image of (dtype=ubyte), compute the number of unique colors (★★★) \n",
    "(**hint**: np.unique)"
   ]
  },
  {
   "cell_type": "code",
   "execution_count": 39,
   "metadata": {
    "id": "_mm8LMbXK_LD"
   },
   "outputs": [
    {
     "data": {
      "text/plain": [
       "64"
      ]
     },
     "execution_count": 39,
     "metadata": {},
     "output_type": "execute_result"
    }
   ],
   "source": [
    "w, h = 256, 256\n",
    "I = np.random.randint(0, 4, (h, w, 3)).astype(np.ubyte)\n",
    "colors = np.unique(I.reshape(-1, 3), axis=0)\n",
    "colors.shape[0]"
   ]
  },
  {
   "cell_type": "markdown",
   "metadata": {
    "id": "0b4WOWEdK_LD"
   },
   "source": [
    "#### 67. Considering a four dimensions array, how to get sum over the last two axis at once? (★★★) \n",
    "(**hint**: sum(axis=(-2,-1)))"
   ]
  },
  {
   "cell_type": "code",
   "execution_count": 40,
   "metadata": {
    "id": "GQNj-eecK_LE"
   },
   "outputs": [
    {
     "data": {
      "text/plain": [
       "array([[4., 4.],\n",
       "       [4., 4.]])"
      ]
     },
     "execution_count": 40,
     "metadata": {},
     "output_type": "execute_result"
    }
   ],
   "source": [
    "np.ones((2,2,2,2)).sum(axis=(-2,-1))"
   ]
  },
  {
   "cell_type": "markdown",
   "metadata": {
    "id": "o4J4S5GGK_LE"
   },
   "source": [
    "#### 68. Considering a one-dimensional vector D, how to compute means of subsets of D using a vector S of same size describing subset  indices? (★★★) \n",
    "(**hint**: np.bincount)"
   ]
  },
  {
   "cell_type": "code",
   "execution_count": 41,
   "metadata": {
    "id": "M3c6tMuJK_LF"
   },
   "outputs": [
    {
     "data": {
      "text/plain": [
       "array([0.63397162, 0.65810412, 0.54264908, 0.51278698, 0.38288669,\n",
       "       0.5366808 , 0.36184328, 0.61870894, 0.54697368, 0.48321294])"
      ]
     },
     "execution_count": 41,
     "metadata": {},
     "output_type": "execute_result"
    }
   ],
   "source": [
    "a = np.random.uniform(0, 1, 100)\n",
    "b=np.random.randint(0,10,100)\n",
    "sum_bin=np.bincount(b,weights=a)\n",
    "counts=np.bincount(b)\n",
    "sum_bin/counts"
   ]
  },
  {
   "cell_type": "markdown",
   "metadata": {
    "id": "A-I5PfcaK_LF"
   },
   "source": [
    "#### 69. How to get the diagonal of a dot product? (★★★) \n",
    "(**hint**: np.diag)"
   ]
  },
  {
   "cell_type": "code",
   "execution_count": 42,
   "metadata": {
    "id": "TAK0VkxIK_LF"
   },
   "outputs": [
    {
     "data": {
      "text/plain": [
       "array([0., 0., 0.])"
      ]
     },
     "execution_count": 42,
     "metadata": {},
     "output_type": "execute_result"
    }
   ],
   "source": [
    "np.diag(np.dot(np.ones((3,3)),np.zeros((3,3))))"
   ]
  },
  {
   "cell_type": "markdown",
   "metadata": {
    "id": "BXiqsgJOK_LF"
   },
   "source": [
    "#### 70. Consider the vector \\[1, 2, 3, 4, 5\\], how to build a new vector with 3 consecutive zeros interleaved between each value? (★★★) \n",
    "(**hint**: array\\[::4\\])"
   ]
  },
  {
   "cell_type": "code",
   "execution_count": 43,
   "metadata": {
    "id": "a_OddP3dK_LG"
   },
   "outputs": [
    {
     "data": {
      "text/plain": [
       "array([1., 0., 0., 0., 2., 0., 0., 0., 3., 0., 0., 0., 4., 0., 0., 0., 5.])"
      ]
     },
     "execution_count": 43,
     "metadata": {},
     "output_type": "execute_result"
    }
   ],
   "source": [
    "a=np.array([1,2,3,4,5])\n",
    "b=np.zeros(17)\n",
    "b[::4]=a\n",
    "b"
   ]
  },
  {
   "cell_type": "markdown",
   "metadata": {
    "id": "85Gak6o9K_LG"
   },
   "source": [
    "#### 71. Consider an array of dimension (5,5,3), how to mulitply it by an array with dimensions (5,5)? (★★★) \n",
    "(**hint**: array\\[:, :, None\\])"
   ]
  },
  {
   "cell_type": "code",
   "execution_count": 44,
   "metadata": {
    "id": "rIW44C8MK_LG"
   },
   "outputs": [
    {
     "name": "stdout",
     "output_type": "stream",
     "text": [
      "[[[2. 2. 2.]\n",
      "  [2. 2. 2.]\n",
      "  [2. 2. 2.]\n",
      "  [2. 2. 2.]\n",
      "  [2. 2. 2.]]\n",
      "\n",
      " [[2. 2. 2.]\n",
      "  [2. 2. 2.]\n",
      "  [2. 2. 2.]\n",
      "  [2. 2. 2.]\n",
      "  [2. 2. 2.]]\n",
      "\n",
      " [[2. 2. 2.]\n",
      "  [2. 2. 2.]\n",
      "  [2. 2. 2.]\n",
      "  [2. 2. 2.]\n",
      "  [2. 2. 2.]]\n",
      "\n",
      " [[2. 2. 2.]\n",
      "  [2. 2. 2.]\n",
      "  [2. 2. 2.]\n",
      "  [2. 2. 2.]\n",
      "  [2. 2. 2.]]\n",
      "\n",
      " [[2. 2. 2.]\n",
      "  [2. 2. 2.]\n",
      "  [2. 2. 2.]\n",
      "  [2. 2. 2.]\n",
      "  [2. 2. 2.]]]\n"
     ]
    }
   ],
   "source": [
    "A = np.ones((5,5,3))\n",
    "B = 2*np.ones((5,5))\n",
    "print(A * B[:,:,None])"
   ]
  },
  {
   "cell_type": "markdown",
   "metadata": {
    "id": "BawKQ120K_LG"
   },
   "source": [
    "#### 72. How to swap two rows of an array? (★★★) \n",
    "(**hint**: array\\[\\[\\]\\] = array\\[\\[\\]\\])"
   ]
  },
  {
   "cell_type": "code",
   "execution_count": 45,
   "metadata": {
    "id": "zORbpGCrK_LH"
   },
   "outputs": [],
   "source": [
    "a=np.arange(25).reshape(5,5)\n",
    "a[[0,1]]=a[[1,0]]"
   ]
  },
  {
   "cell_type": "markdown",
   "metadata": {
    "id": "ZZKDon01K_LH"
   },
   "source": [
    "#### 73. Consider a set of 10 triplets describing 10 triangles (with shared vertices), find the set of unique line segments composing all the  triangles (★★★) \n",
    "(**hint**: repeat, np.roll, np.sort, view, np.unique)"
   ]
  },
  {
   "cell_type": "code",
   "execution_count": 46,
   "metadata": {
    "id": "5LPZCbrVK_LH"
   },
   "outputs": [
    {
     "name": "stdout",
     "output_type": "stream",
     "text": [
      "[( 0, 77) ( 0, 94) ( 1, 68) ( 1, 94) ( 3, 20) ( 3, 50) ( 5, 35) ( 5, 96)\n",
      " (11, 13) (11, 47) (13, 47) (20, 50) (33, 38) (33, 79) (35, 96) (36, 72)\n",
      " (36, 78) (38, 79) (44, 73) (44, 74) (46, 62) (46, 95) (62, 95) (68, 94)\n",
      " (72, 78) (73, 74) (76, 84) (76, 95) (77, 94) (84, 95)]\n"
     ]
    }
   ],
   "source": [
    "faces = np.random.randint(0,100,(10,3))\n",
    "F = np.roll(faces.repeat(2,axis=1),-1,axis=1)\n",
    "F = F.reshape(len(F)*3,2)\n",
    "F = np.sort(F,axis=1)\n",
    "G = F.view( dtype=[('p0',F.dtype),('p1',F.dtype)] )\n",
    "G = np.unique(G)\n",
    "print(G)"
   ]
  },
  {
   "cell_type": "markdown",
   "metadata": {
    "id": "H-rq563dK_LI"
   },
   "source": [
    "#### 74. Given an array C that is a bincount, how to produce an array A such that np.bincount(A) == C? (★★★) \n",
    "(**hint**: np.repeat)"
   ]
  },
  {
   "cell_type": "code",
   "execution_count": 47,
   "metadata": {
    "id": "6pAEA3j1K_LI"
   },
   "outputs": [
    {
     "data": {
      "text/plain": [
       "array([1, 1, 2, 2, 2, 3])"
      ]
     },
     "execution_count": 47,
     "metadata": {},
     "output_type": "execute_result"
    }
   ],
   "source": [
    "a = np.array([0, 2, 3, 1, 0])\n",
    "np.repeat(np.arange(a.size), a)"
   ]
  },
  {
   "cell_type": "markdown",
   "metadata": {
    "id": "UrwCpfa4K_LJ"
   },
   "source": [
    "#### 75. How to compute averages using a sliding window over an array? (★★★) \n",
    "(**hint**: np.cumsum)"
   ]
  },
  {
   "cell_type": "code",
   "execution_count": 48,
   "metadata": {
    "id": "M31Gw3FvK_LK"
   },
   "outputs": [
    {
     "data": {
      "text/plain": [
       "array([2., 3., 4.])"
      ]
     },
     "execution_count": 48,
     "metadata": {},
     "output_type": "execute_result"
    }
   ],
   "source": [
    "from numpy.lib.stride_tricks import sliding_window_view\n",
    "x = np.array([1, 2, 3, 4, 5])\n",
    "sliding_window_view(x, window_shape=3).mean(axis=-1)"
   ]
  },
  {
   "cell_type": "markdown",
   "metadata": {
    "id": "4Iyuu-_TK_LK"
   },
   "source": [
    "#### 76. Consider a one-dimensional array Z, build a two-dimensional array whose first row is (Z\\[0\\],Z\\[1\\],Z\\[2\\]) and each subsequent row is  shifted by 1 (last row should be (Z\\[-3\\],Z\\[-2\\],Z\\[-1\\]) (★★★) \n",
    "(**hint**: from numpy.lib import stride_tricks)"
   ]
  },
  {
   "cell_type": "code",
   "execution_count": 49,
   "metadata": {
    "id": "ybAChxt6K_LK"
   },
   "outputs": [
    {
     "data": {
      "text/plain": [
       "array([[0, 1, 2],\n",
       "       [1, 2, 3],\n",
       "       [2, 3, 4],\n",
       "       [3, 4, 5],\n",
       "       [4, 5, 6],\n",
       "       [5, 6, 7],\n",
       "       [6, 7, 8],\n",
       "       [7, 8, 9]])"
      ]
     },
     "execution_count": 49,
     "metadata": {},
     "output_type": "execute_result"
    }
   ],
   "source": [
    "from numpy.lib.stride_tricks import sliding_window_view\n",
    "Z = np.arange(10)\n",
    "sliding_window_view(Z, window_shape=3)"
   ]
  },
  {
   "cell_type": "markdown",
   "metadata": {
    "id": "VfxKr3vmK_LK"
   },
   "source": [
    "#### 77. How to negate a boolean, or to change the sign of a float inplace? (★★★) \n",
    "(**hint**: np.logical_not, np.negative)"
   ]
  },
  {
   "cell_type": "code",
   "execution_count": 50,
   "metadata": {
    "id": "SQMQdS6tK_LL"
   },
   "outputs": [
    {
     "data": {
      "text/plain": [
       "array([False])"
      ]
     },
     "execution_count": 50,
     "metadata": {},
     "output_type": "execute_result"
    }
   ],
   "source": [
    "x = np.array([True])\n",
    "np.logical_not(x, out=x)\n",
    "x"
   ]
  },
  {
   "cell_type": "markdown",
   "metadata": {
    "id": "uQSyr5vRK_LL"
   },
   "source": [
    "#### 78. Consider 2 sets of points P0,P1 describing lines (2d) and a point p, how to compute distance from p to each line i  (P0\\[i\\],P1\\[i\\])? (★★★)"
   ]
  },
  {
   "cell_type": "code",
   "execution_count": 51,
   "metadata": {
    "id": "XPn8PM-CK_LL"
   },
   "outputs": [
    {
     "name": "stdout",
     "output_type": "stream",
     "text": [
      "[10.43484254 13.20420422 14.45622256  7.4073983   7.73094126  2.04140497\n",
      "  5.48635789  7.19478869  0.20353093  5.90284844]\n"
     ]
    }
   ],
   "source": [
    "def distance(P0, P1, p):\n",
    "    T = P1 - P0\n",
    "    L = (T**2).sum(axis=1)\n",
    "    U = -((P0[:,0]-p[...,0])*T[:,0] + (P0[:,1]-p[...,1])*T[:,1]) / L\n",
    "    U = U.reshape(len(U),1)\n",
    "    D = P0 + U*T - p\n",
    "    return np.sqrt((D**2).sum(axis=1))\n",
    "\n",
    "P0 = np.random.uniform(-10,10,(10,2))\n",
    "P1 = np.random.uniform(-10,10,(10,2))\n",
    "p  = np.random.uniform(-10,10,( 1,2))\n",
    "print(distance(P0, P1, p))"
   ]
  },
  {
   "cell_type": "markdown",
   "metadata": {
    "id": "9GuiEcgAK_LM"
   },
   "source": [
    "#### 79. Consider 2 sets of points P0,P1 describing lines (2d) and a set of points P, how to compute distance from each point j (P\\[j\\]) to each line i (P0\\[i\\],P1\\[i\\])? (★★★)"
   ]
  },
  {
   "cell_type": "code",
   "execution_count": 52,
   "metadata": {
    "id": "gpLvWkHKK_LM"
   },
   "outputs": [
    {
     "data": {
      "text/plain": [
       "array([[5.06317834e+00, 1.02252887e+01, 6.40667688e+00, 1.95046959e-01,\n",
       "        2.70659352e+00, 1.81129185e+00, 2.42311191e+00, 1.44319321e+01,\n",
       "        4.35771101e+00, 4.25448154e+00],\n",
       "       [8.80620909e+00, 1.46924733e+01, 6.35049049e+00, 4.67881771e+00,\n",
       "        6.55907513e+00, 9.51863127e-01, 2.23120219e+00, 1.35302687e+01,\n",
       "        7.42135334e+00, 8.43270934e+00],\n",
       "       [1.36038969e+01, 1.87702885e+01, 1.03878521e+01, 6.18738863e+00,\n",
       "        1.12963558e+01, 6.37960962e-01, 5.78282880e+00, 1.69692497e+01,\n",
       "        1.24159879e+01, 1.29125078e+01],\n",
       "       [2.78856756e+00, 7.83140078e+00, 5.64095761e+00, 1.70469602e+00,\n",
       "        4.04534730e-01, 2.49161949e+00, 4.78161156e+00, 1.40855379e+01,\n",
       "        2.28812629e+00, 1.88585600e+00],\n",
       "       [1.98668786e+00, 1.03645258e+01, 3.04951003e+00, 6.31083123e+00,\n",
       "        4.22752683e-03, 7.78357608e+00, 6.66309216e-01, 4.54842258e+00,\n",
       "        6.29427471e-01, 2.84524907e+00],\n",
       "       [3.30868314e+00, 4.04746184e+00, 2.97697270e+00, 2.53158318e-02,\n",
       "        5.44564719e+00, 3.88314310e+00, 7.24681488e+00, 5.81625918e+00,\n",
       "        4.96545469e+00, 3.06432615e+00],\n",
       "       [2.18691477e+00, 7.71292214e+00, 4.15497890e+00, 8.83404127e-01,\n",
       "        1.41696543e-01, 1.06889071e+00, 4.65147886e+00, 1.25588982e+01,\n",
       "        1.40722105e+00, 1.53283694e+00],\n",
       "       [4.32340383e+00, 8.84899848e+00, 7.64803531e+00, 1.96005876e+00,\n",
       "        1.88510289e+00, 3.89366858e+00, 4.06572279e+00, 1.59856856e+01,\n",
       "        4.07187500e+00, 3.16652705e+00],\n",
       "       [7.64297771e-01, 7.97886859e+00, 7.20291870e-01, 2.46301299e+00,\n",
       "        1.36676698e+00, 3.99552015e+00, 3.54385653e+00, 7.42667110e+00,\n",
       "        1.02949827e+00, 9.88286536e-01],\n",
       "       [8.86856139e+00, 3.74859735e+00, 2.04872191e-04, 9.67017799e+00,\n",
       "        1.13094291e+01, 3.83473108e+00, 1.58602644e+01, 1.03910557e+01,\n",
       "        8.76428157e+00, 9.88729608e+00]])"
      ]
     },
     "execution_count": 52,
     "metadata": {},
     "output_type": "execute_result"
    }
   ],
   "source": [
    "P0 = np.random.uniform(-10, 10, (10, 2))\n",
    "P1 = np.random.uniform(-10, 10, (10, 2))\n",
    "p = np.random.uniform(-10, 10, (10, 2))\n",
    "np.array([distance(P0, P1, p_i) for p_i in p])"
   ]
  },
  {
   "cell_type": "markdown",
   "metadata": {
    "id": "vLA--2FpK_LM"
   },
   "source": [
    "#### 80. Consider an arbitrary array, write a function that extract a subpart with a fixed shape and centered on a given element (pad with a `fill` value when necessary) (★★★) \n",
    "(**hint**: minimum, maximum)"
   ]
  },
  {
   "cell_type": "code",
   "execution_count": 53,
   "metadata": {
    "id": "LMXAmGriK_LM"
   },
   "outputs": [
    {
     "name": "stdout",
     "output_type": "stream",
     "text": [
      "[[6 8 3 7 6 1 4 8 4 7]\n",
      " [5 7 7 7 1 2 8 4 3 0]\n",
      " [2 1 4 0 4 9 7 7 9 7]\n",
      " [4 0 6 4 0 4 3 5 2 7]\n",
      " [9 3 0 7 3 1 1 1 0 1]\n",
      " [5 2 2 8 5 2 2 4 8 1]\n",
      " [2 7 1 1 5 3 6 5 1 1]\n",
      " [7 7 0 9 3 6 5 7 7 4]\n",
      " [5 2 9 6 1 1 2 3 5 8]\n",
      " [4 5 3 8 4 4 5 2 0 8]]\n",
      "[[0 0 0 0 0]\n",
      " [0 6 8 3 7]\n",
      " [0 5 7 7 7]\n",
      " [0 2 1 4 0]\n",
      " [0 4 0 6 4]]\n"
     ]
    },
    {
     "name": "stderr",
     "output_type": "stream",
     "text": [
      "C:\\Users\\Mukes\\AppData\\Local\\Temp/ipykernel_1544/1159162857.py:23: FutureWarning: Using a non-tuple sequence for multidimensional indexing is deprecated; use `arr[tuple(seq)]` instead of `arr[seq]`. In the future this will be interpreted as an array index, `arr[np.array(seq)]`, which will result either in an error or a different result.\n",
      "  R[r] = Z[z]\n"
     ]
    }
   ],
   "source": [
    "Z = np.random.randint(0,10,(10,10))\n",
    "shape = (5,5)\n",
    "fill  = 0\n",
    "position = (1,1)\n",
    "\n",
    "R = np.ones(shape, dtype=Z.dtype)*fill\n",
    "P  = np.array(list(position)).astype(int)\n",
    "Rs = np.array(list(R.shape)).astype(int)\n",
    "Zs = np.array(list(Z.shape)).astype(int)\n",
    "\n",
    "R_start = np.zeros((len(shape),)).astype(int)\n",
    "R_stop  = np.array(list(shape)).astype(int)\n",
    "Z_start = (P-Rs//2)\n",
    "Z_stop  = (P+Rs//2)+Rs%2\n",
    "\n",
    "R_start = (R_start - np.minimum(Z_start,0)).tolist()\n",
    "Z_start = (np.maximum(Z_start,0)).tolist()\n",
    "R_stop = np.maximum(R_start, (R_stop - np.maximum(Z_stop-Zs,0))).tolist()\n",
    "Z_stop = (np.minimum(Z_stop,Zs)).tolist()\n",
    "\n",
    "r = [slice(start,stop) for start,stop in zip(R_start,R_stop)]\n",
    "z = [slice(start,stop) for start,stop in zip(Z_start,Z_stop)]\n",
    "R[r] = Z[z]\n",
    "print(Z)\n",
    "print(R)"
   ]
  },
  {
   "cell_type": "markdown",
   "metadata": {
    "id": "O3WFE1d2K_LN"
   },
   "source": [
    "#### 81. Consider an array Z = \\[1,2,3,4,5,6,7,8,9,10,11,12,13,14\\], how to generate an array R = \\[\\[1,2,3,4\\], \\[2,3,4,5\\], \\[3,4,5,6\\], ..., \\[11,12,13,14\\]\\]? (★★★) \n",
    "(**hint**: stride\\_tricks.as\\_strided)"
   ]
  },
  {
   "cell_type": "code",
   "execution_count": 55,
   "metadata": {
    "id": "UALsY18IK_LN"
   },
   "outputs": [
    {
     "data": {
      "text/plain": [
       "array([[ 1,  2,  3,  4],\n",
       "       [ 2,  3,  4,  5],\n",
       "       [ 3,  4,  5,  6],\n",
       "       [ 4,  5,  6,  7],\n",
       "       [ 5,  6,  7,  8],\n",
       "       [ 6,  7,  8,  9],\n",
       "       [ 7,  8,  9, 10],\n",
       "       [ 8,  9, 10, 11],\n",
       "       [ 9, 10, 11, 12],\n",
       "       [10, 11, 12, 13],\n",
       "       [11, 12, 13, 14]], dtype=uint32)"
      ]
     },
     "execution_count": 55,
     "metadata": {},
     "output_type": "execute_result"
    }
   ],
   "source": [
    "fZ = np.arange(1, 15, dtype=np.uint32)\n",
    "sliding_window_view(Z, window_shape=4)"
   ]
  },
  {
   "cell_type": "markdown",
   "metadata": {
    "id": "J44xffo9K_LN"
   },
   "source": [
    "#### 82. Compute a matrix rank (★★★) \n",
    "(**hint**: np.linalg.svd) (suggestion: np.linalg.svd)"
   ]
  },
  {
   "cell_type": "code",
   "execution_count": 56,
   "metadata": {
    "id": "FdwFId-sK_LO"
   },
   "outputs": [
    {
     "data": {
      "text/plain": [
       "(array([[-0.48033216,  0.52376067,  0.70353094],\n",
       "        [-0.56360875,  0.4302754 , -0.70512996],\n",
       "        [-0.67203139, -0.73521279,  0.08852099]]),\n",
       " array([17.69811875,  3.72732683,  1.97069208]),\n",
       " array([[-0.60888765, -0.38377534, -0.69424226],\n",
       "        [ 0.49276611, -0.86883108,  0.04810531],\n",
       "        [ 0.62164088,  0.31280833, -0.718132  ]]))"
      ]
     },
     "execution_count": 56,
     "metadata": {},
     "output_type": "execute_result"
    }
   ],
   "source": [
    "a=np.random.randint(1,9,size=(3,3))\n",
    "np.linalg.svd(a)"
   ]
  },
  {
   "cell_type": "markdown",
   "metadata": {
    "id": "XTkZigYMK_LO"
   },
   "source": [
    "#### 83. How to find the most frequent value in an array? \n",
    "(**hint**: np.bincount, argmax)"
   ]
  },
  {
   "cell_type": "code",
   "execution_count": 57,
   "metadata": {
    "id": "Cwb6VyMTK_LP"
   },
   "outputs": [
    {
     "name": "stdout",
     "output_type": "stream",
     "text": [
      "[1 1 2 3 2 3]\n"
     ]
    },
    {
     "data": {
      "text/plain": [
       "1"
      ]
     },
     "execution_count": 57,
     "metadata": {},
     "output_type": "execute_result"
    }
   ],
   "source": [
    "a=np.random.randint(1,4,size=(6))\n",
    "print(a)\n",
    "np.bincount(a).argmax()"
   ]
  },
  {
   "cell_type": "markdown",
   "metadata": {
    "id": "JxEq_NYbK_LP"
   },
   "source": [
    "#### 84. Extract all the contiguous 3x3 blocks from a random 10x10 matrix (★★★) \n",
    "(**hint**: stride\\_tricks.as\\_strided)"
   ]
  },
  {
   "cell_type": "code",
   "execution_count": 58,
   "metadata": {
    "id": "Ty7w9YIUK_LQ"
   },
   "outputs": [
    {
     "data": {
      "text/plain": [
       "array([[[[0, 2, 1],\n",
       "         [1, 4, 4],\n",
       "         [0, 3, 0]],\n",
       "\n",
       "        [[2, 1, 0],\n",
       "         [4, 4, 0],\n",
       "         [3, 0, 3]],\n",
       "\n",
       "        [[1, 0, 2],\n",
       "         [4, 0, 3],\n",
       "         [0, 3, 1]],\n",
       "\n",
       "        [[0, 2, 0],\n",
       "         [0, 3, 0],\n",
       "         [3, 1, 2]],\n",
       "\n",
       "        [[2, 0, 1],\n",
       "         [3, 0, 3],\n",
       "         [1, 2, 4]],\n",
       "\n",
       "        [[0, 1, 4],\n",
       "         [0, 3, 2],\n",
       "         [2, 4, 2]],\n",
       "\n",
       "        [[1, 4, 2],\n",
       "         [3, 2, 1],\n",
       "         [4, 2, 1]],\n",
       "\n",
       "        [[4, 2, 4],\n",
       "         [2, 1, 1],\n",
       "         [2, 1, 2]]],\n",
       "\n",
       "\n",
       "       [[[1, 4, 4],\n",
       "         [0, 3, 0],\n",
       "         [1, 2, 0]],\n",
       "\n",
       "        [[4, 4, 0],\n",
       "         [3, 0, 3],\n",
       "         [2, 0, 0]],\n",
       "\n",
       "        [[4, 0, 3],\n",
       "         [0, 3, 1],\n",
       "         [0, 0, 0]],\n",
       "\n",
       "        [[0, 3, 0],\n",
       "         [3, 1, 2],\n",
       "         [0, 0, 0]],\n",
       "\n",
       "        [[3, 0, 3],\n",
       "         [1, 2, 4],\n",
       "         [0, 0, 3]],\n",
       "\n",
       "        [[0, 3, 2],\n",
       "         [2, 4, 2],\n",
       "         [0, 3, 4]],\n",
       "\n",
       "        [[3, 2, 1],\n",
       "         [4, 2, 1],\n",
       "         [3, 4, 3]],\n",
       "\n",
       "        [[2, 1, 1],\n",
       "         [2, 1, 2],\n",
       "         [4, 3, 2]]],\n",
       "\n",
       "\n",
       "       [[[0, 3, 0],\n",
       "         [1, 2, 0],\n",
       "         [0, 4, 3]],\n",
       "\n",
       "        [[3, 0, 3],\n",
       "         [2, 0, 0],\n",
       "         [4, 3, 3]],\n",
       "\n",
       "        [[0, 3, 1],\n",
       "         [0, 0, 0],\n",
       "         [3, 3, 4]],\n",
       "\n",
       "        [[3, 1, 2],\n",
       "         [0, 0, 0],\n",
       "         [3, 4, 0]],\n",
       "\n",
       "        [[1, 2, 4],\n",
       "         [0, 0, 3],\n",
       "         [4, 0, 0]],\n",
       "\n",
       "        [[2, 4, 2],\n",
       "         [0, 3, 4],\n",
       "         [0, 0, 4]],\n",
       "\n",
       "        [[4, 2, 1],\n",
       "         [3, 4, 3],\n",
       "         [0, 4, 0]],\n",
       "\n",
       "        [[2, 1, 2],\n",
       "         [4, 3, 2],\n",
       "         [4, 0, 3]]],\n",
       "\n",
       "\n",
       "       [[[1, 2, 0],\n",
       "         [0, 4, 3],\n",
       "         [4, 0, 3]],\n",
       "\n",
       "        [[2, 0, 0],\n",
       "         [4, 3, 3],\n",
       "         [0, 3, 1]],\n",
       "\n",
       "        [[0, 0, 0],\n",
       "         [3, 3, 4],\n",
       "         [3, 1, 2]],\n",
       "\n",
       "        [[0, 0, 0],\n",
       "         [3, 4, 0],\n",
       "         [1, 2, 3]],\n",
       "\n",
       "        [[0, 0, 3],\n",
       "         [4, 0, 0],\n",
       "         [2, 3, 1]],\n",
       "\n",
       "        [[0, 3, 4],\n",
       "         [0, 0, 4],\n",
       "         [3, 1, 0]],\n",
       "\n",
       "        [[3, 4, 3],\n",
       "         [0, 4, 0],\n",
       "         [1, 0, 1]],\n",
       "\n",
       "        [[4, 3, 2],\n",
       "         [4, 0, 3],\n",
       "         [0, 1, 4]]],\n",
       "\n",
       "\n",
       "       [[[0, 4, 3],\n",
       "         [4, 0, 3],\n",
       "         [1, 2, 2]],\n",
       "\n",
       "        [[4, 3, 3],\n",
       "         [0, 3, 1],\n",
       "         [2, 2, 0]],\n",
       "\n",
       "        [[3, 3, 4],\n",
       "         [3, 1, 2],\n",
       "         [2, 0, 0]],\n",
       "\n",
       "        [[3, 4, 0],\n",
       "         [1, 2, 3],\n",
       "         [0, 0, 3]],\n",
       "\n",
       "        [[4, 0, 0],\n",
       "         [2, 3, 1],\n",
       "         [0, 3, 0]],\n",
       "\n",
       "        [[0, 0, 4],\n",
       "         [3, 1, 0],\n",
       "         [3, 0, 4]],\n",
       "\n",
       "        [[0, 4, 0],\n",
       "         [1, 0, 1],\n",
       "         [0, 4, 0]],\n",
       "\n",
       "        [[4, 0, 3],\n",
       "         [0, 1, 4],\n",
       "         [4, 0, 4]]],\n",
       "\n",
       "\n",
       "       [[[4, 0, 3],\n",
       "         [1, 2, 2],\n",
       "         [2, 0, 0]],\n",
       "\n",
       "        [[0, 3, 1],\n",
       "         [2, 2, 0],\n",
       "         [0, 0, 1]],\n",
       "\n",
       "        [[3, 1, 2],\n",
       "         [2, 0, 0],\n",
       "         [0, 1, 2]],\n",
       "\n",
       "        [[1, 2, 3],\n",
       "         [0, 0, 3],\n",
       "         [1, 2, 0]],\n",
       "\n",
       "        [[2, 3, 1],\n",
       "         [0, 3, 0],\n",
       "         [2, 0, 4]],\n",
       "\n",
       "        [[3, 1, 0],\n",
       "         [3, 0, 4],\n",
       "         [0, 4, 1]],\n",
       "\n",
       "        [[1, 0, 1],\n",
       "         [0, 4, 0],\n",
       "         [4, 1, 0]],\n",
       "\n",
       "        [[0, 1, 4],\n",
       "         [4, 0, 4],\n",
       "         [1, 0, 3]]],\n",
       "\n",
       "\n",
       "       [[[1, 2, 2],\n",
       "         [2, 0, 0],\n",
       "         [0, 2, 2]],\n",
       "\n",
       "        [[2, 2, 0],\n",
       "         [0, 0, 1],\n",
       "         [2, 2, 2]],\n",
       "\n",
       "        [[2, 0, 0],\n",
       "         [0, 1, 2],\n",
       "         [2, 2, 0]],\n",
       "\n",
       "        [[0, 0, 3],\n",
       "         [1, 2, 0],\n",
       "         [2, 0, 2]],\n",
       "\n",
       "        [[0, 3, 0],\n",
       "         [2, 0, 4],\n",
       "         [0, 2, 1]],\n",
       "\n",
       "        [[3, 0, 4],\n",
       "         [0, 4, 1],\n",
       "         [2, 1, 1]],\n",
       "\n",
       "        [[0, 4, 0],\n",
       "         [4, 1, 0],\n",
       "         [1, 1, 1]],\n",
       "\n",
       "        [[4, 0, 4],\n",
       "         [1, 0, 3],\n",
       "         [1, 1, 2]]],\n",
       "\n",
       "\n",
       "       [[[2, 0, 0],\n",
       "         [0, 2, 2],\n",
       "         [4, 1, 4]],\n",
       "\n",
       "        [[0, 0, 1],\n",
       "         [2, 2, 2],\n",
       "         [1, 4, 4]],\n",
       "\n",
       "        [[0, 1, 2],\n",
       "         [2, 2, 0],\n",
       "         [4, 4, 0]],\n",
       "\n",
       "        [[1, 2, 0],\n",
       "         [2, 0, 2],\n",
       "         [4, 0, 1]],\n",
       "\n",
       "        [[2, 0, 4],\n",
       "         [0, 2, 1],\n",
       "         [0, 1, 2]],\n",
       "\n",
       "        [[0, 4, 1],\n",
       "         [2, 1, 1],\n",
       "         [1, 2, 0]],\n",
       "\n",
       "        [[4, 1, 0],\n",
       "         [1, 1, 1],\n",
       "         [2, 0, 2]],\n",
       "\n",
       "        [[1, 0, 3],\n",
       "         [1, 1, 2],\n",
       "         [0, 2, 3]]]])"
      ]
     },
     "execution_count": 58,
     "metadata": {},
     "output_type": "execute_result"
    }
   ],
   "source": [
    "Z = np.random.randint(0, 5, (10, 10))\n",
    "sliding_window_view(Z, window_shape=(3, 3))"
   ]
  },
  {
   "cell_type": "markdown",
   "metadata": {
    "id": "Lt1OQRaoK_LQ"
   },
   "source": [
    "#### 85. Create a 2D array subclass such that Z\\[i,j\\] == Z\\[j,i\\] (★★★) \n",
    "(**hint**: class method)"
   ]
  },
  {
   "cell_type": "code",
   "execution_count": 59,
   "metadata": {
    "id": "IDyH5cfmK_LQ"
   },
   "outputs": [
    {
     "data": {
      "text/plain": [
       "Symetric([[ 6,  5, 10,  8,  5],\n",
       "          [ 5,  2,  6,  6, 12],\n",
       "          [10,  6,  2, 42,  9],\n",
       "          [ 8,  6, 42,  2,  5],\n",
       "          [ 5, 12,  9,  5,  1]])"
      ]
     },
     "execution_count": 59,
     "metadata": {},
     "output_type": "execute_result"
    }
   ],
   "source": [
    "class Symetric(np.ndarray):\n",
    "    def __setitem__(self, index, value):\n",
    "        i, j = index\n",
    "        super(Symetric, self).__setitem__((i, j), value)\n",
    "        super(Symetric, self).__setitem__((j, i), value)\n",
    "\n",
    "\n",
    "def symetric(Z):\n",
    "    return np.asarray(Z + Z.T - np.diag(Z.diagonal())).view(Symetric)\n",
    "\n",
    "\n",
    "S = symetric(np.random.randint(0, 10, (5, 5)))\n",
    "S[2, 3] = 42\n",
    "S"
   ]
  },
  {
   "cell_type": "markdown",
   "metadata": {
    "id": "_WlJ2X3rK_LQ"
   },
   "source": [
    "#### 86. Consider a set of p matrices wich shape (n,n) and a set of p vectors with shape (n,1). How to compute the sum of of the p matrix products at once? (result has shape (n,1)) (★★★) \n",
    "(**hint**: np.tensordot)"
   ]
  },
  {
   "cell_type": "code",
   "execution_count": 60,
   "metadata": {
    "id": "QvlfchseK_LQ"
   },
   "outputs": [
    {
     "name": "stdout",
     "output_type": "stream",
     "text": [
      "[[200.]\n",
      " [200.]\n",
      " [200.]\n",
      " [200.]\n",
      " [200.]\n",
      " [200.]\n",
      " [200.]\n",
      " [200.]\n",
      " [200.]\n",
      " [200.]\n",
      " [200.]\n",
      " [200.]\n",
      " [200.]\n",
      " [200.]\n",
      " [200.]\n",
      " [200.]\n",
      " [200.]\n",
      " [200.]\n",
      " [200.]\n",
      " [200.]]\n"
     ]
    }
   ],
   "source": [
    "p, n = 10, 20\n",
    "M = np.ones((p, n, n))\n",
    "V = np.ones((p, n, 1))\n",
    "S = np.tensordot(M, V, axes=[[0, 2], [0, 1]])\n",
    "print(S)"
   ]
  },
  {
   "cell_type": "markdown",
   "metadata": {
    "id": "HdPXOjmFK_LR"
   },
   "source": [
    "#### 87. Consider a 16x16 array, how to get the block-sum (block size is 4x4)? (★★★) \n",
    "(**hint**: np.add.reduceat)"
   ]
  },
  {
   "cell_type": "code",
   "execution_count": 61,
   "metadata": {
    "id": "XHrQzLr4K_LR"
   },
   "outputs": [
    {
     "data": {
      "text/plain": [
       "array([[16., 16., 16., 16.],\n",
       "       [16., 16., 16., 16.],\n",
       "       [16., 16., 16., 16.],\n",
       "       [16., 16., 16., 16.]])"
      ]
     },
     "execution_count": 61,
     "metadata": {},
     "output_type": "execute_result"
    }
   ],
   "source": [
    "Z = np.ones((16, 16))\n",
    "k = 4\n",
    "windows = sliding_window_view(Z, (k, k))\n",
    "S = windows[::k, ::k, ...].sum(axis=(-2, -1))\n",
    "S"
   ]
  },
  {
   "cell_type": "markdown",
   "metadata": {
    "id": "wwlZAILSK_LR"
   },
   "source": [
    "#### 88. How to implement the Game of Life using numpy arrays? (★★★)"
   ]
  },
  {
   "cell_type": "code",
   "execution_count": 62,
   "metadata": {
    "id": "Nlq-pH-vK_LR"
   },
   "outputs": [
    {
     "data": {
      "text/plain": [
       "array([[0, 0, 0, 0, 0, 0, 0, 0, 0, 0, 0, 0, 0, 0, 0, 0, 0, 0, 0, 0, 0, 0,\n",
       "        0, 0, 0, 0, 0, 0, 0, 0, 0, 0, 0, 0, 0, 0, 0, 0, 0, 0, 0, 0, 0, 0,\n",
       "        0, 0, 0, 0, 0, 0],\n",
       "       [0, 0, 0, 0, 0, 0, 0, 0, 0, 0, 0, 0, 0, 0, 0, 0, 0, 0, 0, 0, 0, 0,\n",
       "        0, 0, 0, 0, 0, 0, 0, 0, 0, 0, 0, 0, 0, 0, 0, 0, 0, 0, 0, 0, 0, 0,\n",
       "        0, 0, 0, 0, 0, 0],\n",
       "       [0, 0, 0, 0, 0, 0, 0, 0, 0, 0, 0, 0, 0, 0, 0, 0, 0, 0, 0, 0, 0, 0,\n",
       "        0, 0, 0, 0, 0, 0, 0, 0, 0, 0, 0, 0, 0, 0, 0, 0, 0, 0, 0, 0, 0, 0,\n",
       "        0, 0, 0, 0, 0, 0],\n",
       "       [0, 0, 0, 0, 0, 0, 0, 0, 0, 0, 0, 0, 0, 0, 0, 0, 0, 0, 0, 0, 0, 0,\n",
       "        0, 0, 0, 0, 0, 0, 0, 0, 0, 0, 0, 0, 0, 0, 0, 0, 0, 0, 0, 0, 0, 0,\n",
       "        0, 0, 0, 0, 0, 0],\n",
       "       [0, 0, 0, 0, 0, 0, 0, 0, 0, 0, 0, 0, 0, 0, 0, 0, 0, 0, 0, 0, 0, 0,\n",
       "        0, 0, 0, 0, 0, 0, 0, 0, 0, 0, 0, 0, 0, 0, 0, 0, 0, 1, 0, 0, 0, 0,\n",
       "        0, 0, 0, 0, 0, 0],\n",
       "       [0, 0, 0, 0, 0, 0, 0, 0, 0, 0, 0, 0, 0, 0, 0, 0, 0, 0, 0, 0, 0, 0,\n",
       "        0, 0, 0, 0, 0, 0, 0, 0, 0, 0, 0, 0, 0, 0, 0, 0, 0, 1, 0, 0, 0, 0,\n",
       "        0, 0, 0, 0, 0, 0],\n",
       "       [0, 0, 0, 0, 0, 0, 0, 0, 0, 0, 0, 0, 0, 0, 0, 0, 0, 0, 0, 0, 0, 0,\n",
       "        0, 0, 0, 0, 0, 0, 0, 0, 0, 0, 0, 0, 0, 0, 0, 0, 0, 1, 0, 0, 0, 0,\n",
       "        0, 0, 0, 0, 0, 0],\n",
       "       [0, 0, 0, 0, 0, 0, 0, 0, 0, 0, 0, 0, 0, 0, 0, 0, 0, 0, 0, 0, 0, 0,\n",
       "        0, 0, 0, 0, 0, 0, 0, 1, 0, 1, 1, 0, 0, 0, 0, 0, 0, 0, 0, 0, 0, 0,\n",
       "        0, 0, 0, 0, 0, 0],\n",
       "       [0, 0, 0, 0, 0, 0, 0, 0, 0, 0, 0, 0, 0, 0, 0, 0, 0, 0, 0, 0, 0, 0,\n",
       "        0, 0, 0, 0, 0, 0, 1, 1, 1, 1, 1, 0, 0, 0, 0, 0, 0, 0, 0, 0, 0, 0,\n",
       "        0, 0, 0, 0, 0, 0],\n",
       "       [0, 0, 0, 0, 0, 0, 0, 0, 0, 0, 0, 0, 0, 0, 0, 0, 0, 0, 0, 0, 0, 0,\n",
       "        0, 0, 0, 0, 1, 1, 0, 0, 0, 0, 0, 0, 1, 0, 0, 0, 0, 0, 0, 0, 0, 0,\n",
       "        0, 0, 0, 0, 0, 0],\n",
       "       [0, 0, 0, 0, 0, 0, 0, 0, 0, 0, 0, 0, 0, 0, 0, 0, 0, 0, 0, 0, 0, 0,\n",
       "        0, 0, 0, 0, 1, 1, 0, 0, 0, 0, 0, 0, 1, 0, 0, 0, 0, 0, 0, 0, 0, 0,\n",
       "        0, 0, 0, 0, 0, 0],\n",
       "       [0, 0, 0, 0, 0, 0, 0, 0, 0, 0, 0, 0, 0, 0, 0, 0, 0, 0, 0, 0, 0, 0,\n",
       "        0, 0, 0, 0, 1, 1, 0, 0, 0, 1, 0, 0, 1, 0, 0, 0, 0, 0, 0, 0, 0, 0,\n",
       "        0, 0, 0, 0, 0, 0],\n",
       "       [0, 0, 0, 0, 0, 0, 0, 0, 0, 0, 0, 0, 0, 0, 0, 0, 0, 0, 0, 0, 0, 0,\n",
       "        1, 1, 0, 0, 0, 0, 1, 1, 0, 0, 1, 1, 0, 0, 0, 0, 0, 0, 0, 0, 0, 0,\n",
       "        0, 0, 0, 0, 0, 0],\n",
       "       [0, 0, 0, 0, 0, 0, 0, 0, 0, 0, 0, 0, 0, 0, 0, 0, 0, 0, 0, 0, 0, 1,\n",
       "        0, 0, 1, 0, 0, 0, 0, 1, 1, 1, 0, 0, 0, 0, 0, 0, 0, 0, 0, 0, 0, 0,\n",
       "        0, 0, 0, 0, 0, 0],\n",
       "       [0, 0, 0, 0, 0, 0, 0, 0, 0, 0, 0, 0, 0, 1, 1, 0, 0, 0, 0, 0, 0, 1,\n",
       "        1, 1, 0, 0, 0, 0, 0, 1, 1, 1, 0, 0, 0, 0, 0, 0, 0, 0, 0, 0, 0, 0,\n",
       "        0, 0, 0, 0, 0, 0],\n",
       "       [0, 0, 0, 0, 0, 0, 0, 0, 0, 0, 0, 0, 1, 0, 0, 1, 0, 0, 0, 0, 0, 0,\n",
       "        1, 1, 0, 0, 0, 0, 0, 0, 0, 0, 0, 0, 0, 0, 0, 0, 0, 0, 0, 0, 0, 0,\n",
       "        0, 0, 0, 0, 0, 0],\n",
       "       [0, 0, 0, 0, 0, 0, 0, 0, 0, 0, 0, 0, 0, 1, 0, 1, 0, 0, 0, 0, 0, 0,\n",
       "        0, 1, 0, 0, 0, 0, 0, 0, 0, 0, 0, 0, 0, 0, 0, 0, 0, 0, 0, 0, 0, 0,\n",
       "        0, 0, 0, 0, 0, 0],\n",
       "       [0, 0, 0, 0, 0, 0, 0, 0, 0, 0, 0, 0, 0, 0, 1, 0, 0, 0, 0, 0, 0, 0,\n",
       "        0, 0, 1, 1, 0, 0, 0, 0, 0, 0, 0, 0, 0, 0, 0, 0, 0, 0, 0, 0, 0, 0,\n",
       "        0, 0, 0, 0, 0, 0],\n",
       "       [0, 0, 0, 0, 0, 0, 0, 0, 0, 0, 0, 0, 0, 0, 0, 0, 0, 0, 0, 0, 0, 0,\n",
       "        0, 1, 1, 1, 0, 0, 0, 0, 0, 0, 0, 0, 0, 0, 0, 0, 0, 0, 0, 0, 0, 0,\n",
       "        0, 0, 0, 0, 0, 0],\n",
       "       [0, 0, 0, 0, 0, 0, 0, 0, 0, 0, 0, 0, 0, 0, 0, 0, 0, 0, 0, 0, 0, 0,\n",
       "        0, 0, 0, 0, 0, 0, 0, 0, 0, 0, 0, 0, 0, 0, 0, 0, 0, 0, 0, 0, 0, 0,\n",
       "        0, 0, 0, 0, 0, 0],\n",
       "       [0, 0, 0, 0, 0, 0, 0, 0, 0, 0, 0, 0, 0, 0, 0, 0, 0, 0, 0, 0, 1, 1,\n",
       "        0, 0, 0, 0, 0, 0, 0, 0, 0, 0, 0, 0, 0, 0, 0, 0, 0, 0, 0, 0, 0, 0,\n",
       "        0, 0, 0, 0, 0, 0],\n",
       "       [0, 0, 0, 0, 0, 0, 0, 0, 1, 1, 1, 0, 0, 0, 0, 0, 0, 0, 0, 0, 1, 1,\n",
       "        0, 0, 0, 0, 0, 0, 0, 0, 0, 0, 0, 0, 0, 0, 0, 0, 0, 0, 0, 0, 0, 0,\n",
       "        0, 0, 0, 0, 0, 0],\n",
       "       [0, 0, 0, 0, 0, 0, 0, 1, 1, 1, 1, 0, 1, 0, 0, 0, 0, 0, 0, 0, 0, 0,\n",
       "        0, 0, 0, 0, 0, 1, 0, 0, 0, 0, 0, 0, 0, 0, 0, 0, 0, 0, 0, 0, 0, 0,\n",
       "        0, 0, 0, 0, 0, 0],\n",
       "       [0, 0, 0, 0, 0, 0, 1, 1, 1, 1, 1, 1, 0, 1, 1, 0, 0, 0, 0, 0, 0, 0,\n",
       "        0, 0, 0, 0, 0, 1, 0, 0, 0, 0, 0, 0, 0, 0, 0, 0, 0, 0, 0, 0, 0, 0,\n",
       "        0, 0, 0, 0, 0, 0],\n",
       "       [0, 0, 0, 0, 0, 0, 1, 0, 0, 0, 0, 0, 1, 1, 0, 0, 0, 0, 0, 0, 0, 0,\n",
       "        0, 0, 0, 0, 0, 1, 0, 0, 0, 0, 0, 0, 0, 0, 0, 0, 0, 0, 0, 0, 0, 0,\n",
       "        0, 0, 0, 0, 0, 0],\n",
       "       [0, 0, 0, 0, 0, 0, 0, 0, 1, 1, 0, 1, 1, 1, 0, 0, 0, 0, 0, 0, 0, 0,\n",
       "        0, 0, 0, 0, 0, 0, 0, 0, 0, 0, 0, 0, 0, 0, 0, 0, 0, 0, 0, 0, 0, 0,\n",
       "        0, 0, 0, 0, 0, 0],\n",
       "       [0, 0, 0, 0, 0, 0, 0, 1, 1, 0, 1, 0, 1, 1, 0, 0, 0, 0, 0, 0, 0, 0,\n",
       "        0, 0, 0, 0, 0, 0, 0, 0, 0, 0, 0, 0, 0, 0, 0, 0, 0, 0, 0, 0, 0, 0,\n",
       "        0, 0, 0, 0, 0, 0],\n",
       "       [0, 0, 0, 1, 1, 0, 1, 0, 0, 0, 0, 0, 0, 0, 1, 0, 0, 0, 0, 0, 0, 0,\n",
       "        0, 0, 1, 1, 0, 0, 0, 0, 0, 0, 0, 0, 1, 0, 1, 0, 0, 0, 0, 0, 0, 0,\n",
       "        0, 0, 0, 0, 0, 0],\n",
       "       [0, 0, 0, 0, 1, 0, 1, 1, 0, 0, 1, 0, 0, 0, 0, 1, 0, 0, 0, 0, 0, 0,\n",
       "        0, 0, 1, 0, 1, 1, 1, 0, 1, 0, 0, 0, 1, 0, 0, 1, 0, 0, 0, 0, 0, 0,\n",
       "        0, 0, 0, 0, 0, 0],\n",
       "       [0, 0, 0, 0, 0, 1, 0, 0, 0, 0, 0, 1, 1, 0, 0, 0, 1, 0, 0, 0, 0, 0,\n",
       "        1, 0, 0, 0, 0, 0, 1, 0, 1, 1, 0, 0, 1, 0, 1, 0, 0, 0, 0, 0, 0, 0,\n",
       "        0, 0, 0, 0, 0, 0],\n",
       "       [0, 0, 0, 0, 0, 0, 1, 0, 0, 0, 0, 0, 1, 0, 0, 0, 1, 0, 0, 0, 0, 1,\n",
       "        1, 1, 1, 1, 1, 1, 0, 0, 1, 0, 0, 0, 0, 0, 0, 0, 0, 0, 0, 0, 0, 0,\n",
       "        0, 0, 0, 0, 0, 0],\n",
       "       [0, 0, 0, 0, 0, 0, 1, 0, 0, 1, 0, 1, 1, 0, 0, 0, 1, 0, 0, 0, 1, 0,\n",
       "        0, 1, 1, 0, 0, 0, 1, 1, 0, 0, 0, 0, 0, 0, 0, 0, 0, 0, 0, 0, 0, 0,\n",
       "        0, 0, 0, 0, 0, 0],\n",
       "       [0, 0, 0, 0, 0, 0, 0, 0, 1, 0, 0, 1, 0, 0, 0, 1, 0, 0, 0, 0, 1, 1,\n",
       "        0, 0, 0, 0, 0, 0, 0, 0, 0, 0, 0, 0, 0, 0, 0, 0, 0, 0, 0, 0, 0, 0,\n",
       "        0, 0, 0, 0, 0, 0],\n",
       "       [0, 0, 0, 0, 0, 0, 0, 0, 0, 0, 0, 0, 1, 1, 1, 0, 0, 0, 0, 0, 0, 0,\n",
       "        0, 0, 0, 0, 0, 0, 0, 0, 0, 0, 0, 0, 1, 1, 1, 0, 0, 0, 0, 0, 0, 0,\n",
       "        0, 0, 0, 0, 0, 0],\n",
       "       [0, 0, 0, 0, 0, 0, 0, 0, 0, 0, 0, 0, 0, 0, 0, 0, 0, 1, 0, 0, 0, 0,\n",
       "        0, 0, 0, 0, 0, 1, 1, 0, 0, 0, 0, 0, 0, 0, 0, 0, 0, 0, 0, 0, 0, 0,\n",
       "        0, 0, 0, 0, 0, 0],\n",
       "       [0, 0, 1, 1, 0, 0, 0, 0, 0, 0, 0, 0, 0, 0, 1, 0, 1, 1, 0, 0, 0, 0,\n",
       "        0, 0, 0, 0, 1, 0, 1, 0, 0, 0, 0, 0, 0, 0, 0, 0, 0, 0, 0, 0, 0, 0,\n",
       "        0, 0, 0, 0, 0, 0],\n",
       "       [0, 1, 0, 0, 1, 0, 0, 0, 0, 0, 0, 0, 0, 0, 1, 1, 0, 0, 0, 0, 0, 1,\n",
       "        0, 0, 0, 1, 1, 1, 0, 0, 0, 0, 0, 0, 0, 0, 0, 0, 0, 0, 0, 0, 0, 0,\n",
       "        0, 0, 0, 0, 0, 0],\n",
       "       [0, 0, 1, 1, 0, 0, 0, 0, 0, 0, 0, 0, 0, 0, 0, 0, 0, 0, 0, 0, 0, 0,\n",
       "        1, 0, 0, 0, 1, 1, 0, 0, 0, 1, 1, 0, 0, 0, 0, 0, 0, 0, 0, 0, 0, 0,\n",
       "        0, 0, 0, 0, 0, 0],\n",
       "       [0, 0, 0, 0, 0, 0, 0, 0, 0, 0, 0, 0, 0, 0, 0, 1, 0, 1, 1, 0, 0, 0,\n",
       "        1, 1, 0, 0, 0, 1, 1, 1, 1, 1, 0, 0, 0, 0, 0, 0, 0, 0, 0, 0, 0, 0,\n",
       "        0, 0, 0, 0, 0, 0],\n",
       "       [0, 0, 0, 0, 0, 0, 0, 0, 0, 0, 0, 0, 0, 0, 0, 1, 1, 0, 1, 1, 1, 0,\n",
       "        1, 0, 0, 0, 0, 0, 1, 1, 1, 0, 0, 0, 0, 1, 1, 1, 0, 0, 0, 0, 0, 0,\n",
       "        0, 0, 0, 0, 0, 0],\n",
       "       [0, 0, 0, 0, 0, 0, 0, 0, 0, 0, 0, 0, 0, 0, 0, 0, 0, 0, 0, 0, 0, 1,\n",
       "        0, 0, 0, 0, 0, 0, 0, 1, 0, 0, 0, 0, 0, 0, 1, 1, 0, 0, 0, 0, 0, 0,\n",
       "        0, 0, 0, 0, 0, 0],\n",
       "       [0, 0, 0, 0, 0, 0, 0, 0, 0, 0, 0, 0, 0, 0, 0, 0, 0, 0, 0, 1, 1, 0,\n",
       "        0, 0, 0, 0, 0, 0, 0, 0, 0, 0, 0, 0, 0, 1, 1, 1, 0, 0, 0, 0, 0, 0,\n",
       "        0, 0, 0, 0, 0, 0],\n",
       "       [0, 0, 0, 0, 0, 0, 0, 0, 0, 0, 0, 1, 0, 0, 0, 0, 0, 0, 0, 0, 0, 0,\n",
       "        0, 0, 0, 0, 0, 0, 0, 0, 0, 0, 0, 0, 1, 0, 0, 1, 0, 0, 0, 0, 0, 0,\n",
       "        0, 0, 0, 0, 0, 0],\n",
       "       [0, 0, 0, 0, 0, 0, 0, 0, 0, 0, 1, 0, 1, 0, 0, 0, 0, 0, 0, 0, 0, 0,\n",
       "        0, 0, 0, 0, 0, 0, 0, 1, 1, 0, 0, 0, 0, 1, 1, 1, 0, 0, 0, 0, 0, 0,\n",
       "        0, 0, 0, 0, 0, 0],\n",
       "       [0, 0, 0, 0, 0, 0, 0, 0, 0, 1, 0, 0, 1, 0, 0, 0, 0, 0, 0, 0, 0, 0,\n",
       "        0, 0, 0, 1, 1, 0, 0, 1, 1, 0, 0, 0, 0, 0, 1, 0, 0, 0, 0, 0, 0, 0,\n",
       "        0, 0, 0, 0, 0, 0],\n",
       "       [0, 0, 0, 0, 0, 0, 0, 0, 0, 0, 1, 1, 0, 0, 0, 0, 0, 0, 0, 0, 0, 0,\n",
       "        0, 0, 1, 0, 1, 0, 0, 0, 0, 0, 0, 0, 0, 0, 0, 0, 0, 0, 0, 0, 0, 0,\n",
       "        0, 0, 0, 0, 0, 0],\n",
       "       [0, 0, 0, 0, 0, 0, 0, 0, 0, 0, 0, 0, 0, 0, 0, 0, 0, 0, 0, 0, 0, 0,\n",
       "        0, 0, 1, 0, 0, 0, 0, 1, 1, 0, 0, 0, 0, 0, 0, 0, 0, 0, 0, 0, 0, 0,\n",
       "        0, 0, 0, 0, 0, 0],\n",
       "       [0, 0, 0, 0, 0, 0, 0, 0, 0, 0, 0, 0, 0, 0, 0, 0, 0, 0, 0, 0, 0, 0,\n",
       "        0, 0, 1, 1, 1, 0, 1, 0, 0, 1, 0, 0, 0, 0, 0, 0, 0, 0, 0, 0, 0, 0,\n",
       "        0, 0, 0, 0, 0, 0],\n",
       "       [0, 0, 0, 0, 0, 0, 0, 0, 0, 0, 0, 0, 0, 0, 0, 0, 0, 0, 0, 0, 0, 0,\n",
       "        0, 0, 0, 0, 0, 0, 0, 1, 1, 0, 0, 0, 0, 0, 0, 0, 0, 0, 0, 0, 0, 0,\n",
       "        0, 0, 0, 0, 0, 0],\n",
       "       [0, 0, 0, 0, 0, 0, 0, 0, 0, 0, 0, 0, 0, 0, 0, 0, 0, 0, 0, 0, 0, 0,\n",
       "        0, 0, 0, 0, 0, 0, 0, 0, 0, 0, 0, 0, 0, 0, 0, 0, 0, 0, 0, 0, 0, 0,\n",
       "        0, 0, 0, 0, 0, 0]])"
      ]
     },
     "execution_count": 62,
     "metadata": {},
     "output_type": "execute_result"
    }
   ],
   "source": [
    "def iterate(Z):\n",
    "    # Count neighbours\n",
    "    N = (Z[0:-2, 0:-2] + Z[0:-2, 1:-1] + Z[0:-2, 2:] +\n",
    "         Z[1:-1, 0:-2] + Z[1:-1, 2:] +\n",
    "         Z[2:, 0:-2] + Z[2:, 1:-1] + Z[2:, 2:])\n",
    "\n",
    "    # Apply rules\n",
    "    birth = (N == 3) & (Z[1:-1, 1:-1] == 0)\n",
    "    survive = ((N == 2) | (N == 3)) & (Z[1:-1, 1:-1] == 1)\n",
    "    Z[...] = 0\n",
    "    Z[1:-1, 1:-1][birth | survive] = 1\n",
    "    return Z\n",
    "\n",
    "\n",
    "Z = np.random.randint(0, 2, (50, 50))\n",
    "for i in range(100):\n",
    "    Z = iterate(Z)\n",
    "Z"
   ]
  },
  {
   "cell_type": "markdown",
   "metadata": {
    "id": "AGI3_sd_K_LS"
   },
   "source": [
    "#### 89. How to get the n largest values of an array (★★★) \n",
    "(**hint**: np.argsort | np.argpartition)"
   ]
  },
  {
   "cell_type": "code",
   "execution_count": 63,
   "metadata": {
    "id": "vxIBw3vpK_LS"
   },
   "outputs": [
    {
     "data": {
      "text/plain": [
       "array([9995, 9996, 9997, 9998, 9999])"
      ]
     },
     "execution_count": 63,
     "metadata": {},
     "output_type": "execute_result"
    }
   ],
   "source": [
    "Z = np.arange(10000)\n",
    "np.random.shuffle(Z)\n",
    "n = 5\n",
    "\n",
    "Z[np.argsort(Z)[-n:]]"
   ]
  },
  {
   "cell_type": "markdown",
   "metadata": {
    "id": "XVGgQxrCK_LS"
   },
   "source": [
    "#### 90. Given an arbitrary number of vectors, build the cartesian product (every combinations of every item) (★★★) \n",
    "(**hint**: np.indices)"
   ]
  },
  {
   "cell_type": "code",
   "execution_count": 64,
   "metadata": {
    "id": "6gyFrxROK_LT",
    "scrolled": true
   },
   "outputs": [
    {
     "data": {
      "text/plain": [
       "array([[1, 4, 6],\n",
       "       [1, 4, 7],\n",
       "       [1, 5, 6],\n",
       "       [1, 5, 7],\n",
       "       [2, 4, 6],\n",
       "       [2, 4, 7],\n",
       "       [2, 5, 6],\n",
       "       [2, 5, 7],\n",
       "       [3, 4, 6],\n",
       "       [3, 4, 7],\n",
       "       [3, 5, 6],\n",
       "       [3, 5, 7]])"
      ]
     },
     "execution_count": 64,
     "metadata": {},
     "output_type": "execute_result"
    }
   ],
   "source": [
    "def cartesian(arrays):\n",
    "    arrays = [np.asarray(a) for a in arrays]\n",
    "    shape = (len(x) for x in arrays)\n",
    "\n",
    "    ix = np.indices(shape, dtype=int)\n",
    "    ix = ix.reshape(len(arrays), -1).T\n",
    "\n",
    "    for n, arr in enumerate(arrays):\n",
    "        ix[:, n] = arrays[n][ix[:, n]]\n",
    "\n",
    "    return ix\n",
    "\n",
    "\n",
    "cartesian(([1, 2, 3], [4, 5], [6, 7]))"
   ]
  },
  {
   "cell_type": "markdown",
   "metadata": {
    "id": "GYe7gNtXK_LT"
   },
   "source": [
    "#### 91. How to create a record array from a regular array? (★★★) \n",
    "(**hint**: np.core.records.fromarrays)"
   ]
  },
  {
   "cell_type": "code",
   "execution_count": 65,
   "metadata": {
    "id": "KnwnHjvQK_LT"
   },
   "outputs": [
    {
     "data": {
      "text/plain": [
       "rec.array([(b'Hello', 2.5, 3), (b'World', 3.6, 2)],\n",
       "          dtype=[('col1', 'S8'), ('col2', '<f8'), ('col3', '<i8')])"
      ]
     },
     "execution_count": 65,
     "metadata": {},
     "output_type": "execute_result"
    }
   ],
   "source": [
    "Z = np.array([(\"Hello\", 2.5, 3),\n",
    "              (\"World\", 3.6, 2)])\n",
    "R = np.core.records.fromarrays(Z.T,\n",
    "                               names='col1, col2, col3',\n",
    "                               formats='S8, f8, i8')\n",
    "R"
   ]
  },
  {
   "cell_type": "markdown",
   "metadata": {
    "id": "danB6mvdK_LT"
   },
   "source": [
    "#### 92. Consider a large vector Z, compute Z to the power of 3 using 3 different methods (★★★) \n",
    "(**hint**: np.power, \\*, np.einsum)"
   ]
  },
  {
   "cell_type": "code",
   "execution_count": null,
   "metadata": {
    "id": "yiqLeA8sK_LU"
   },
   "outputs": [],
   "source": [
    "x = np.random.rand(int(5e7))\n",
    "\n",
    "np.power(x, 3)\n",
    "x*x*x\n",
    "np.einsum('i,i,i->i', x, x, x)"
   ]
  },
  {
   "cell_type": "markdown",
   "metadata": {
    "id": "0cfsSUIBK_LU"
   },
   "source": [
    "#### 93. Consider two arrays A and B of shape (8,3) and (2,2). How to find rows of A that contain elements of each row of B regardless of the order of the elements in B? (★★★) \n",
    "(**hint**: np.where)"
   ]
  },
  {
   "cell_type": "code",
   "execution_count": 67,
   "metadata": {
    "id": "89Fy2FG5K_LU"
   },
   "outputs": [
    {
     "data": {
      "text/plain": [
       "array([0, 1, 2, 3, 4, 5, 6, 7], dtype=int64)"
      ]
     },
     "execution_count": 67,
     "metadata": {},
     "output_type": "execute_result"
    }
   ],
   "source": [
    "A = np.random.randint(0, 5, (8, 3))\n",
    "B = np.random.randint(0, 5, (2, 2))\n",
    "\n",
    "C = (A[..., np.newaxis, np.newaxis] == B)\n",
    "rows = np.where(C.any((3, 1)).all(1))[0]\n",
    "rows"
   ]
  },
  {
   "cell_type": "markdown",
   "metadata": {
    "id": "Uyt0KJX9K_LU"
   },
   "source": [
    "#### 94. Considering a 10x3 matrix, extract rows with unequal values (e.g. \\[2,2,3\\]) (★★★)"
   ]
  },
  {
   "cell_type": "code",
   "execution_count": 68,
   "metadata": {
    "id": "pZjI2lkAK_LV"
   },
   "outputs": [
    {
     "name": "stdout",
     "output_type": "stream",
     "text": [
      "[[0 1 1]\n",
      " [4 4 4]\n",
      " [2 1 3]\n",
      " [3 3 4]\n",
      " [3 2 0]\n",
      " [2 3 3]\n",
      " [3 4 1]\n",
      " [4 3 3]\n",
      " [2 3 0]\n",
      " [2 3 3]]\n",
      "[[0 1 1]\n",
      " [2 1 3]\n",
      " [3 3 4]\n",
      " [3 2 0]\n",
      " [2 3 3]\n",
      " [3 4 1]\n",
      " [4 3 3]\n",
      " [2 3 0]\n",
      " [2 3 3]]\n"
     ]
    },
    {
     "data": {
      "text/plain": [
       "array([[0, 1, 1],\n",
       "       [2, 1, 3],\n",
       "       [3, 3, 4],\n",
       "       [3, 2, 0],\n",
       "       [2, 3, 3],\n",
       "       [3, 4, 1],\n",
       "       [4, 3, 3],\n",
       "       [2, 3, 0],\n",
       "       [2, 3, 3]])"
      ]
     },
     "execution_count": 68,
     "metadata": {},
     "output_type": "execute_result"
    }
   ],
   "source": [
    "Z = np.random.randint(0, 5, (10, 3))\n",
    "print(Z)\n",
    "E = np.all(Z[:, 1:] == Z[:, :-1], axis=1)\n",
    "U = Z[~E]\n",
    "print(U)\n",
    "U = Z[Z.max(axis=1) != Z.min(axis=1), :]\n",
    "U"
   ]
  },
  {
   "cell_type": "markdown",
   "metadata": {
    "id": "xmQ9rZR5K_LV"
   },
   "source": [
    "#### 95. Convert a vector of ints into a matrix binary representation (★★★) \n",
    "(**hint**: np.unpackbits)"
   ]
  },
  {
   "cell_type": "code",
   "execution_count": 69,
   "metadata": {
    "id": "AmrcuhFhK_LV"
   },
   "outputs": [
    {
     "data": {
      "text/plain": [
       "array([[0, 0, 0, 0, 0, 0, 0, 0],\n",
       "       [0, 0, 0, 0, 0, 0, 0, 1],\n",
       "       [0, 0, 0, 0, 0, 0, 1, 0],\n",
       "       [0, 0, 0, 0, 0, 0, 1, 1],\n",
       "       [0, 0, 0, 0, 1, 1, 1, 1],\n",
       "       [0, 0, 0, 1, 0, 0, 0, 0],\n",
       "       [0, 0, 1, 0, 0, 0, 0, 0],\n",
       "       [0, 1, 0, 0, 0, 0, 0, 0],\n",
       "       [1, 0, 0, 0, 0, 0, 0, 0]])"
      ]
     },
     "execution_count": 69,
     "metadata": {},
     "output_type": "execute_result"
    }
   ],
   "source": [
    "I = np.array([0, 1, 2, 3, 15, 16, 32, 64, 128])\n",
    "B = ((I.reshape(-1, 1) & (2**np.arange(8))) != 0).astype(int)\n",
    "B[:, ::-1]"
   ]
  },
  {
   "cell_type": "markdown",
   "metadata": {
    "id": "jVQUNsRdK_LV"
   },
   "source": [
    "#### 96. Given a two dimensional array, how to extract unique rows? (★★★) \n",
    "(**hint**: np.ascontiguousarray)"
   ]
  },
  {
   "cell_type": "code",
   "execution_count": 70,
   "metadata": {
    "id": "u8cIaZizK_LV"
   },
   "outputs": [
    {
     "data": {
      "text/plain": [
       "array([[0, 0, 0],\n",
       "       [0, 1, 0],\n",
       "       [1, 0, 1],\n",
       "       [1, 1, 0]])"
      ]
     },
     "execution_count": 70,
     "metadata": {},
     "output_type": "execute_result"
    }
   ],
   "source": [
    "Z = np.random.randint(0, 2, (6, 3))\n",
    "T = np.ascontiguousarray(Z).view(\n",
    "    np.dtype((np.void, Z.dtype.itemsize * Z.shape[1])))\n",
    "_, idx = np.unique(T, return_index=True)\n",
    "uZ = Z[idx]\n",
    "uZ"
   ]
  },
  {
   "cell_type": "markdown",
   "metadata": {
    "id": "AidgA2x5K_LV"
   },
   "source": [
    "#### 97. Considering 2 vectors A & B, write the einsum equivalent of inner, outer, sum, and mul function (★★★) \n",
    "(**hint**: np.einsum)"
   ]
  },
  {
   "cell_type": "code",
   "execution_count": 71,
   "metadata": {
    "id": "Hfxhgkg0K_LW"
   },
   "outputs": [
    {
     "data": {
      "text/plain": [
       "array([[0.05106885, 0.2581403 , 0.32921329, 0.26688651, 0.06406908,\n",
       "        0.25069024, 0.36819259, 0.33508181, 0.05831624, 0.1460052 ],\n",
       "       [0.07831769, 0.39587641, 0.50487185, 0.40928934, 0.09825446,\n",
       "        0.3844512 , 0.56464937, 0.51387164, 0.08943207, 0.22390929],\n",
       "       [0.03218072, 0.16266553, 0.20745173, 0.16817689, 0.04037274,\n",
       "        0.15797091, 0.2320143 , 0.21114974, 0.03674762, 0.09200428],\n",
       "       [0.05920525, 0.29926777, 0.38166426, 0.30940745, 0.0742767 ,\n",
       "        0.29063075, 0.42685383, 0.38846776, 0.06760731, 0.16926706],\n",
       "       [0.06563208, 0.33175378, 0.42309453, 0.34299413, 0.08233956,\n",
       "        0.32217919, 0.47318951, 0.43063657, 0.07494619, 0.18764127],\n",
       "       [0.06510828, 0.32910611, 0.41971789, 0.34025675, 0.08168242,\n",
       "        0.31960793, 0.46941306, 0.42719973, 0.07434806, 0.18614374],\n",
       "       [0.09688978, 0.48975366, 0.62459604, 0.5063473 , 0.12155431,\n",
       "        0.47561911, 0.69854908, 0.63573002, 0.1106398 , 0.27700664],\n",
       "       [0.02436091, 0.12313832, 0.15704162, 0.12731045, 0.03056229,\n",
       "        0.11958448, 0.17563556, 0.15984103, 0.02781806, 0.06964753],\n",
       "       [0.09936889, 0.50228497, 0.64057755, 0.51930319, 0.12466451,\n",
       "        0.48778875, 0.71642282, 0.65199642, 0.11347073, 0.2840944 ],\n",
       "       [0.07087845, 0.35827288, 0.45691506, 0.37041174, 0.08892146,\n",
       "        0.34793293, 0.51101443, 0.46505998, 0.0809371 , 0.20264058]])"
      ]
     },
     "execution_count": 71,
     "metadata": {},
     "output_type": "execute_result"
    }
   ],
   "source": [
    "A = np.random.uniform(0, 1, 10)\n",
    "B = np.random.uniform(0, 1, 10)\n",
    "\n",
    "np.einsum('i->', A)       # np.sum(A)\n",
    "np.einsum('i,i->i', A, B)  # A * B\n",
    "np.einsum('i,i', A, B)    # np.inner(A, B)\n",
    "np.einsum('i,j->ij', A, B)"
   ]
  },
  {
   "cell_type": "markdown",
   "metadata": {
    "id": "UoNcvVTCK_LW"
   },
   "source": [
    "#### 98. Considering a path described by two vectors (X,Y), how to sample it using equidistant samples (★★★)? \n",
    "(**hint**: np.cumsum, np.interp)"
   ]
  },
  {
   "cell_type": "code",
   "execution_count": 72,
   "metadata": {
    "id": "DPlpSNpoK_LW"
   },
   "outputs": [],
   "source": [
    "phi = np.arange(0, 10*np.pi, 0.1)\n",
    "a = 1\n",
    "x = a*phi*np.cos(phi)\n",
    "y = a*phi*np.sin(phi)\n",
    "\n",
    "dr = (np.diff(x)**2 + np.diff(y)**2)**.5  # segment lengths\n",
    "r = np.zeros_like(x)\n",
    "r[1:] = np.cumsum(dr)                # integrate path\n",
    "r_int = np.linspace(0, r.max(), 200)  # regular spaced path\n",
    "x_int = np.interp(r_int, r, x)       # integrate path\n",
    "y_int = np.interp(r_int, r, y)"
   ]
  },
  {
   "cell_type": "markdown",
   "metadata": {
    "id": "UzmYCowAK_LW"
   },
   "source": [
    "#### 99. Given an integer n and a 2D array X, select from X the rows which can be interpreted as draws from a multinomial distribution with n degrees, i.e., the rows which only contain integers and which sum to n. (★★★) \n",
    "(**hint**: np.logical\\_and.reduce, np.mod)"
   ]
  },
  {
   "cell_type": "code",
   "execution_count": 73,
   "metadata": {
    "id": "NUOfTdcoK_LW"
   },
   "outputs": [
    {
     "data": {
      "text/plain": [
       "array([[2., 0., 1., 1.]])"
      ]
     },
     "execution_count": 73,
     "metadata": {},
     "output_type": "execute_result"
    }
   ],
   "source": [
    "X = np.asarray([[1.0, 0.0, 3.0, 8.0],\n",
    "                [2.0, 0.0, 1.0, 1.0],\n",
    "                [1.5, 2.5, 1.0, 0.0]])\n",
    "n = 4\n",
    "M = np.logical_and.reduce(np.mod(X, 1) == 0, axis=-1)\n",
    "M &= (X.sum(axis=-1) == n)\n",
    "X[M]"
   ]
  },
  {
   "cell_type": "markdown",
   "metadata": {
    "id": "VNhsYtSEK_LW"
   },
   "source": [
    "#### 100. Compute bootstrapped 95% confidence intervals for the mean of a 1D array X (i.e., resample the elements of an array with replacement N times, compute the mean of each sample, and then compute percentiles over the means). (★★★) \n",
    "(**hint**: np.percentile)"
   ]
  },
  {
   "cell_type": "code",
   "execution_count": 74,
   "metadata": {
    "id": "JgxdccqWK_LX"
   },
   "outputs": [
    {
     "data": {
      "text/plain": [
       "array([-0.14050785,  0.23108667])"
      ]
     },
     "execution_count": 74,
     "metadata": {},
     "output_type": "execute_result"
    }
   ],
   "source": [
    "X = np.random.randn(100)  # random 1D array\n",
    "N = 1000  # number of bootstrap samples\n",
    "idx = np.random.randint(0, X.size, (N, X.size))\n",
    "means = X[idx].mean(axis=1)\n",
    "confint = np.percentile(means, [2.5, 97.5])\n",
    "confint"
   ]
  }
 ],
 "metadata": {
  "colab": {
   "name": "Numpy_tasks.ipynb",
   "provenance": []
  },
  "kernelspec": {
   "display_name": "Python 3 (ipykernel)",
   "language": "python",
   "name": "python3"
  },
  "language_info": {
   "codemirror_mode": {
    "name": "ipython",
    "version": 3
   },
   "file_extension": ".py",
   "mimetype": "text/x-python",
   "name": "python",
   "nbconvert_exporter": "python",
   "pygments_lexer": "ipython3",
   "version": "3.9.7"
  }
 },
 "nbformat": 4,
 "nbformat_minor": 1
}
